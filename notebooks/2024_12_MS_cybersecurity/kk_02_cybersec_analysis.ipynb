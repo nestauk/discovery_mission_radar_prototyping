{
 "cells": [
  {
   "cell_type": "markdown",
   "metadata": {},
   "source": [
    "# Examples of using analysis functionalities\n",
    "\n",
    "Using discovery_utils analyses functionalities for investments data\n",
    "\n",
    "Here, we'll find companies using their categories, but you can also use search results from the process shown in cybersec_search.ipynb"
   ]
  },
  {
   "cell_type": "code",
   "execution_count": null,
   "metadata": {},
   "outputs": [],
   "source": [
    "from discovery_utils.utils import (\n",
    "    analysis_crunchbase,\n",
    "    analysis,\n",
    "    charts\n",
    ")"
   ]
  },
  {
   "cell_type": "code",
   "execution_count": null,
   "metadata": {},
   "outputs": [],
   "source": [
    "import pandas as pd\n",
    "from src import PROJECT_DIR"
   ]
  },
  {
   "cell_type": "code",
   "execution_count": null,
   "metadata": {},
   "outputs": [],
   "source": [
    "from discovery_utils.getters import crunchbase\n",
    "CB = crunchbase.CrunchbaseGetter()"
   ]
  },
  {
   "cell_type": "code",
   "execution_count": null,
   "metadata": {},
   "outputs": [],
   "source": [
    "included = ['y', 'Yes - CR', 'Yes - CR ', 'y-CR', 'Maybe - CR', 'maybe', 'Maybe']\n",
    "\n",
    "reviewed_data_df = (\n",
    "    pd.read_csv(PROJECT_DIR / \"data/2024_12_MS/Cybersecurity - Mission studio 2012-12-16 - crunchbase.csv\")\n",
    "    .rename(columns={\"RELEVANT?\": \"relevant\"})\n",
    "    .query(\"relevant in @included\")\n",
    ")\n",
    "matching_ids = reviewed_data_df.id.to_list()"
   ]
  },
  {
   "cell_type": "code",
   "execution_count": null,
   "metadata": {},
   "outputs": [],
   "source": [
    "len(matching_ids)"
   ]
  },
  {
   "cell_type": "markdown",
   "metadata": {},
   "source": [
    "You can check these companies by querying the ids"
   ]
  },
  {
   "cell_type": "code",
   "execution_count": null,
   "metadata": {},
   "outputs": [],
   "source": [
    "matchings_orgs_df = CB.organisations_enriched.query(\"id in @matching_ids\")\n",
    "matchings_orgs_df[['name', 'homepage_url', 'short_description']]"
   ]
  },
  {
   "cell_type": "markdown",
   "metadata": {},
   "source": [
    "Now get the funding rounds for the matching companies - you can specify what type of funding rounds you need"
   ]
  },
  {
   "cell_type": "code",
   "execution_count": null,
   "metadata": {},
   "outputs": [],
   "source": [
    "# Check what type of funding rounds there are\n",
    "CB.unique_funding_round_types"
   ]
  },
  {
   "cell_type": "code",
   "execution_count": null,
   "metadata": {},
   "outputs": [],
   "source": [
    "funding_rounds_df = (\n",
    "    CB.select_funding_rounds(org_ids=matching_ids, funding_round_types=[\"angel\", \"pre_seed\", \"seed\", \"series_a\"])\n",
    ")"
   ]
  },
  {
   "cell_type": "code",
   "execution_count": null,
   "metadata": {},
   "outputs": [],
   "source": [
    "investors_df = (\n",
    "    CB.funding_rounds_enriched\n",
    "    .query(\"funding_round_id in @funding_rounds_df.funding_round_id\")\n",
    "    .groupby(\"funding_round_id\")\n",
    "    .agg(investor_name=(\"investor_name\", list))\n",
    "    .reset_index()\n",
    ")\n",
    "\n",
    "funding_rounds_df = (\n",
    "    funding_rounds_df\n",
    "    .drop(columns=[\"investor_name\"])\n",
    "    .merge(investors_df, on=\"funding_round_id\", how=\"left\")\n",
    ")"
   ]
  },
  {
   "cell_type": "code",
   "execution_count": null,
   "metadata": {},
   "outputs": [],
   "source": [
    "len(funding_rounds_df)"
   ]
  },
  {
   "cell_type": "code",
   "execution_count": null,
   "metadata": {},
   "outputs": [],
   "source": [
    "funding_rounds_df.to_csv(PROJECT_DIR / \"data/2024_12_MS/crunchbase_funding_rounds.csv\", index=False)"
   ]
  },
  {
   "cell_type": "markdown",
   "metadata": {},
   "source": [
    "Now let's generate some basic time series"
   ]
  },
  {
   "cell_type": "code",
   "execution_count": null,
   "metadata": {},
   "outputs": [],
   "source": [
    "ts_df = analysis_crunchbase.get_timeseries(matchings_orgs_df, funding_rounds_df, period='year', min_year=2014, max_year=2024)\n",
    "ts_df"
   ]
  },
  {
   "cell_type": "code",
   "execution_count": null,
   "metadata": {},
   "outputs": [],
   "source": [
    "fig = charts.ts_bar(\n",
    "    ts_df,\n",
    "    variable='raised_amount_gbp_total',\n",
    "    variable_title=\"Raised amount, £ millions\",\n",
    "    category_column=\"_category\",\n",
    ")\n",
    "charts.configure_plots(fig, chart_title=\"\")"
   ]
  },
  {
   "cell_type": "markdown",
   "metadata": {},
   "source": [
    "Let's look into breakdown of deal types"
   ]
  },
  {
   "cell_type": "code",
   "execution_count": null,
   "metadata": {},
   "outputs": [],
   "source": [
    "deals_df, deal_counts_df = analysis_crunchbase.get_funding_by_year_and_range(funding_rounds_df, 2014, 2024)\n",
    "aggregated_funding_types_df = analysis_crunchbase.aggregate_by_funding_round_types(funding_rounds_df)"
   ]
  },
  {
   "cell_type": "code",
   "execution_count": null,
   "metadata": {},
   "outputs": [],
   "source": [
    "aggregated_funding_types_df"
   ]
  },
  {
   "cell_type": "code",
   "execution_count": null,
   "metadata": {},
   "outputs": [],
   "source": [
    "deals_df"
   ]
  },
  {
   "cell_type": "code",
   "execution_count": null,
   "metadata": {},
   "outputs": [],
   "source": [
    "deal_counts_df"
   ]
  },
  {
   "cell_type": "code",
   "execution_count": null,
   "metadata": {},
   "outputs": [],
   "source": [
    "analysis_crunchbase.chart_investment_types(aggregated_funding_types_df)"
   ]
  },
  {
   "cell_type": "code",
   "execution_count": null,
   "metadata": {},
   "outputs": [],
   "source": [
    "analysis_crunchbase.chart_investment_types_counts(aggregated_funding_types_df)"
   ]
  },
  {
   "cell_type": "code",
   "execution_count": null,
   "metadata": {},
   "outputs": [],
   "source": [
    "analysis_crunchbase.chart_deal_sizes(deals_df)"
   ]
  },
  {
   "cell_type": "code",
   "execution_count": null,
   "metadata": {},
   "outputs": [],
   "source": [
    "analysis_crunchbase.chart_deal_sizes_counts(deal_counts_df)"
   ]
  },
  {
   "cell_type": "code",
   "execution_count": null,
   "metadata": {},
   "outputs": [],
   "source": []
  }
 ],
 "metadata": {
  "kernelspec": {
   "display_name": "discovery-mission-radar-prototyping-ejbE0IFh-py3.11",
   "language": "python",
   "name": "python3"
  },
  "language_info": {
   "codemirror_mode": {
    "name": "ipython",
    "version": 3
   },
   "file_extension": ".py",
   "mimetype": "text/x-python",
   "name": "python",
   "nbconvert_exporter": "python",
   "pygments_lexer": "ipython3",
   "version": "3.11.10"
  }
 },
 "nbformat": 4,
 "nbformat_minor": 2
}
