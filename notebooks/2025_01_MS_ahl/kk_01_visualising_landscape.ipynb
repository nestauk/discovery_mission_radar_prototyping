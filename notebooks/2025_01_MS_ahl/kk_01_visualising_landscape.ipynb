{
 "cells": [
  {
   "cell_type": "markdown",
   "metadata": {},
   "source": [
    "# Examples of using analysis functionalities\n",
    "\n",
    "Using discovery_utils analyses functionalities for investments data\n",
    "\n",
    "Here, we'll find companies using their categories, but you can also use search results from the process shown in cybersec_search.ipynb"
   ]
  },
  {
   "cell_type": "code",
   "execution_count": null,
   "metadata": {},
   "outputs": [],
   "source": [
    "from discovery_utils.utils import (\n",
    "    viz_landscape\n",
    ")"
   ]
  },
  {
   "cell_type": "code",
   "execution_count": null,
   "metadata": {},
   "outputs": [],
   "source": [
    "import pandas as pd\n",
    "from src import PROJECT_DIR"
   ]
  },
  {
   "cell_type": "code",
   "execution_count": null,
   "metadata": {},
   "outputs": [],
   "source": [
    "from discovery_utils.getters import crunchbase\n",
    "CB = crunchbase.CrunchbaseGetter(vector_db_path=PROJECT_DIR / \"tmp/vector_db\")"
   ]
  },
  {
   "cell_type": "code",
   "execution_count": null,
   "metadata": {},
   "outputs": [],
   "source": [
    "lists_of_categories = {\n",
    "    \"biological\": [\"Agtech\", \"Agriculture\"],\n",
    "    \"health_diabetes\": [\"Diabetes\"],\n",
    "    \"health_nutrition\": [\"Dietary Supplements\", \"Nutrition\"],\n",
    "    \"economic_retail\": [\"Organic Food\", \"Grocery\", \"Snack Food\", \"Farmers Market\"],\n",
    "    \"economic_ooh\": [\"Food Delivery\", \"Restaurants\"],\n",
    "    \"economic_food_proc\": [\"Food Processing\"],\n",
    "    \"food_beverage\": [\"Food and Beverage\"],\n",
    "    \"social\": [\"Recipes\"]\n",
    "}"
   ]
  },
  {
   "cell_type": "code",
   "execution_count": null,
   "metadata": {},
   "outputs": [],
   "source": [
    "save_name = \"social\"\n",
    "list_of_categories = lists_of_categories[save_name]\n",
    "print(list_of_categories)\n",
    "selected_df = CB.get_companies_in_categories(list_of_categories, category_type=\"narrow\")\n",
    "\n",
    "matching_ids = set(list(selected_df.id.to_list()))"
   ]
  },
  {
   "cell_type": "code",
   "execution_count": null,
   "metadata": {},
   "outputs": [],
   "source": [
    "only_recent_companies = False\n",
    "if only_recent_companies:\n",
    "    ids_recent = CB.organisations_enriched.query(\"last_funding_on > '2019'\").id.to_list()\n",
    "    ids_new = CB.organisations_enriched.query(\"founded_on > '2019'\").id.to_list()\n",
    "    recent_or_new = set(ids_recent + ids_new)\n",
    "    matching_ids = matching_ids.intersection(recent_or_new)"
   ]
  },
  {
   "cell_type": "code",
   "execution_count": null,
   "metadata": {},
   "outputs": [],
   "source": [
    "len(matching_ids)"
   ]
  },
  {
   "cell_type": "code",
   "execution_count": null,
   "metadata": {},
   "outputs": [],
   "source": [
    "# write an sql query to achieve id in test_ids\n",
    "id_condition = \"id in ('{}')\".format(\"', '\".join(list(matching_ids)))\n",
    "vectors_df = CB.VectorDB.vector_db.search().where(id_condition).limit(30000).to_pandas()\n",
    "len(vectors_df)"
   ]
  },
  {
   "cell_type": "code",
   "execution_count": null,
   "metadata": {},
   "outputs": [],
   "source": [
    "fig, cb_viz_df = viz_landscape.generate_crunchbase_landscape(vectors_df, CB)"
   ]
  },
  {
   "cell_type": "code",
   "execution_count": null,
   "metadata": {},
   "outputs": [],
   "source": [
    "output_path = PROJECT_DIR / f'data/2025_01_MS_ahl/_landscape_{save_name}.html'\n",
    "# cb_viz_df.to_csv(PROJECT_DIR / f\"data/2025_01_MS_ahl/_table_{save_name}.csv\", index=False)\n",
    "fig.save(str(output_path))"
   ]
  },
  {
   "cell_type": "markdown",
   "metadata": {},
   "source": []
  }
 ],
 "metadata": {
  "kernelspec": {
   "display_name": "discovery-mission-radar-prototyping-ejbE0IFh-py3.11",
   "language": "python",
   "name": "python3"
  },
  "language_info": {
   "codemirror_mode": {
    "name": "ipython",
    "version": 3
   },
   "file_extension": ".py",
   "mimetype": "text/x-python",
   "name": "python",
   "nbconvert_exporter": "python",
   "pygments_lexer": "ipython3",
   "version": "3.11.10"
  }
 },
 "nbformat": 4,
 "nbformat_minor": 2
}
