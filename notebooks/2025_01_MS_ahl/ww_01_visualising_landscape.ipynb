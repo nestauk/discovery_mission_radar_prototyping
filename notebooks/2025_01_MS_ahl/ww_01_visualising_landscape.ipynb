{
 "cells": [
  {
   "cell_type": "markdown",
   "metadata": {},
   "source": [
    "# Examples of using analysis functionalities\n",
    "\n",
    "Using discovery_utils analyses functionalities for investments data\n",
    "\n",
    "Here, we'll find companies using their categories, but you can also use search results from the process shown in cybersec_search.ipynb"
   ]
  },
  {
   "cell_type": "code",
   "execution_count": 1,
   "metadata": {},
   "outputs": [],
   "source": [
    "from discovery_utils.utils import (\n",
    "    analysis_crunchbase,\n",
    "    analysis,\n",
    "    charts\n",
    ")"
   ]
  },
  {
   "cell_type": "code",
   "execution_count": 2,
   "metadata": {},
   "outputs": [],
   "source": [
    "import pandas as pd\n",
    "PROJECT_DIR = \"/Users/william.woodward/Documents/discovery_mission_radar_prototyping\"\n",
    "\n",
    "# change to markup until poetry issue resolved:\n",
    "# from src import PROJECT_DIR"
   ]
  },
  {
   "cell_type": "code",
   "execution_count": null,
   "metadata": {},
   "outputs": [],
   "source": [
    "from discovery_utils.getters import crunchbase\n",
    "CB = crunchbase.CrunchbaseGetter()"
   ]
  },
  {
   "cell_type": "code",
   "execution_count": null,
   "metadata": {},
   "outputs": [],
   "source": [
    "# Categories for ahl\n",
    "CB.find_similar_categories(\"obesity, diabetes, nutrition\", category_type=\"narrow\", n_results=10)"
   ]
  },
  {
   "cell_type": "code",
   "execution_count": null,
   "metadata": {},
   "outputs": [],
   "source": [
    "selected_df = CB.get_companies_in_categories([\"AgTech\",\"Agriculture\",\"Diabetes\",\"Dietary Supplements\",\"Farmers Market\",\"Food Delivery\",\"Food Processing\",\"Food Trucks\",\"Food and Beverage\",\"Grocery\",\"Nutrition\",\"Organic Food\",\"Recipes\",\"Restaurants\",\"Snack Food\"], category_type=\"narrow\")\n",
    "matching_ids = set(selected_df.id)    "
   ]
  },
  {
   "cell_type": "markdown",
   "metadata": {},
   "source": [
    "Group categories into lists"
   ]
  },
  {
   "cell_type": "code",
   "execution_count": null,
   "metadata": {},
   "outputs": [],
   "source": [
    "# set category lists\n",
    "lists_of_categories = {\n",
    "    \"biological\": [\"Agtech\", \"Agriculture\"],\n",
    "    \"health_diabetes\": [\"Diabetes\"],\n",
    "    \"health_nutrition\": [\"Dietary Supplements\", \"Nutrition\"],\n",
    "    \"economic_retail\": [\"Organic Food\", \"Grocery\", \"Snack Food\", \"Farmers Market\"],\n",
    "    \"economic - ooh\": [\"Food Delivery\", \"Restaurants\"],\n",
    "    \"economic - food proc\": [\"Food Processing\"],\n",
    "    \"Food & bev\": [\"Food and Beverage\"],\n",
    "    \"Social\": [\"Recipes\"]\n",
    "}\n",
    "\n",
    "# Create loop for each list group\n",
    "for category_group, categories in lists_of_categories.items():\n",
    "    # Get companies for the current category group\n",
    "    selected_df = CB.get_companies_in_categories(categories, category_type=\"narrow\")\n",
    "    matching_ids = set(selected_df.id)\n",
    "\n",
    "    # Check companies by querying ids\n",
    "    matchings_orgs_df = CB.organisations_enriched.query(\"id in @matching_ids\")\n",
    "    matchings_orgs_df[['name', 'homepage_url', 'short_description']]\n",
    "\n",
    "    # Get the funding rounds for the matching companies\n",
    "    funding_rounds_df = (\n",
    "    CB.select_funding_rounds(org_ids=matching_ids, funding_round_types=[\"angel\", \"pre_seed\", \"seed\", \"series_a\", \"series_b\"])\n",
    "    )\n",
    "\n",
    "    # organise investors by each funding round\n",
    "    investors_df = (\n",
    "    CB.funding_rounds_enriched\n",
    "    .query(\"funding_round_id in @funding_rounds_df.funding_round_id\")\n",
    "    .groupby(\"funding_round_id\")\n",
    "    .agg(investor_name=(\"investor_name\", list))\n",
    "    .reset_index()\n",
    "    )\n",
    "\n",
    "    funding_rounds_df = (\n",
    "    funding_rounds_df\n",
    "    .drop(columns=[\"investor_name\"])\n",
    "    .merge(investors_df, on=\"funding_round_id\", how=\"left\")\n",
    "    )\n",
    "\n",
    "    len(funding_rounds_df)\n",
    "\n",
    "    # save funding rounds as csv\n",
    "    funding_rounds_df.to_csv(f\"{PROJECT_DIR}/data/2025_01_MS_ahl/{category_group}_funding_rounds.csv\", index=False)\n",
    "\n",
    "    # generate basic time series\n",
    "    ts_df = analysis_crunchbase.get_timeseries(matchings_orgs_df, funding_rounds_df, period='year', min_year=2014, max_year=2024)\n",
    "    ts_df\n",
    "\n",
    "    # create raised amount bar chart\n",
    "    fig = charts.ts_bar(\n",
    "        ts_df,\n",
    "        variable='raised_amount_gbp_total',\n",
    "        variable_title=\"Raised amount, £ millions\",\n",
    "        category_column=\"_category\",\n",
    "    )\n",
    "    charts.configure_plots(fig, chart_title=f\"Funding raised over time for {category_group}\")\n",
    "    \n",
    "    # Save the chart with a unique filename\n",
    "    chart_filename = f\"{PROJECT_DIR}/charts/{category_group}_raised_amount.png\"\n",
    "    fig.save(chart_filename)\n",
    "\n",
    "    # Let's look into breakdown of deal types\n",
    "    deals_df, deal_counts_df = analysis_crunchbase.get_funding_by_year_and_range(funding_rounds_df, 2014, 2024)\n",
    "    aggregated_funding_types_df = analysis_crunchbase.aggregate_by_funding_round_types(funding_rounds_df)\n",
    "\n",
    "    # now let's chart by deal types\n",
    "    investment_types_fig = analysis_crunchbase.chart_investment_types(aggregated_funding_types_df)\n",
    "    investment_types_chart_filename = f\"{PROJECT_DIR}/charts/{category_group}_investment_types.png\"\n",
    "    investment_types_fig.save(investment_types_chart_filename)\n",
    "\n",
    "    # Chart by deal counts and save the chart\n",
    "    investment_types_counts_fig = analysis_crunchbase.chart_investment_types_counts(aggregated_funding_types_df)\n",
    "    investment_types_counts_chart_filename = f\"{PROJECT_DIR}/charts/{category_group}_investment_types_counts.png\"\n",
    "    investment_types_counts_fig.save(investment_types_counts_chart_filename)\n",
    "\n",
    "    # Chart deal sizes and save the chart\n",
    "    deal_sizes_fig = analysis_crunchbase.chart_deal_sizes(deals_df)\n",
    "    deal_sizes_chart_filename = f\"{PROJECT_DIR}/charts/{category_group}_deal_sizes.png\"\n",
    "    deal_sizes_fig.save(deal_sizes_chart_filename)\n",
    "    \n",
    "    # Chart deal sizes counts and save the chart\n",
    "    deal_sizes_counts_fig = analysis_crunchbase.chart_deal_sizes_counts(deal_counts_df)\n",
    "    deal_sizes_counts_chart_filename = f\"{PROJECT_DIR}/charts/{category_group}_deal_sizes_counts.png\"\n",
    "    deal_sizes_counts_fig.save(deal_sizes_counts_chart_filename)\n",
    "    "
   ]
  },
  {
   "cell_type": "code",
   "execution_count": null,
   "metadata": {},
   "outputs": [],
   "source": [
    "aggregated_funding_types_df"
   ]
  },
  {
   "cell_type": "code",
   "execution_count": null,
   "metadata": {},
   "outputs": [],
   "source": [
    "deals_df"
   ]
  },
  {
   "cell_type": "code",
   "execution_count": null,
   "metadata": {},
   "outputs": [],
   "source": [
    "deal_counts_df"
   ]
  },
  {
   "cell_type": "code",
   "execution_count": null,
   "metadata": {},
   "outputs": [],
   "source": [
    "analysis_crunchbase.chart_investment_types(aggregated_funding_types_df)"
   ]
  },
  {
   "cell_type": "code",
   "execution_count": null,
   "metadata": {},
   "outputs": [],
   "source": [
    "analysis_crunchbase.chart_investment_types_counts(aggregated_funding_types_df)"
   ]
  },
  {
   "cell_type": "code",
   "execution_count": null,
   "metadata": {},
   "outputs": [],
   "source": [
    "analysis_crunchbase.chart_deal_sizes(deals_df)"
   ]
  },
  {
   "cell_type": "code",
   "execution_count": null,
   "metadata": {},
   "outputs": [],
   "source": [
    "analysis_crunchbase.chart_deal_sizes_counts(deal_counts_df)"
   ]
  }
 ],
 "metadata": {
  "kernelspec": {
   "display_name": "discovery-mission-radar-prototyping-uqNXz-mU-py3.11",
   "language": "python",
   "name": "python3"
  },
  "language_info": {
   "codemirror_mode": {
    "name": "ipython",
    "version": 3
   },
   "file_extension": ".py",
   "mimetype": "text/x-python",
   "name": "python",
   "nbconvert_exporter": "python",
   "pygments_lexer": "ipython3",
   "version": "3.11.11"
  }
 },
 "nbformat": 4,
 "nbformat_minor": 2
}
