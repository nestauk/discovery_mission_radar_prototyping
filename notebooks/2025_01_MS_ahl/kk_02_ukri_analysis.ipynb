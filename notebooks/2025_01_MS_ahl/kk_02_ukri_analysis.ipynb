{
 "cells": [
  {
   "cell_type": "code",
   "execution_count": null,
   "metadata": {},
   "outputs": [],
   "source": [
    "from discovery_utils.getters import gtr\n",
    "from discovery_utils.utils import search\n",
    "from discovery_utils.utils import analysis_gtr, analysis, charts, viz_landscape\n",
    "\n",
    "from src import PROJECT_DIR\n",
    "from src import VECTOR_DB_DIR\n",
    "\n",
    "OUTPUT_DIR = PROJECT_DIR / 'data/2025_01_MS_ahl/'\n",
    "OUTPUT_DIR.mkdir(parents=True, exist_ok=True)"
   ]
  },
  {
   "cell_type": "markdown",
   "metadata": {},
   "source": [
    "## Gateway to Research search"
   ]
  },
  {
   "cell_type": "code",
   "execution_count": null,
   "metadata": {},
   "outputs": [],
   "source": [
    "GTR = gtr.GtrGetter(vector_db_path=VECTOR_DB_DIR)"
   ]
  },
  {
   "cell_type": "code",
   "execution_count": null,
   "metadata": {},
   "outputs": [],
   "source": [
    "Search = search.SearchDataset(GTR, GTR.projects_enriched, \"config_food.yaml\")\n",
    "search_df = Search.do_search()"
   ]
  },
  {
   "cell_type": "code",
   "execution_count": null,
   "metadata": {},
   "outputs": [],
   "source": [
    "selected_df = search_df.query('_score_avg > 0.25')\n",
    "matching_ids = set(list(selected_df.id.to_list()))"
   ]
  },
  {
   "cell_type": "code",
   "execution_count": null,
   "metadata": {},
   "outputs": [],
   "source": [
    "selected_df"
   ]
  },
  {
   "cell_type": "code",
   "execution_count": null,
   "metadata": {},
   "outputs": [],
   "source": [
    "selected_df.columns"
   ]
  },
  {
   "cell_type": "code",
   "execution_count": null,
   "metadata": {},
   "outputs": [],
   "source": [
    "ts_df = (\n",
    "    analysis_gtr.get_timeseries(selected_df, period='year', min_year=2010, max_year=2025, description_column=\"abstractText\")\n",
    "    .assign(amount = lambda df: df.amount / 1_000_000)\n",
    ")\n",
    "fig = charts.ts_bar(\n",
    "    ts_df,\n",
    "    variable='n_projects',\n",
    "    variable_title=\"Number of projects\",\n",
    "    category_column=\"_category\",\n",
    ")\n",
    "charts.configure_plots(fig, chart_title=\"\")"
   ]
  },
  {
   "cell_type": "code",
   "execution_count": null,
   "metadata": {},
   "outputs": [],
   "source": [
    "fig = charts.ts_bar(\n",
    "    ts_df,\n",
    "    variable='amount',\n",
    "    variable_title=\"Amount, £ millions\",\n",
    "    category_column=\"_category\",\n",
    ")\n",
    "charts.configure_plots(fig, chart_title=\"\")"
   ]
  },
  {
   "cell_type": "code",
   "execution_count": null,
   "metadata": {},
   "outputs": [],
   "source": [
    "# write an sql query to achieve id in test_ids\n",
    "id_condition = \"id in ('{}')\".format(\"', '\".join(list(matching_ids)))\n",
    "vectors_df = GTR.VectorDB.vector_db.search().where(id_condition).limit(30000).to_pandas()\n",
    "len(vectors_df)"
   ]
  },
  {
   "cell_type": "code",
   "execution_count": null,
   "metadata": {},
   "outputs": [],
   "source": [
    "fig, gtr_viz_df = viz_landscape.generate_gtr_landscape(vectors_df, GTR, min_cluster_size=50,  verbose=True)"
   ]
  },
  {
   "cell_type": "code",
   "execution_count": null,
   "metadata": {},
   "outputs": [],
   "source": [
    "save_name = 'food'\n",
    "output_path = PROJECT_DIR / f'data/2025_01_MS_ahl/_landscape_gtr_{save_name}.html'\n",
    "gtr_viz_df.to_csv(PROJECT_DIR / f\"data/2025_01_MS_ahl/_table_gtr_{save_name}.csv\", index=False)\n",
    "fig.save(str(output_path))"
   ]
  }
 ],
 "metadata": {
  "kernelspec": {
   "display_name": "discovery-mission-radar-prototyping-ejbE0IFh-py3.11",
   "language": "python",
   "name": "python3"
  },
  "language_info": {
   "codemirror_mode": {
    "name": "ipython",
    "version": 3
   },
   "file_extension": ".py",
   "mimetype": "text/x-python",
   "name": "python",
   "nbconvert_exporter": "python",
   "pygments_lexer": "ipython3",
   "version": "3.11.10"
  }
 },
 "nbformat": 4,
 "nbformat_minor": 2
}
