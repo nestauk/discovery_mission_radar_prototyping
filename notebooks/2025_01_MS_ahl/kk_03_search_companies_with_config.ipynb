{
 "cells": [
  {
   "cell_type": "code",
   "execution_count": null,
   "metadata": {},
   "outputs": [],
   "source": [
    "from discovery_utils.getters import gtr\n",
    "from discovery_utils.getters import crunchbase\n",
    "from discovery_utils.utils import search\n",
    "\n",
    "from src import PROJECT_DIR\n",
    "from src import VECTOR_DB_DIR\n",
    "\n",
    "OUTPUT_DIR = PROJECT_DIR / 'data/2025_01_MS_ahl/'\n",
    "OUTPUT_DIR.mkdir(parents=True, exist_ok=True)\n"
   ]
  },
  {
   "cell_type": "code",
   "execution_count": null,
   "metadata": {},
   "outputs": [],
   "source": [
    "import pandas as pd"
   ]
  },
  {
   "cell_type": "code",
   "execution_count": null,
   "metadata": {},
   "outputs": [],
   "source": [
    "from discovery_utils.utils.llm.batch_check import LLMProcessor, generate_system_message\n"
   ]
  },
  {
   "cell_type": "code",
   "execution_count": null,
   "metadata": {},
   "outputs": [],
   "source": [
    "CB = crunchbase.CrunchbaseGetter(vector_db_path=VECTOR_DB_DIR)"
   ]
  },
  {
   "cell_type": "code",
   "execution_count": null,
   "metadata": {},
   "outputs": [],
   "source": [
    "SearchCB = search.SearchDataset(CB, CB.organisations_enriched, \"config_MS_glp1.yaml\")"
   ]
  },
  {
   "cell_type": "code",
   "execution_count": null,
   "metadata": {},
   "outputs": [],
   "source": [
    "search_cb_df = SearchCB.do_search()"
   ]
  },
  {
   "cell_type": "code",
   "execution_count": null,
   "metadata": {},
   "outputs": [],
   "source": [
    "search_cb_df[['id', 'name', 'short_description', 'homepage_url', '_score_keywords', '_score_vectors', '_score_avg']]\n"
   ]
  },
  {
   "cell_type": "code",
   "execution_count": null,
   "metadata": {},
   "outputs": [],
   "source": [
    "relevant_df = search_cb_df.query(\"_score_avg > 0.3\")"
   ]
  },
  {
   "cell_type": "code",
   "execution_count": null,
   "metadata": {},
   "outputs": [],
   "source": [
    "system_message = generate_system_message(\"config_MS_glp1.yaml\")\n",
    "fields = [\n",
    "    {\"name\": \"is_relevant\", \"type\": \"str\", \"description\": \"A one-word answer: 'yes' or 'no'.\"},\n",
    "]\n",
    "\n",
    "check_data = dict(zip(relevant_df['id'], relevant_df['short_description']))\n",
    "\n",
    "processor = LLMProcessor(\n",
    "    output_path=str(OUTPUT_DIR / \"output_MS_glp1.jsonl\"),\n",
    "    system_message=system_message,\n",
    "    session_name=\"mission_studio\",\n",
    "    output_fields=fields,\n",
    ")\n",
    "\n",
    "processor.run(check_data, batch_size=15, sleep_time=0.5)"
   ]
  },
  {
   "cell_type": "code",
   "execution_count": null,
   "metadata": {},
   "outputs": [],
   "source": [
    "relevant_check_df = pd.read_json(OUTPUT_DIR / \"output_MS_glp1.jsonl\", lines=True)"
   ]
  },
  {
   "cell_type": "code",
   "execution_count": null,
   "metadata": {},
   "outputs": [],
   "source": [
    "relevant_checked_df = relevant_df.merge(relevant_check_df[['id', 'is_relevant']], left_on='id', right_on='id', how='left')\n",
    "relevant_checked_df.query(\"is_relevant == 'yes'\")[['id', 'name', 'short_description', 'homepage_url', '_score_avg']]"
   ]
  },
  {
   "cell_type": "code",
   "execution_count": null,
   "metadata": {},
   "outputs": [],
   "source": []
  }
 ],
 "metadata": {
  "kernelspec": {
   "display_name": "discovery-mission-radar-prototyping-ejbE0IFh-py3.11",
   "language": "python",
   "name": "python3"
  },
  "language_info": {
   "codemirror_mode": {
    "name": "ipython",
    "version": 3
   },
   "file_extension": ".py",
   "mimetype": "text/x-python",
   "name": "python",
   "nbconvert_exporter": "python",
   "pygments_lexer": "ipython3",
   "version": "3.11.10"
  }
 },
 "nbformat": 4,
 "nbformat_minor": 2
}
