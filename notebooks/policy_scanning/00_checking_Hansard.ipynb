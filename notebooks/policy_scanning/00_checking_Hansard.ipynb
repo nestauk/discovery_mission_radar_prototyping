{
 "cells": [
  {
   "cell_type": "code",
   "execution_count": 150,
   "metadata": {},
   "outputs": [],
   "source": [
    "from discovery_utils.getters import hansard\n",
    "from datetime import datetime, timedelta"
   ]
  },
  {
   "cell_type": "code",
   "execution_count": 168,
   "metadata": {},
   "outputs": [
    {
     "name": "stderr",
     "output_type": "stream",
     "text": [
      "2024-11-08 16:33:43,195 - discovery_utils.getters.hansard - INFO - Downloading debates parquet file: data/policy_scanning_data/enriched/HansardDebates.parquet\n"
     ]
    },
    {
     "data": {
      "text/plain": [
       "'2024-11-06'"
      ]
     },
     "execution_count": 168,
     "metadata": {},
     "output_type": "execute_result"
    }
   ],
   "source": [
    "Hansard = hansard.HansardGetter()\n",
    "debates_df = Hansard.get_debates_parquet()\n",
    "debates_df.date.max()"
   ]
  },
  {
   "cell_type": "code",
   "execution_count": 166,
   "metadata": {},
   "outputs": [
    {
     "data": {
      "text/plain": [
       "1572718"
      ]
     },
     "execution_count": 166,
     "metadata": {},
     "output_type": "execute_result"
    }
   ],
   "source": [
    "len(debates_df)"
   ]
  },
  {
   "cell_type": "code",
   "execution_count": 170,
   "metadata": {},
   "outputs": [
    {
     "data": {
      "text/plain": [
       "'2024-11-06'"
      ]
     },
     "execution_count": 170,
     "metadata": {},
     "output_type": "execute_result"
    }
   ],
   "source": [
    "debates_df.date.max()"
   ]
  },
  {
   "cell_type": "code",
   "execution_count": 146,
   "metadata": {},
   "outputs": [
    {
     "name": "stderr",
     "output_type": "stream",
     "text": [
      "2024-11-08 16:24:17,684 - discovery_utils.getters.hansard - INFO - Downloading people metadata\n",
      "2024-11-08 16:24:31,792 - discovery_utils.getters.hansard - INFO - Successfully downloaded and saved people metadata\n"
     ]
    }
   ],
   "source": [
    "people_df = Hansard.get_people_metadata()"
   ]
  },
  {
   "cell_type": "code",
   "execution_count": 171,
   "metadata": {},
   "outputs": [
    {
     "name": "stderr",
     "output_type": "stream",
     "text": [
      "2024-11-08 16:35:07,180 - discovery_utils.getters.hansard - INFO - Attempting to download label store: data/policy_scanning_data/enriched/HansardDebates_LabelStore_keywords.csv\n"
     ]
    }
   ],
   "source": [
    "labelstore_df = Hansard.get_labelstore()"
   ]
  },
  {
   "cell_type": "code",
   "execution_count": 172,
   "metadata": {},
   "outputs": [
    {
     "data": {
      "text/plain": [
       "529168"
      ]
     },
     "execution_count": 172,
     "metadata": {},
     "output_type": "execute_result"
    }
   ],
   "source": [
    "len(labelstore_df)"
   ]
  },
  {
   "cell_type": "code",
   "execution_count": 167,
   "metadata": {},
   "outputs": [
    {
     "data": {
      "text/plain": [
       "529168"
      ]
     },
     "execution_count": 167,
     "metadata": {},
     "output_type": "execute_result"
    }
   ],
   "source": [
    "len(labelstore_df)"
   ]
  },
  {
   "cell_type": "code",
   "execution_count": 161,
   "metadata": {},
   "outputs": [
    {
     "name": "stdout",
     "output_type": "stream",
     "text": [
      "2024-10-03\n"
     ]
    }
   ],
   "source": [
    "# end_date = \"2024-11-08\"\n",
    "end_date = \"2024-10-10\"\n",
    "# Convert the string to a datetime object\n",
    "end_date_dt = datetime.strptime(end_date, \"%Y-%m-%d\")\n",
    "# Subtract one week (7 days)\n",
    "one_week_ago = end_date_dt - timedelta(weeks=1)\n",
    "# Convert back to string format if needed\n",
    "start_date = one_week_ago.strftime(\"%Y-%m-%d\")\n",
    "# use datetime to go back one week\n",
    "print(start_date)\n",
    "\n",
    "_debates_df = (\n",
    "    debates_df[(debates_df[\"date\"] >= start_date) & (debates_df[\"date\"] <= end_date)]\n",
    "    .merge(labelstore_df[[\"id\", \"mission_labels\", \"topic_labels\"]], left_on=\"speech_id\", right_on=\"id\")\n",
    ")"
   ]
  },
  {
   "cell_type": "code",
   "execution_count": 148,
   "metadata": {},
   "outputs": [
    {
     "data": {
      "text/plain": [
       "{'id': 'uk.org.publicwhip/person/26651',\n",
       " 'identifiers': [{'identifier': '', 'scheme': 'pims_id'},\n",
       "  {'identifier': '5371', 'scheme': 'datadotparl_id'}],\n",
       " 'other_names': [{'county': '',\n",
       "   'given_name': 'Deborah',\n",
       "   'honorific_prefix': 'Bishop',\n",
       "   'lordname': '',\n",
       "   'lordofname': 'Peterborough',\n",
       "   'lordofname_full': '',\n",
       "   'note': 'Main',\n",
       "   'surname': 'Sellin'}]}"
      ]
     },
     "execution_count": 148,
     "metadata": {},
     "output_type": "execute_result"
    }
   ],
   "source": [
    "import pandas as pd\n",
    "people_df['persons'][-1]\n",
    "\n",
    "# people_df['persons'][0]['other_names']"
   ]
  },
  {
   "cell_type": "code",
   "execution_count": 154,
   "metadata": {},
   "outputs": [
    {
     "data": {
      "text/html": [
       "<div>\n",
       "<style scoped>\n",
       "    .dataframe tbody tr th:only-of-type {\n",
       "        vertical-align: middle;\n",
       "    }\n",
       "\n",
       "    .dataframe tbody tr th {\n",
       "        vertical-align: top;\n",
       "    }\n",
       "\n",
       "    .dataframe thead th {\n",
       "        text-align: right;\n",
       "    }\n",
       "</style>\n",
       "<table border=\"1\" class=\"dataframe\">\n",
       "  <thead>\n",
       "    <tr style=\"text-align: right;\">\n",
       "      <th></th>\n",
       "      <th>id</th>\n",
       "      <th>identifiers</th>\n",
       "      <th>other_names</th>\n",
       "      <th>shortcuts</th>\n",
       "      <th>redirect</th>\n",
       "    </tr>\n",
       "  </thead>\n",
       "  <tbody>\n",
       "    <tr>\n",
       "      <th>14215</th>\n",
       "      <td>uk.org.publicwhip/person/26276</td>\n",
       "      <td>[{'identifier': '4998', 'scheme': 'datadotparl...</td>\n",
       "      <td>[{'family_name': 'Shanks', 'given_name': 'Mich...</td>\n",
       "      <td>NaN</td>\n",
       "      <td>NaN</td>\n",
       "    </tr>\n",
       "  </tbody>\n",
       "</table>\n",
       "</div>"
      ],
      "text/plain": [
       "                                   id  \\\n",
       "14215  uk.org.publicwhip/person/26276   \n",
       "\n",
       "                                             identifiers  \\\n",
       "14215  [{'identifier': '4998', 'scheme': 'datadotparl...   \n",
       "\n",
       "                                             other_names shortcuts redirect  \n",
       "14215  [{'family_name': 'Shanks', 'given_name': 'Mich...       NaN      NaN  "
      ]
     },
     "execution_count": 154,
     "metadata": {},
     "output_type": "execute_result"
    }
   ],
   "source": [
    "pd.DataFrame(people_df['persons']).query(\"id == 'uk.org.publicwhip/person/26276'\")"
   ]
  },
  {
   "cell_type": "code",
   "execution_count": 155,
   "metadata": {},
   "outputs": [
    {
     "data": {
      "text/html": [
       "<div>\n",
       "<style scoped>\n",
       "    .dataframe tbody tr th:only-of-type {\n",
       "        vertical-align: middle;\n",
       "    }\n",
       "\n",
       "    .dataframe tbody tr th {\n",
       "        vertical-align: top;\n",
       "    }\n",
       "\n",
       "    .dataframe thead th {\n",
       "        text-align: right;\n",
       "    }\n",
       "</style>\n",
       "<table border=\"1\" class=\"dataframe\">\n",
       "  <thead>\n",
       "    <tr style=\"text-align: right;\">\n",
       "      <th></th>\n",
       "      <th>end_date</th>\n",
       "      <th>end_reason</th>\n",
       "      <th>id</th>\n",
       "      <th>identifiers</th>\n",
       "      <th>person_id</th>\n",
       "      <th>post_id</th>\n",
       "      <th>start_date</th>\n",
       "      <th>start_reason</th>\n",
       "      <th>on_behalf_of_id</th>\n",
       "      <th>label</th>\n",
       "      <th>organization_id</th>\n",
       "      <th>role</th>\n",
       "      <th>redirect</th>\n",
       "      <th>reason</th>\n",
       "      <th>name</th>\n",
       "    </tr>\n",
       "  </thead>\n",
       "  <tbody>\n",
       "    <tr>\n",
       "      <th>46470</th>\n",
       "      <td>2024-05-30</td>\n",
       "      <td>dissolution</td>\n",
       "      <td>uk.org.publicwhip/member/42754</td>\n",
       "      <td>NaN</td>\n",
       "      <td>uk.org.publicwhip/person/26276</td>\n",
       "      <td>uk.org.publicwhip/cons/714</td>\n",
       "      <td>2023-10-06</td>\n",
       "      <td>by_election</td>\n",
       "      <td>labour</td>\n",
       "      <td>NaN</td>\n",
       "      <td>NaN</td>\n",
       "      <td>NaN</td>\n",
       "      <td>NaN</td>\n",
       "      <td>NaN</td>\n",
       "      <td>NaN</td>\n",
       "    </tr>\n",
       "    <tr>\n",
       "      <th>46674</th>\n",
       "      <td>NaN</td>\n",
       "      <td>NaN</td>\n",
       "      <td>uk.org.publicwhip/member/42929</td>\n",
       "      <td>NaN</td>\n",
       "      <td>uk.org.publicwhip/person/26276</td>\n",
       "      <td>uk.org.publicwhip/cons/2739</td>\n",
       "      <td>2024-07-05</td>\n",
       "      <td>general_election</td>\n",
       "      <td>labour</td>\n",
       "      <td>NaN</td>\n",
       "      <td>NaN</td>\n",
       "      <td>NaN</td>\n",
       "      <td>NaN</td>\n",
       "      <td>NaN</td>\n",
       "      <td>NaN</td>\n",
       "    </tr>\n",
       "  </tbody>\n",
       "</table>\n",
       "</div>"
      ],
      "text/plain": [
       "         end_date   end_reason                              id identifiers  \\\n",
       "46470  2024-05-30  dissolution  uk.org.publicwhip/member/42754         NaN   \n",
       "46674         NaN          NaN  uk.org.publicwhip/member/42929         NaN   \n",
       "\n",
       "                            person_id                      post_id  \\\n",
       "46470  uk.org.publicwhip/person/26276   uk.org.publicwhip/cons/714   \n",
       "46674  uk.org.publicwhip/person/26276  uk.org.publicwhip/cons/2739   \n",
       "\n",
       "       start_date      start_reason on_behalf_of_id label organization_id  \\\n",
       "46470  2023-10-06       by_election          labour   NaN             NaN   \n",
       "46674  2024-07-05  general_election          labour   NaN             NaN   \n",
       "\n",
       "      role redirect reason name  \n",
       "46470  NaN      NaN    NaN  NaN  \n",
       "46674  NaN      NaN    NaN  NaN  "
      ]
     },
     "execution_count": 155,
     "metadata": {},
     "output_type": "execute_result"
    }
   ],
   "source": [
    "pd.DataFrame(people_df['memberships']).query('person_id == \"uk.org.publicwhip/person/26276\"')"
   ]
  },
  {
   "cell_type": "code",
   "execution_count": 156,
   "metadata": {},
   "outputs": [],
   "source": [
    "orgs_df = pd.DataFrame(people_df['organizations'])[['id', 'name']]"
   ]
  },
  {
   "cell_type": "code",
   "execution_count": 162,
   "metadata": {},
   "outputs": [
    {
     "data": {
      "text/html": [
       "<div>\n",
       "<style scoped>\n",
       "    .dataframe tbody tr th:only-of-type {\n",
       "        vertical-align: middle;\n",
       "    }\n",
       "\n",
       "    .dataframe tbody tr th {\n",
       "        vertical-align: top;\n",
       "    }\n",
       "\n",
       "    .dataframe thead th {\n",
       "        text-align: right;\n",
       "    }\n",
       "</style>\n",
       "<table border=\"1\" class=\"dataframe\">\n",
       "  <thead>\n",
       "    <tr style=\"text-align: right;\">\n",
       "      <th></th>\n",
       "      <th>person_id</th>\n",
       "      <th>post_id</th>\n",
       "      <th>start_date</th>\n",
       "      <th>start_reason</th>\n",
       "      <th>name_org</th>\n",
       "    </tr>\n",
       "  </thead>\n",
       "  <tbody>\n",
       "    <tr>\n",
       "      <th>293</th>\n",
       "      <td>uk.org.publicwhip/person/11545</td>\n",
       "      <td>uk.org.publicwhip/cons/2423</td>\n",
       "      <td>2024-07-05</td>\n",
       "      <td>general_election</td>\n",
       "      <td>Labour</td>\n",
       "    </tr>\n",
       "  </tbody>\n",
       "</table>\n",
       "</div>"
      ],
      "text/plain": [
       "                          person_id                      post_id  start_date  \\\n",
       "293  uk.org.publicwhip/person/11545  uk.org.publicwhip/cons/2423  2024-07-05   \n",
       "\n",
       "         start_reason name_org  \n",
       "293  general_election   Labour  "
      ]
     },
     "execution_count": 162,
     "metadata": {},
     "output_type": "execute_result"
    }
   ],
   "source": [
    "# keep the most recent membership\n",
    "parties_df = (\n",
    "    pd.DataFrame(people_df['memberships'])\n",
    "    .sort_values('start_date', ascending=False)\n",
    "    .drop_duplicates('person_id')\n",
    "    .merge(orgs_df, left_on='on_behalf_of_id', right_on='id', how='left', suffixes=(\"_\", \"_org\"))\n",
    ")[['person_id', 'post_id', 'start_date', 'start_reason', 'name_org']]\n",
    "parties_df.query('person_id == \"uk.org.publicwhip/person/11545\"')"
   ]
  },
  {
   "cell_type": "code",
   "execution_count": 163,
   "metadata": {},
   "outputs": [],
   "source": [
    "mission_debates = _debates_df.query(\"mission_labels == 'ASF'\")\n",
    "mission_debates = mission_debates.merge(parties_df[['person_id', 'name_org']], on = 'person_id', how='left', suffixes=('', '_person'))\n",
    "debates_dates = mission_debates[['date', 'major_heading']].drop_duplicates().sort_values('date')"
   ]
  },
  {
   "cell_type": "code",
   "execution_count": 164,
   "metadata": {},
   "outputs": [
    {
     "name": "stdout",
     "output_type": "stream",
     "text": [
      "Carbon Capture, Usage and Storage\n",
      "Energy Security and Net Zero\n",
      "Farming and Food Security\n",
      "Prime Minister\n",
      "Business of the House\n"
     ]
    }
   ],
   "source": [
    "for _, row in debates_dates.iterrows():\n",
    "    debate = row.major_heading\n",
    "    print(debate)"
   ]
  },
  {
   "cell_type": "code",
   "execution_count": 175,
   "metadata": {},
   "outputs": [
    {
     "name": "stdout",
     "output_type": "stream",
     "text": [
      "======\n",
      "Business of the House\n",
      "2024-10-10\n",
      "======\n",
      "2024-10-10\n",
      "Chris Murray (Labour)\n",
      "Topics: District heating\n",
      "Around half a million people rely on heat networks, which is good in achieving our climate goals, but heat networks are not included in the Ofgem price cap. My constituents in Craigmillar are therefore facing a 400% increase in their energy bills. That is terrifying for them and completely unacceptable. Heat networks should have the same protections as traditional heating systems. Will the Leader of the House allow a debate in Government time so that we can address this terrible anomaly?\n",
      "-----\n",
      "2024-10-10\n",
      "Lucy Powell (Labour/Co-operative)\n",
      "Topics: Renewables - General\n",
      "That very important matter has been raised with me before and I know that it is of real concern to my hon. Friend and to many other colleagues across this House. Next week’s Westminster Hall debate on the community benefits of renewable energy projects may provide him with an opportunity to raise it, but if not I will ensure that he gets a good response from the Minister.\n",
      "-----\n",
      "2024-10-10\n",
      "Chris Murray (Labour)\n",
      "Topics: District heating\n",
      "Around half a million people rely on heat networks, which is good in achieving our climate goals, but heat networks are not included in the Ofgem price cap. My constituents in Craigmillar are therefore facing a 400% increase in their energy bills. That is terrifying for them and completely unacceptable. Heat networks should have the same protections as traditional heating systems. Will the Leader of the House allow a debate in Government time so that we can address this terrible anomaly?\n",
      "-----\n",
      "2024-10-10\n",
      "Lucy Powell (Labour/Co-operative)\n",
      "Topics: Renewables - General\n",
      "That very important matter has been raised with me before and I know that it is of real concern to my hon. Friend and to many other colleagues across this House. Next week’s Westminster Hall debate on the community benefits of renewable energy projects may provide him with an opportunity to raise it, but if not I will ensure that he gets a good response from the Minister.\n",
      "-----\n"
     ]
    }
   ],
   "source": [
    "row = debates_dates.iloc[4]\n",
    "debate = row.major_heading\n",
    "print(\"======\")\n",
    "print(debate)\n",
    "print(row.date)\n",
    "print(\"======\")\n",
    "speech = mission_debates.query(\"major_heading == @debate\").to_dict(orient='records')\n",
    "for s in speech:\n",
    "    print(s['date'])\n",
    "    print(f\"{s['speakername']} ({s['name_org']})\")\n",
    "    print(f\"Topics: {s['topic_labels']}\")\n",
    "    print(s['speech'])\n",
    "    print(\"-----\")"
   ]
  },
  {
   "cell_type": "code",
   "execution_count": 135,
   "metadata": {},
   "outputs": [
    {
     "name": "stdout",
     "output_type": "stream",
     "text": [
      "======\n",
      "Carbon Capture, Usage and Storage\n",
      "2024-10-07\n",
      "======\n",
      "2024-10-07\n",
      "Bill Esterson (Labour)\n",
      "Unlike the shadow Secretary of State, I am very pleased that the Secretary of State has announced jobs in Teesside—jobs from which my constituents in the north-west of England will potentially benefit. I am also very pleased that we have a Government who are committed to an industrial strategy, and who believe in Government working in partnership with business. The Secretary of State mentioned just how important it is that we have this technology if we are to decarbonise; he quoted James Richardson in making the case. It will be crucial for the abatement of heavy industries such as chemicals, glass—the Secretary of State went to visit a glass factory in the north-west on Friday—and cement, but it will also be crucial for hydrogen production, for the new gas-fired power stations and, indeed, for converting waste into energy. How long does he think we will need this technology for the abatement of heavy industry, and how long does he think we will need it for hydrogen production and production from gas?\n",
      "-----\n",
      "2024-10-07\n",
      "Ed Miliband (Labour)\n",
      "I thank my hon. Friend for his question; he makes a really important point. Some people are sceptical about the use of carbon capture and storage. The truth is that for hard-to-abate industries—cement, for example—unless we have CCS technology, either there will be no future for these industries or they will not be able to decarbonise. Yes, it is an investment, but it is absolutely crucial, and I am struck by what the  IEA said. We are talking about probably 20% of industry, and we are doing the right thing for Britain and setting an example to the world. I always say on these occasions that, when it comes to blue hydrogen and gas with CCUS, we need all the technologies at our disposal on this decarbonisation journey. It is going to be a primarily renewables-based system, but nuclear has an important role and we need dispatchable decarbonised or low-carbon generation as well. All these things have a role, and the pathway will become clearer over time, but this issue is so urgent that I want to have all the technologies at our disposal.\n",
      "-----\n",
      "2024-10-07\n",
      "Ed Miliband (Labour)\n",
      "May I begin by welcoming the hon. Lady to her place, and thanking her for the tone and substance of her remarks? She is right to underline the fact that we are marking a new era but also marking the passing of an era, and it is right to pay tribute to all  the people who worked in our coal-fired power stations and, indeed, who worked underground to dig coal for our country. It is a big moment of change and the passing of an era. On the hon. Lady’s broad points about CCS, my philosophy is that we want zero-carbon power where possible, but we also need carbon capture, particularly for hard-to-abate sectors and so that we can have not unabated gas, but gas with CCS or hydrogen power. She raises the question of cost. Imagine if we had had this conversation 15 years ago, when I was Secretary of State and much younger—15 years younger, to be precise. [Interruption.] Yes, I am good at maths. Some people were saying at the time, “Why are you subsidising offshore wind? It can never be competitive with fossil fuels.” Now, it is among the cheapest technologies to build and operate. That is what deployment does for us, and that is what the combination of public and private sectors working together does for us. Yes, there is an investment here, but a far-sighted, forward-looking Government have to make such investments, and I welcome the hon. Lady’s support.\n",
      "-----\n",
      "2024-10-07\n",
      "Barry Gardiner (Labour)\n",
      "I had rather hoped that my right hon. Friend was going to start his statement by saying, “As I was saying before I was so rudely interrupted—”. I have waited so long to hear a Secretary of State make such announcements from the Dispatch Box, and I am delighted. However, my right hon. Friend knows that carbon capture technologies reduce the energy intensity of fossil fuels by up to 25%, which makes such electricity much more expensive than that produced from renewables. Can the Secretary of State confirm that CCUS will be used not simply to allow the continued extraction of fossil fuel for our power sector, but only for the hardest-to-abate heavy industries and for the production of green hydrogen, thereby keeping domestic fuel bills low and delivering on this Government’s commitment to decarbonise our power sector by 2030 through much cheaper renewables and nuclear, not more expensive gas with CCUS? Finally, may I caution him against swallowing too much of the hype around blue hydrogen?\n",
      "-----\n",
      "2024-10-07\n",
      "Ed Miliband (Labour)\n",
      "I thank my hon. Friend for his question; he speaks with great knowledge and expertise on these issues. He is absolutely right about the hard-to-abate sectors. I say to him what I said to the Chair of the Energy Security and Net Zero Committee, my hon. Friend the Member for Sefton Central (Bill Esterson): there is a role for both blue hydrogen and gas with CCUS, but that is within the context of a primarily renewables-based system that uses nuclear as well. It goes back to the point about needing all the technologies at our disposal if we are to surmount the challenges we face.\n",
      "-----\n",
      "2024-10-07\n",
      "Dave Doogan (Scottish National Party)\n",
      "The Secretary of State says he is absolutely committed to the Acorn project. Well, the way to show that would be to fund it, because yet again the UK Government have failed to announce funding for carbon capture utilisation and storage projects in Scotland. This is a disaster economically, industrially and environmentally. I am sure he will agree that without Acorn, the UK cannot meet its net zero targets and will miss them by some margin. The last Tory Government failed to back this project in Scotland for years, and despite offering change, Labour has done exactly the same thing, following the same path with broadly the same budget and prioritising less developed, less substantial and less deliverable projects in England while offering the Scottish cluster no funding at all to date. People in Scotland remember well how  eager the Treasury and the Westminster Government were to get their hands on revenues from North sea oil and gas. When will we see that returned with investment from Westminster into the north-east of Scotland to support the Acorn project?\n",
      "-----\n",
      "2024-10-07\n",
      "Anneliese Midgley (Labour)\n",
      "I welcome my right hon. Friend’s announcement of major investment in carbon capture in our industrial heartlands, including in Merseyside. Knowsley hosts significant industrial capacity and has huge potential to contribute to this. Can the Secretary of State provide details and meet me to discuss how Knowsley will benefit from investment in the thousands of good, secure jobs expected under this scheme?\n",
      "-----\n",
      "2024-10-07\n",
      "Wera Hobhouse (Liberal Democrat)\n",
      "Waste incinerators release, on average, a tonne of CO2 for every tonne of waste incinerated. They are usually called “energy from waste” but their environmental value is questionable unless carbon capture is attached. Yes, we need to recycle more, but energy from waste will be with us for years to come. Will the Secretary of State commit to significantly scaling up carbon capture for energy from waste plants?\n",
      "-----\n",
      "2024-10-07\n",
      "Ed Miliband (Labour)\n",
      "I respect the right hon. Gentleman’s question, although I do not agree. First, this is a long-term investment in the country’s future, and I think the Chancellor is far-sighted in recognising its importance. Secondly, there are hard-to-abate industries that, without carbon capture, will find it very hard to enter a decarbonised world. We have to protect those industries, but I agree that, where industries can decarbonise without CCS, of course we want them to do so.\n",
      "-----\n",
      "2024-10-07\n",
      "Adrian Ramsay (Green)\n",
      "As the Secretary of State will be aware, the vast majority of carbon capture and storage pilot and demonstration projects that have been commissioned worldwide have been cancelled or put on hold. I am concerned that the Government are putting so much money—£22 billion—into an unproven technology. I understand that the track 1 projects are about new gas power stations and blue hydrogen, about which the hon. Member for Brent West (Barry Gardiner) has already expressed concern because they are fossil fuel technologies. Will the Secretary of State rule out investing any of this £22 billion in new fossil fuels, locking the UK into new fossil fuel production? Will he instead consider a major scaling up of natural carbon capture through major investment in the restoration of woodlands, peatlands and wetlands?\n",
      "-----\n",
      "2024-10-07\n",
      "Ed Miliband (Labour)\n",
      "My hon. Friend makes such an important point. I was with the Prime Minister in New York in the last couple of weeks, talking to international partners about where the new British Government stood, and there is a sense that British leadership is back. However, if I had said to them, “We can’t do carbon capture; that’s just not an answer,” they would have said, “Well, what are we going to do about our industries?” My hon. Friend is absolutely right: we need to have all the solutions at our disposal, both for British leadership and for global decarbonisation.\n",
      "-----\n",
      "2024-10-07\n",
      "Jayne Kirkham (Labour/Co-operative)\n",
      "I am so pleased to be part of a new era of clean energy investment, with carbon capture in the north-east and the very successful recent renewables auction. The Secretary of State has been to see our critical minerals, floating offshore wind potential and geothermal potential in Cornwall. Will he please confirm that the industrial strategy and renewables will be truly UK-wide and will span from Scotland and the north-east down to the west and Cornwall, with a clear pipeline of investment opportunities in order to give certainty to developers in, for example, floating offshore wind in the Celtic sea?\n",
      "-----\n",
      "2024-10-07\n",
      "Caroline Voaden (Liberal Democrat)\n",
      "I welcome the Secretary of State’s enthusiasm for decarbonisation and carbon capture, particularly in heavy industry, including cement. However, the track 1 projects include new gas power stations and new blue hydrogen, which will carry a huge greenhouse gas penalty caused by upstream methane emissions. Will the Secretary of State therefore commit to reviewing the full-lifecycle greenhouse gas emissions for any project before it goes to a full investment decision?\n",
      "-----\n",
      "2024-10-07\n",
      "Brian Mathew (Liberal Democrat)\n",
      "I welcome the Secretary of State’s statement, but carbon capture can be done in a number of ways. Anaerobic digestion plants, for example, produce as much CO2 as methane, which can be ducted into greenhouses to produce bigger tomatoes, cucumbers and lettuces. Will such natural carbon capture be included in the project, thereby helping to enhance our food security?\n",
      "-----\n",
      "2024-10-07\n",
      "Jim Shannon (DUP)\n",
      "Maybe not the final word, Madam Deputy Speaker, as that will be for the Secretary of State. I welcome the statement, in which he rightly underlined that anybody who ignores carbon capture, use and storage does so at their peril, and the  Government’s commitment to carbon capture. While the amount set aside is incredible, so too is the requirement that every penny brings an achievement. How will the Secretary of State ensure that each region of the United Kingdom is involved in this net gain? I say to him gently that Northern Ireland is not mentioned in his statement; I am sure he will address that issue. There must be accountability to ensure the realisation of environmental goals, rather than simply the aspiration of achieving them.\n",
      "-----\n",
      "======\n",
      "Energy Security and Net Zero\n",
      "2024-10-08\n",
      "======\n",
      "2024-10-08\n",
      "Simon Opher (Labour)\n",
      "I thank the Secretary of State for his really rapid action to reach our 100% sustainable goals by 2030. It has developed a real excitement in this country, and the people I speak to are genuinely behind this action. In Stroud, we are developing a community energy programme of putting solar panels on every school and public building that agrees to it. What steps is he taking to support solar on schools and public buildings, and can he ensure there are no barriers to progress?\n",
      "-----\n",
      "2024-10-08\n",
      "Ed Miliband (Labour)\n",
      "My hon. Friend is absolutely right about the importance of both rooftop solar and ground-mounted solar. I can tell him that, as part of Great British Energy’s plans, we want to work with local schools, local hospitals and, indeed, local leaders to have a solar panels programme, because this is a way to rapidly decarbonise and to save money off bills.\n",
      "-----\n",
      "2024-10-08\n",
      "Ed Miliband (Labour)\n",
      "Thank you very much, Mr Speaker—and you, too, if I may say so. [Laughter.] I congratulate my hon. Friend, but particularly the Fairwater community campus on the work it is doing. I think he highlights a very important issue. By helping to decarbonise public buildings, including schools, we help not only to cut our carbon emissions, but, crucially, to save money for those schools that they can then use for frontline services.\n",
      "-----\n",
      "2024-10-08\n",
      "Ed Miliband (Labour)\n",
      "The hon. Gentleman—and he knows this—will obviously want to stand up for what he sees as the best benefits for his constituency. I will be cautious about what I say, because there are proper procedures for planning decisions, including my quasi-judicial role. I will make this general point to the House, because I  think this may well be a recurring theme during questions, but if we want to get off the dangerous exposure to international fossil fuel markets, which we were left with by the last Government, we need to build the grid. Every solar panel we put up, every wind turbine we put up and every piece of grid we build will help to deliver energy security for the British people.\n",
      "-----\n",
      "2024-10-08\n",
      "Gideon Amos (Liberal Democrat)\n",
      "What steps he is taking to help increase levels of onshore wind energy production.\n",
      "-----\n",
      "2024-10-08\n",
      "Lee Anderson (Reform UK)\n",
      "The Secretary of State will be aware that 25% of the UK is situated on top of coalmines, which can provide geothermal energy to heat houses and businesses in places like Ashfield. Will the Minister meet me to discuss how we can make that work in coalfield communities?\n",
      "-----\n",
      "2024-10-08\n",
      "Luke Myer (Labour)\n",
      "I welcome the Minister’s response and last week’s fantastic announcement about track 1 carbon capture investment in Teesside. Teesside has extraordinary potential for green jobs, whether in sustainable aviation fuel with Alfanar or in carbon capture, hydrogen and so much else. Does the Minister agree that only with Labour’s plan for clean power by 2030, Great British Energy and our national wealth fund can we create well-paid long-term jobs in the industries of the future?\n",
      "-----\n",
      "2024-10-08\n",
      "Sarah Jones (Labour)\n",
      "I agree with my hon. Friend, and I thank him for his support. I doubt anybody would disagree with him on the benefits of our announcements on carbon capture and storage, which will create 4,000 jobs in the short term, with carbon capture more broadly creating up to 50,000 jobs over the next decade or so. [Interruption.] The Opposition Front Benchers chuckle, but I wonder whether, instead of dismissing that number of jobs, they might welcome them alongside Government Members. Alongside carbon capture, Great British Energy, our national wealth fund and our British jobs bonus, we are putting in place the levers to encourage growth across our country, and the Climate Change Committee estimates that up to 725,000 net new jobs could be created in low-carbon sectors by 2030.\n",
      "-----\n",
      "2024-10-08\n",
      "Miatta Fahnbulleh (Labour/Co-operative)\n",
      "We are running to deliver our warm homes plan, which will upgrade homes across the country to make them warmer and cheaper to run. We will set out the full plan in the spring, but at the heart of it will be an offer of grants and low-interest loans to support families to invest in insulation, low-carbon heating and home improvements. Critically, alongside that, we are committing to boosting minimum energy efficiency standards for private rented homes and social housing, to tackle fuel poverty.\n",
      "-----\n",
      "2024-10-08\n",
      "Miatta Fahnbulleh (Labour/Co-operative)\n",
      "I agree. One in four households in the private rented sector is in fuel poverty. We need to bear down on bills. Our commitment to improve and boost minimum energy efficiency standards will lift 1 million renters out of fuel poverty. We are determined to do this alongside our bigger package to deliver clean power by 2030, which will drive down bills for everyone.\n",
      "-----\n",
      "2024-10-08\n",
      "Richard Holden (Conservative)\n",
      "One of my low-income pensioner constituents had a solar panel installed on their home through a Government scheme. However, they are now facing an issue with birds nesting in it, which is causing a huge amount of problems because the scheme does not come with protection. Will the Minister agree to meet me about this constituency issue, because it is really affecting one of my older constituents who, sadly, has also just lost her winter fuel payment?\n",
      "-----\n",
      "2024-10-08\n",
      "Ellie Chowns (Green)\n",
      "I very much hope the Secretary of State and his Ministers agree that if we are serious about energy security and net zero, we must be serious about energy efficiency. What steps are they taking, in addition to working on insulating existing homes, to ensure that the promised   1.5 million new homes are built to net zero standards, have solar panels on the roof, and are fully insulated so that every new home is a warm home?\n",
      "-----\n",
      "2024-10-08\n",
      "Miatta Fahnbulleh (Labour/Co-operative)\n",
      "We have an ambitious plan to build more homes. We want those homes to be fit for the future. We will put out information in due course on the standards we want across those homes, but we have an opportunity to do insulation, energy efficiency and homes that are fit for the future, at the same time as building the homes we need.\n",
      "-----\n",
      "2024-10-08\n",
      "Pippa Heylings (Liberal Democrat)\n",
      "Keeping vulnerable people warm and lowering their energy bills is, I am sure, something we can all agree on across the House. Insulating homes is a key part of that puzzle. We welcome the news that we will see the warm homes plan in spring. However, does the Minister agree that ahead of this winter we need an emergency home insulation plan, particularly for the vulnerable, along with allocated funding? Does she have any idea of the amount and allocation of funding in this Parliament that there will be for insulating homes?\n",
      "-----\n",
      "2024-10-08\n",
      "Tessa Munt (Liberal Democrat)\n",
      "Communities are doing their very best, and lots of people are trying to help each community to power itself. My own village has its community solar project, which was fully funded by local residents. There are non-profit organisations which have dealt with local schemes by putting solar panels on schools with an element of community ownership, and there are individuals who try but are faced with extortionate costs for connection to the grid. The grid was really designed for big old power stations rather than smaller power creators trying to plonk power into the system. What can the Minister  do to encourage National Grid to pivot, and help communities and individuals to create their energy nearer to their homes?\n",
      "-----\n",
      "2024-10-08\n",
      "Pippa Heylings (Liberal Democrat)\n",
      "As we have heard from my hon. Friend the Member for Wells and Mendip Hills (Tessa Munt), the lack of national grid capacity is holding back the UK’s push towards renewable energy. There are numerous examples of projects that have been delayed because they are waiting to be connected to the national grid, or because connection is too expensive. In my constituency, we cannot even connect the solar panels and batteries for the ambitious plan to decarbonise and electrify the refuse fleet for South Cambridgeshire district council. The projects that have been delayed include the building of new homes, which is crucial at present. Can the Minister explain to us how we are to reach this stage on the scale and at the pace that is needed?\n",
      "-----\n",
      "2024-10-08\n",
      "Michael Shanks (Labour)\n",
      "I will give credit to the Conservative Government on one thing: they were very good at making grand announcements. On delivery, however, they were much poorer. Looking at a whole range of things—carbon capture being a very good example—they had lots of warm words but no delivery whatsoever. On nuclear, they had lots of warm words but no delivery whatsoever. In 14 years, how many nuclear power stations were built under the Conservative party? None. We will get on with doing the work.\n",
      "-----\n",
      "2024-10-08\n",
      "Michael Shanks (Labour)\n",
      "My hon. Friend is absolutely right to say that in the three and a bit months that we have been in government we have moved at pace to deliver the largest renewables auction in history and to make last week’s announcement on carbon capture. We are  working through the next stages of the process at pace, and we will have further announcements in the weeks ahead.\n",
      "-----\n",
      "2024-10-08\n",
      "Ed Miliband (Labour)\n",
      "As well as our measures on onshore wind, solar and renewables, this Government have begun legislating for Great British Energy and setting out our plan for proper standards for private and social renters to take 1 million families out of fuel poverty, and on Friday we announced deals to kick-start Britain’s carbon capture industry. All of this will deliver our mission to make Britain a clean energy superpower. It is right for bills, right for energy security, right for jobs and right for climate leadership.\n",
      "-----\n",
      "2024-10-08\n",
      "Tom Rutland (Labour)\n",
      "The great turbines of the Rampion wind farm are off my beautiful coastal constituency. Although the UK has done well on offshore generation, the jobs in this sector have not always been here in the UK. What plans do the Government have to expand offshore wind, and to ensure that UK workers and supply chains benefit from that expansion?\n",
      "-----\n",
      "2024-10-08\n",
      "Steve Race (Labour)\n",
      "Exeter city council has worked hard to install solar panels on council homes to ensure that social tenants can benefit from lower bills and participate in the green transition. Can the Minister set out what more we can do to ensure that all tenants benefit from new green technologies?\n",
      "-----\n",
      "2024-10-08\n",
      "Mike Amesbury (Labour)\n",
      "Last week’s announcement on carbon capture and hydrogen in my constituency demonstrates that we now have a Government of substance, not of hollow slogans. What discussions have the Secretary of State and Ministers had with the trade unions to ensure that we build those facilities with unionised labour?\n",
      "-----\n",
      "2024-10-08\n",
      "Sarah Jones (Labour)\n",
      "I thank my hon. Friend for his question. After 14 years of failure and inaction, we now have a Government who believe in working with our trade unions, who have the backing of our trade unions, and who want to work to create good jobs in the industries of the future. Our announcement on carbon capture, which was groundbreaking and world beating, will deliver just that.\n",
      "-----\n",
      "2024-10-08\n",
      "Miatta Fahnbulleh (Labour/Co-operative)\n",
      "I thank my hon. Friend for his question. We are aware of those cases of bad insulation and we are clear that we need to get a firmer grip on them. To persuade everyone that we should be insulating and upgrading all of our homes, we need the highest standard possible. I agree to meet him to discuss this matter further.\n",
      "-----\n",
      "2024-10-08\n",
      "Clive Jones (Liberal Democrat)\n",
      "In my constituency, a new solar farm at Barkham is being delivered that will provide clean energy for more than 4,000 homes and provide a funding boost for Wokingham borough council. It will be connected in 2026, but there were concerns   that connection to the grid could be delayed by 11 years. What steps will the Minister take to reduce similar delays, and does he think that the Government can meet their net zero targets if the new renewable energy infrastructure cannot be quickly connected to the grid?\n",
      "-----\n",
      "======\n",
      "Farming and Food Security\n",
      "2024-10-08\n",
      "======\n",
      "2024-10-08\n",
      "Steve Barclay (Conservative)\n",
      "It is, and a further concern in my constituency is that the consultants who do soil sampling for the developers are often felt to be interpreting and grading the quality of soil in a way that is not consistent with local knowledge. Back in May, the previous Government allocated £50 million of additional support to farmers hit by the wet weather. They extended the farming recovery fund to 1,000 more farmers, so that it covered all those affected in England. On top of that, in March, we announced the allocation of an additional £75 million to internal drainage boards, which are essential to protecting agricultural land from floods and storms. We now have a Labour Government who neither understand nor care for rural communities. [Hon. Members: “Rubbish!”] They were not so vocal when they launched their manifesto, which devoted just 87 words to farming. There was not a single mention of farming in the King’s Speech, because the Government have made the active choice to de-prioritise British farming and food production. On the immediate challenge, the answer to a recent parliamentary question backs up what the sector is telling me. The £50 million of additional farming recovery fund support is yet to be paid out. We have just established that we have had the wettest weather for 150 years and that 10 counties have had particularly challenging weather, yet despite having a known scheme, with an extra £50 million, they have not allocated that much-needed, time-critical support. The Secretary of State needs to explain why. The NFU says its members simply cannot wait any longer for the support, yet Labour seems to want to keep them waiting. Reports suggest that the £75 million for the internal drainage boards is also on a go-slow, and we need to know why. For the longer term, Labour Ministers have overruled officials to cover some of the country’s best farmland in solar panels. They have rejected the plans for binding food security targets. It has even been suggested in media reports that they plan to cut the farming budget by £100 million. Indeed, it was reported that the NFU president has said that his members are being “kept up at night” by the “cliff edge” that Labour’s lack of commitment on the agriculture budget is causing. The Government need to change course. They need to give immediate confidence to the sector and show that they care about food security. To do so, they need to commit to five things: first, that the full £50 million of additional wet weather support we announced in May will be paid out in full.\n",
      "-----\n",
      "======\n",
      "Prime Minister\n",
      "2024-10-09\n",
      "======\n",
      "2024-10-09\n",
      "Keir Starmer (Labour)\n",
      "We set out our promises in our manifesto. We were returned with a huge majority to change the country for the better, and I stick to my promises in the manifesto. But I notice that the right hon. Gentleman is on question three, and he has not yet welcomed the investment into this country. We have had in recent months £8 billion from Amazon for jobs across the country, £10 billion from Blackstone for jobs across the north-east, £22 billion on carbon capture for jobs in the north-east and north-west, and £500 million for UK buses in Northern Ireland. While we are investing in our economy, what are Conservative Members doing? They are arguing about whether to scrap maternity pay.\n",
      "-----\n",
      "2024-10-09\n",
      "Noah Law (Labour)\n",
      "With shared prosperity funding drawing to a close, and Cornwall having some of the greatest potential in Europe in critical minerals and renewable energy, it is time for  our aspiring Celtic tiger to identify much more strategic sources of investment funding, which take us away from the short-termist begging-bowl politics of the previous decade. Will the Prime Minister meet Cornish MPs to discuss the future of industrial and social funding in Cornwall?\n",
      "-----\n",
      "======\n",
      "Business of the House\n",
      "2024-10-10\n",
      "======\n",
      "2024-10-10\n",
      "Chris Murray (Labour)\n",
      "Around half a million people rely on heat networks, which is good in achieving our climate goals, but heat networks are not included in the Ofgem price cap. My constituents in Craigmillar are therefore facing a 400% increase in their energy bills. That is terrifying for them and completely unacceptable. Heat networks should have the same protections as traditional heating systems. Will the Leader of the House allow a debate in Government time so that we can address this terrible anomaly?\n",
      "-----\n",
      "2024-10-10\n",
      "Lucy Powell (Labour/Co-operative)\n",
      "That very important matter has been raised with me before and I know that it is of real concern to my hon. Friend and to many other colleagues across this House. Next week’s Westminster Hall debate on the community benefits of renewable energy projects may provide him with an opportunity to raise it, but if not I will ensure that he gets a good response from the Minister.\n",
      "-----\n"
     ]
    }
   ],
   "source": [
    "for _, row in debates_dates.iterrows():\n",
    "    debate = row.major_heading\n",
    "    print(\"======\")\n",
    "    print(debate)\n",
    "    print(row.date)\n",
    "    print(\"======\")\n",
    "    speech = mission_debates.query(\"major_heading == @debate\").to_dict(orient='records')\n",
    "    for s in speech:\n",
    "        print(s['date'])\n",
    "        print(f\"{s['speakername']} ({s['name_org']})\")\n",
    "        print(s['speech'])\n",
    "        print(\"-----\")"
   ]
  },
  {
   "cell_type": "code",
   "execution_count": 23,
   "metadata": {},
   "outputs": [
    {
     "data": {
      "text/plain": [
       "[{'speech_id': 'uk.org.publicwhip/debate/2024-10-07a.69.1',\n",
       "  'speakername': 'Bill Esterson',\n",
       "  'speaker_id': 'NA',\n",
       "  'person_id': 'uk.org.publicwhip/person/24905',\n",
       "  'speech': 'Unlike the shadow Secretary of State, I am very pleased that the Secretary of State has announced jobs in Teesside—jobs from which my constituents in the north-west of England will potentially benefit. I am also very pleased that we have a Government who are committed to an industrial strategy, and who believe in Government working in partnership with business. The Secretary of State mentioned just how important it is that we have this technology if we are to decarbonise; he quoted James Richardson in making the case. It will be crucial for the abatement of heavy industries such as chemicals, glass—the Secretary of State went to visit a glass factory in the north-west on Friday—and cement, but it will also be crucial for hydrogen production, for the new gas-fired power stations and, indeed, for converting waste into energy. How long does he think we will need this technology for the abatement of heavy industry, and how long does he think we will need it for hydrogen production and production from gas?',\n",
       "  'date': '2024-10-07',\n",
       "  'year': '2024',\n",
       "  'major_heading': 'Carbon Capture, Usage and Storage',\n",
       "  'minor_heading': None,\n",
       "  'id': 'uk.org.publicwhip/debate/2024-10-07a.69.1',\n",
       "  'mission_labels': 'ASF',\n",
       "  'topic_labels': 'Hydrogen energy'},\n",
       " {'speech_id': 'uk.org.publicwhip/debate/2024-10-07a.69.2',\n",
       "  'speakername': 'Ed Miliband',\n",
       "  'speaker_id': 'NA',\n",
       "  'person_id': 'uk.org.publicwhip/person/11545',\n",
       "  'speech': 'I thank my hon. Friend for his question; he makes a really important point. Some people are sceptical about the use of carbon capture and storage. The truth is that for hard-to-abate industries—cement, for example—unless we have CCS technology, either there will be no future for these industries or they will not be able to decarbonise. Yes, it is an investment, but it is absolutely crucial, and I am struck by what the  IEA said. We are talking about probably 20% of industry, and we are doing the right thing for Britain and setting an example to the world. I always say on these occasions that, when it comes to blue hydrogen and gas with CCUS, we need all the technologies at our disposal on this decarbonisation journey. It is going to be a primarily renewables-based system, but nuclear has an important role and we need dispatchable decarbonised or low-carbon generation as well. All these things have a role, and the pathway will become clearer over time, but this issue is so urgent that I want to have all the technologies at our disposal.',\n",
       "  'date': '2024-10-07',\n",
       "  'year': '2024',\n",
       "  'major_heading': 'Carbon Capture, Usage and Storage',\n",
       "  'minor_heading': None,\n",
       "  'id': 'uk.org.publicwhip/debate/2024-10-07a.69.2',\n",
       "  'mission_labels': 'ASF',\n",
       "  'topic_labels': 'CCUS,Hydrogen energy'},\n",
       " {'speech_id': 'uk.org.publicwhip/debate/2024-10-07a.70.3',\n",
       "  'speakername': 'Ed Miliband',\n",
       "  'speaker_id': 'NA',\n",
       "  'person_id': 'uk.org.publicwhip/person/11545',\n",
       "  'speech': 'May I begin by welcoming the hon. Lady to her place, and thanking her for the tone and substance of her remarks? She is right to underline the fact that we are marking a new era but also marking the passing of an era, and it is right to pay tribute to all  the people who worked in our coal-fired power stations and, indeed, who worked underground to dig coal for our country. It is a big moment of change and the passing of an era. On the hon. Lady’s broad points about CCS, my philosophy is that we want zero-carbon power where possible, but we also need carbon capture, particularly for hard-to-abate sectors and so that we can have not unabated gas, but gas with CCS or hydrogen power. She raises the question of cost. Imagine if we had had this conversation 15 years ago, when I was Secretary of State and much younger—15 years younger, to be precise. [Interruption.] Yes, I am good at maths. Some people were saying at the time, “Why are you subsidising offshore wind? It can never be competitive with fossil fuels.” Now, it is among the cheapest technologies to build and operate. That is what deployment does for us, and that is what the combination of public and private sectors working together does for us. Yes, there is an investment here, but a far-sighted, forward-looking Government have to make such investments, and I welcome the hon. Lady’s support.',\n",
       "  'date': '2024-10-07',\n",
       "  'year': '2024',\n",
       "  'major_heading': 'Carbon Capture, Usage and Storage',\n",
       "  'minor_heading': None,\n",
       "  'id': 'uk.org.publicwhip/debate/2024-10-07a.70.3',\n",
       "  'mission_labels': 'ASF',\n",
       "  'topic_labels': 'CCUS'},\n",
       " {'speech_id': 'uk.org.publicwhip/debate/2024-10-07a.71.0',\n",
       "  'speakername': 'Barry Gardiner',\n",
       "  'speaker_id': 'NA',\n",
       "  'person_id': 'uk.org.publicwhip/person/10220',\n",
       "  'speech': 'I had rather hoped that my right hon. Friend was going to start his statement by saying, “As I was saying before I was so rudely interrupted—”. I have waited so long to hear a Secretary of State make such announcements from the Dispatch Box, and I am delighted. However, my right hon. Friend knows that carbon capture technologies reduce the energy intensity of fossil fuels by up to 25%, which makes such electricity much more expensive than that produced from renewables. Can the Secretary of State confirm that CCUS will be used not simply to allow the continued extraction of fossil fuel for our power sector, but only for the hardest-to-abate heavy industries and for the production of green hydrogen, thereby keeping domestic fuel bills low and delivering on this Government’s commitment to decarbonise our power sector by 2030 through much cheaper renewables and nuclear, not more expensive gas with CCUS? Finally, may I caution him against swallowing too much of the hype around blue hydrogen?',\n",
       "  'date': '2024-10-07',\n",
       "  'year': '2024',\n",
       "  'major_heading': 'Carbon Capture, Usage and Storage',\n",
       "  'minor_heading': None,\n",
       "  'id': 'uk.org.publicwhip/debate/2024-10-07a.71.0',\n",
       "  'mission_labels': 'ASF',\n",
       "  'topic_labels': 'CCUS,Hydrogen energy'},\n",
       " {'speech_id': 'uk.org.publicwhip/debate/2024-10-07a.71.1',\n",
       "  'speakername': 'Ed Miliband',\n",
       "  'speaker_id': 'NA',\n",
       "  'person_id': 'uk.org.publicwhip/person/11545',\n",
       "  'speech': 'I thank my hon. Friend for his question; he speaks with great knowledge and expertise on these issues. He is absolutely right about the hard-to-abate sectors. I say to him what I said to the Chair of the Energy Security and Net Zero Committee, my hon. Friend the Member for Sefton Central (Bill Esterson): there is a role for both blue hydrogen and gas with CCUS, but that is within the context of a primarily renewables-based system that uses nuclear as well. It goes back to the point about needing all the technologies at our disposal if we are to surmount the challenges we face.',\n",
       "  'date': '2024-10-07',\n",
       "  'year': '2024',\n",
       "  'major_heading': 'Carbon Capture, Usage and Storage',\n",
       "  'minor_heading': None,\n",
       "  'id': 'uk.org.publicwhip/debate/2024-10-07a.71.1',\n",
       "  'mission_labels': 'ASF',\n",
       "  'topic_labels': 'Hydrogen energy'},\n",
       " {'speech_id': 'uk.org.publicwhip/debate/2024-10-07a.74.4',\n",
       "  'speakername': 'Dave Doogan',\n",
       "  'speaker_id': 'NA',\n",
       "  'person_id': 'uk.org.publicwhip/person/25796',\n",
       "  'speech': 'The Secretary of State says he is absolutely committed to the Acorn project. Well, the way to show that would be to fund it, because yet again the UK Government have failed to announce funding for carbon capture utilisation and storage projects in Scotland. This is a disaster economically, industrially and environmentally. I am sure he will agree that without Acorn, the UK cannot meet its net zero targets and will miss them by some margin. The last Tory Government failed to back this project in Scotland for years, and despite offering change, Labour has done exactly the same thing, following the same path with broadly the same budget and prioritising less developed, less substantial and less deliverable projects in England while offering the Scottish cluster no funding at all to date. People in Scotland remember well how  eager the Treasury and the Westminster Government were to get their hands on revenues from North sea oil and gas. When will we see that returned with investment from Westminster into the north-east of Scotland to support the Acorn project?',\n",
       "  'date': '2024-10-07',\n",
       "  'year': '2024',\n",
       "  'major_heading': 'Carbon Capture, Usage and Storage',\n",
       "  'minor_heading': None,\n",
       "  'id': 'uk.org.publicwhip/debate/2024-10-07a.74.4',\n",
       "  'mission_labels': 'ASF',\n",
       "  'topic_labels': 'CCUS'},\n",
       " {'speech_id': 'uk.org.publicwhip/debate/2024-10-07a.75.1',\n",
       "  'speakername': 'Anneliese Midgley',\n",
       "  'speaker_id': 'NA',\n",
       "  'person_id': 'uk.org.publicwhip/person/26318',\n",
       "  'speech': 'I welcome my right hon. Friend’s announcement of major investment in carbon capture in our industrial heartlands, including in Merseyside. Knowsley hosts significant industrial capacity and has huge potential to contribute to this. Can the Secretary of State provide details and meet me to discuss how Knowsley will benefit from investment in the thousands of good, secure jobs expected under this scheme?',\n",
       "  'date': '2024-10-07',\n",
       "  'year': '2024',\n",
       "  'major_heading': 'Carbon Capture, Usage and Storage',\n",
       "  'minor_heading': None,\n",
       "  'id': 'uk.org.publicwhip/debate/2024-10-07a.75.1',\n",
       "  'mission_labels': 'ASF',\n",
       "  'topic_labels': 'CCUS'},\n",
       " {'speech_id': 'uk.org.publicwhip/debate/2024-10-07a.75.3',\n",
       "  'speakername': 'Wera Hobhouse',\n",
       "  'speaker_id': 'NA',\n",
       "  'person_id': 'uk.org.publicwhip/person/25648',\n",
       "  'speech': 'Waste incinerators release, on average, a tonne of CO2 for every tonne of waste incinerated. They are usually called “energy from waste” but their environmental value is questionable unless carbon capture is attached. Yes, we need to recycle more, but energy from waste will be with us for years to come. Will the Secretary of State commit to significantly scaling up carbon capture for energy from waste plants?',\n",
       "  'date': '2024-10-07',\n",
       "  'year': '2024',\n",
       "  'major_heading': 'Carbon Capture, Usage and Storage',\n",
       "  'minor_heading': None,\n",
       "  'id': 'uk.org.publicwhip/debate/2024-10-07a.75.3',\n",
       "  'mission_labels': 'ASF',\n",
       "  'topic_labels': 'CCUS'},\n",
       " {'speech_id': 'uk.org.publicwhip/debate/2024-10-07a.76.1',\n",
       "  'speakername': 'Ed Miliband',\n",
       "  'speaker_id': 'NA',\n",
       "  'person_id': 'uk.org.publicwhip/person/11545',\n",
       "  'speech': 'I respect the right hon. Gentleman’s question, although I do not agree. First, this is a long-term investment in the country’s future, and I think the Chancellor is far-sighted in recognising its importance. Secondly, there are hard-to-abate industries that, without carbon capture, will find it very hard to enter a decarbonised world. We have to protect those industries, but I agree that, where industries can decarbonise without CCS, of course we want them to do so.',\n",
       "  'date': '2024-10-07',\n",
       "  'year': '2024',\n",
       "  'major_heading': 'Carbon Capture, Usage and Storage',\n",
       "  'minor_heading': None,\n",
       "  'id': 'uk.org.publicwhip/debate/2024-10-07a.76.1',\n",
       "  'mission_labels': 'ASF',\n",
       "  'topic_labels': 'CCUS'},\n",
       " {'speech_id': 'uk.org.publicwhip/debate/2024-10-07a.76.4',\n",
       "  'speakername': 'Adrian Ramsay',\n",
       "  'speaker_id': 'NA',\n",
       "  'person_id': 'uk.org.publicwhip/person/26514',\n",
       "  'speech': 'As the Secretary of State will be aware, the vast majority of carbon capture and storage pilot and demonstration projects that have been commissioned worldwide have been cancelled or put on hold. I am concerned that the Government are putting so much money—£22 billion—into an unproven technology. I understand that the track 1 projects are about new gas power stations and blue hydrogen, about which the hon. Member for Brent West (Barry Gardiner) has already expressed concern because they are fossil fuel technologies. Will the Secretary of State rule out investing any of this £22 billion in new fossil fuels, locking the UK into new fossil fuel production? Will he instead consider a major scaling up of natural carbon capture through major investment in the restoration of woodlands, peatlands and wetlands?',\n",
       "  'date': '2024-10-07',\n",
       "  'year': '2024',\n",
       "  'major_heading': 'Carbon Capture, Usage and Storage',\n",
       "  'minor_heading': None,\n",
       "  'id': 'uk.org.publicwhip/debate/2024-10-07a.76.4',\n",
       "  'mission_labels': 'ASF',\n",
       "  'topic_labels': 'CCUS,Hydrogen energy'},\n",
       " {'speech_id': 'uk.org.publicwhip/debate/2024-10-07a.78.0',\n",
       "  'speakername': 'Ed Miliband',\n",
       "  'speaker_id': 'NA',\n",
       "  'person_id': 'uk.org.publicwhip/person/11545',\n",
       "  'speech': 'My hon. Friend makes such an important point. I was with the Prime Minister in New York in the last couple of weeks, talking to international partners about where the new British Government stood, and there is a sense that British leadership is back. However, if I had said to them, “We can’t do carbon capture; that’s just not an answer,” they would have said, “Well, what are we going to do about our industries?” My hon. Friend is absolutely right: we need to have all the solutions at our disposal, both for British leadership and for global decarbonisation.',\n",
       "  'date': '2024-10-07',\n",
       "  'year': '2024',\n",
       "  'major_heading': 'Carbon Capture, Usage and Storage',\n",
       "  'minor_heading': None,\n",
       "  'id': 'uk.org.publicwhip/debate/2024-10-07a.78.0',\n",
       "  'mission_labels': 'ASF',\n",
       "  'topic_labels': 'CCUS'},\n",
       " {'speech_id': 'uk.org.publicwhip/debate/2024-10-07a.78.3',\n",
       "  'speakername': 'Jayne Kirkham',\n",
       "  'speaker_id': 'NA',\n",
       "  'person_id': 'uk.org.publicwhip/person/26525',\n",
       "  'speech': 'I am so pleased to be part of a new era of clean energy investment, with carbon capture in the north-east and the very successful recent renewables auction. The Secretary of State has been to see our critical minerals, floating offshore wind potential and geothermal potential in Cornwall. Will he please confirm that the industrial strategy and renewables will be truly UK-wide and will span from Scotland and the north-east down to the west and Cornwall, with a clear pipeline of investment opportunities in order to give certainty to developers in, for example, floating offshore wind in the Celtic sea?',\n",
       "  'date': '2024-10-07',\n",
       "  'year': '2024',\n",
       "  'major_heading': 'Carbon Capture, Usage and Storage',\n",
       "  'minor_heading': None,\n",
       "  'id': 'uk.org.publicwhip/debate/2024-10-07a.78.3',\n",
       "  'mission_labels': 'ASF',\n",
       "  'topic_labels': 'CCUS,Geothermal energy'},\n",
       " {'speech_id': 'uk.org.publicwhip/debate/2024-10-07a.79.0',\n",
       "  'speakername': 'Caroline Voaden',\n",
       "  'speaker_id': 'NA',\n",
       "  'person_id': 'uk.org.publicwhip/person/26511',\n",
       "  'speech': 'I welcome the Secretary of State’s enthusiasm for decarbonisation and carbon capture, particularly in heavy industry, including cement. However, the track 1 projects include new gas power stations and new blue hydrogen, which will carry a huge greenhouse gas penalty caused by upstream methane emissions. Will the Secretary of State therefore commit to reviewing the full-lifecycle greenhouse gas emissions for any project before it goes to a full investment decision?',\n",
       "  'date': '2024-10-07',\n",
       "  'year': '2024',\n",
       "  'major_heading': 'Carbon Capture, Usage and Storage',\n",
       "  'minor_heading': None,\n",
       "  'id': 'uk.org.publicwhip/debate/2024-10-07a.79.0',\n",
       "  'mission_labels': 'ASF',\n",
       "  'topic_labels': 'Built environment,CCUS,Hydrogen energy'},\n",
       " {'speech_id': 'uk.org.publicwhip/debate/2024-10-07a.80.3',\n",
       "  'speakername': 'Brian Mathew',\n",
       "  'speaker_id': 'NA',\n",
       "  'person_id': 'uk.org.publicwhip/person/26509',\n",
       "  'speech': 'I welcome the Secretary of State’s statement, but carbon capture can be done in a number of ways. Anaerobic digestion plants, for example, produce as much CO2 as methane, which can be ducted into greenhouses to produce bigger tomatoes, cucumbers and lettuces. Will such natural carbon capture be included in the project, thereby helping to enhance our food security?',\n",
       "  'date': '2024-10-07',\n",
       "  'year': '2024',\n",
       "  'major_heading': 'Carbon Capture, Usage and Storage',\n",
       "  'minor_heading': None,\n",
       "  'id': 'uk.org.publicwhip/debate/2024-10-07a.80.3',\n",
       "  'mission_labels': 'ASF',\n",
       "  'topic_labels': 'CCUS'},\n",
       " {'speech_id': 'uk.org.publicwhip/debate/2024-10-07a.80.6',\n",
       "  'speakername': 'Jim Shannon',\n",
       "  'speaker_id': 'NA',\n",
       "  'person_id': 'uk.org.publicwhip/person/13864',\n",
       "  'speech': 'Maybe not the final word, Madam Deputy Speaker, as that will be for the Secretary of State. I welcome the statement, in which he rightly underlined that anybody who ignores carbon capture, use and storage does so at their peril, and the  Government’s commitment to carbon capture. While the amount set aside is incredible, so too is the requirement that every penny brings an achievement. How will the Secretary of State ensure that each region of the United Kingdom is involved in this net gain? I say to him gently that Northern Ireland is not mentioned in his statement; I am sure he will address that issue. There must be accountability to ensure the realisation of environmental goals, rather than simply the aspiration of achieving them.',\n",
       "  'date': '2024-10-07',\n",
       "  'year': '2024',\n",
       "  'major_heading': 'Carbon Capture, Usage and Storage',\n",
       "  'minor_heading': None,\n",
       "  'id': 'uk.org.publicwhip/debate/2024-10-07a.80.6',\n",
       "  'mission_labels': 'ASF',\n",
       "  'topic_labels': 'CCUS'}]"
      ]
     },
     "execution_count": 23,
     "metadata": {},
     "output_type": "execute_result"
    }
   ],
   "source": [
    "speech"
   ]
  }
 ],
 "metadata": {
  "kernelspec": {
   "display_name": "discovery-mission-radar-prototyping-ejbE0IFh-py3.11",
   "language": "python",
   "name": "python3"
  },
  "language_info": {
   "codemirror_mode": {
    "name": "ipython",
    "version": 3
   },
   "file_extension": ".py",
   "mimetype": "text/x-python",
   "name": "python",
   "nbconvert_exporter": "python",
   "pygments_lexer": "ipython3",
   "version": "3.11.10"
  }
 },
 "nbformat": 4,
 "nbformat_minor": 2
}
