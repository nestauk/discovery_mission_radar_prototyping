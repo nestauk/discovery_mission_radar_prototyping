{
 "cells": [
  {
   "cell_type": "code",
   "execution_count": 1,
   "metadata": {},
   "outputs": [],
   "source": [
    "from discovery_utils.getters import hansard\n",
    "from datetime import datetime, timedelta\n",
    "import pandas as pd"
   ]
  },
  {
   "cell_type": "code",
   "execution_count": 2,
   "metadata": {},
   "outputs": [
    {
     "name": "stderr",
     "output_type": "stream",
     "text": [
      "2024-12-03 17:30:42,972 - discovery_utils.getters.hansard - INFO - Downloading debates parquet file: data/policy_scanning_data/enriched/HansardDebates.parquet\n",
      "2024-12-03 17:31:54,420 - discovery_utils.getters.hansard - INFO - Attempting to download label store: data/policy_scanning_data/enriched/HansardDebates_LabelStore_keywords.csv\n"
     ]
    },
    {
     "data": {
      "text/plain": [
       "'2024-11-29'"
      ]
     },
     "execution_count": 2,
     "metadata": {},
     "output_type": "execute_result"
    }
   ],
   "source": [
    "Hansard = hansard.HansardGetter()\n",
    "debates_df = Hansard.get_debates_parquet()\n",
    "labelstore_df = Hansard.get_labelstore()\n",
    "debates_df.date.max()"
   ]
  },
  {
   "cell_type": "code",
   "execution_count": 3,
   "metadata": {},
   "outputs": [
    {
     "name": "stderr",
     "output_type": "stream",
     "text": [
      "2024-12-03 17:33:25,904 - discovery_utils.getters.hansard - INFO - Downloading people metadata\n",
      "2024-12-03 17:33:28,899 - discovery_utils.getters.hansard - INFO - Successfully downloaded and saved people metadata\n"
     ]
    }
   ],
   "source": [
    "people_dict = Hansard.get_people_metadata()"
   ]
  },
  {
   "cell_type": "markdown",
   "metadata": {},
   "source": [
    "## Get the relevant debates"
   ]
  },
  {
   "cell_type": "code",
   "execution_count": 35,
   "metadata": {},
   "outputs": [],
   "source": [
    "# end_date = \"2024-11-08\"\n",
    "end_date = \"2024-10-10\"\n",
    "# Convert the string to a datetime object\n",
    "end_date_dt = datetime.strptime(end_date, \"%Y-%m-%d\")\n",
    "# Subtract one week (7 days)\n",
    "one_week_ago = end_date_dt - timedelta(weeks=1)\n",
    "# Convert back to string format if needed\n",
    "start_date = one_week_ago.strftime(\"%Y-%m-%d\")\n",
    "\n",
    "weekly_speeches_df = (\n",
    "    debates_df[(debates_df[\"date\"] >= start_date) & (debates_df[\"date\"] <= end_date)]\n",
    "    .merge(labelstore_df[[\"id\", \"mission_labels\", \"topic_labels\"]], left_on=\"speech_id\", right_on=\"id\")\n",
    ")"
   ]
  },
  {
   "cell_type": "markdown",
   "metadata": {},
   "source": [
    "## Find relevant debates\n",
    "\n",
    "1. See if keywords were mentioned in the debates\n",
    "2. See if debate title is relevant?"
   ]
  },
  {
   "cell_type": "code",
   "execution_count": 28,
   "metadata": {},
   "outputs": [],
   "source": [
    "from discovery_utils.utils import keywords"
   ]
  },
  {
   "cell_type": "code",
   "execution_count": 84,
   "metadata": {},
   "outputs": [],
   "source": [
    "weekly_speeches_df = (\n",
    "    weekly_speeches_df\n",
    "    .drop_duplicates(subset=[\"speakername\", \"speech\"])\n",
    "    .assign(headings = lambda df: df.major_heading.fillna(\"\") + \" \" + df.minor_heading.fillna(\"\"))\n",
    ")\n",
    "unique_headings = weekly_speeches_df.headings.unique()\n",
    "debate_titles_df = (\n",
    "    pd.DataFrame(data={'id': range(len(unique_headings)), 'text': unique_headings})\n",
    "    .assign(text = lambda df: df.text.str.lower())\n",
    ")"
   ]
  },
  {
   "cell_type": "code",
   "execution_count": 85,
   "metadata": {},
   "outputs": [
    {
     "data": {
      "text/html": [
       "<div>\n",
       "<style scoped>\n",
       "    .dataframe tbody tr th:only-of-type {\n",
       "        vertical-align: middle;\n",
       "    }\n",
       "\n",
       "    .dataframe tbody tr th {\n",
       "        vertical-align: top;\n",
       "    }\n",
       "\n",
       "    .dataframe thead th {\n",
       "        text-align: right;\n",
       "    }\n",
       "</style>\n",
       "<table border=\"1\" class=\"dataframe\">\n",
       "  <thead>\n",
       "    <tr style=\"text-align: right;\">\n",
       "      <th></th>\n",
       "      <th>id</th>\n",
       "      <th>topic_label</th>\n",
       "      <th>mission_label</th>\n",
       "    </tr>\n",
       "  </thead>\n",
       "  <tbody>\n",
       "    <tr>\n",
       "      <th>0</th>\n",
       "      <td>17</td>\n",
       "      <td>CCUS</td>\n",
       "      <td>ASF</td>\n",
       "    </tr>\n",
       "    <tr>\n",
       "      <th>1</th>\n",
       "      <td>22</td>\n",
       "      <td>Wind</td>\n",
       "      <td>ASF</td>\n",
       "    </tr>\n",
       "  </tbody>\n",
       "</table>\n",
       "</div>"
      ],
      "text/plain": [
       "   id topic_label mission_label\n",
       "0  17        CCUS           ASF\n",
       "1  22        Wind           ASF"
      ]
     },
     "execution_count": 85,
     "metadata": {},
     "output_type": "execute_result"
    }
   ],
   "source": [
    "labels_df = keywords.enrich_keyword_labels(debate_titles_df, \"ASF\", split_sentences=False)\n",
    "labels_df"
   ]
  },
  {
   "cell_type": "code",
   "execution_count": 86,
   "metadata": {},
   "outputs": [
    {
     "data": {
      "text/html": [
       "<div>\n",
       "<style scoped>\n",
       "    .dataframe tbody tr th:only-of-type {\n",
       "        vertical-align: middle;\n",
       "    }\n",
       "\n",
       "    .dataframe tbody tr th {\n",
       "        vertical-align: top;\n",
       "    }\n",
       "\n",
       "    .dataframe thead th {\n",
       "        text-align: right;\n",
       "    }\n",
       "</style>\n",
       "<table border=\"1\" class=\"dataframe\">\n",
       "  <thead>\n",
       "    <tr style=\"text-align: right;\">\n",
       "      <th></th>\n",
       "      <th>id</th>\n",
       "      <th>text</th>\n",
       "      <th>topic_label</th>\n",
       "      <th>mission_label</th>\n",
       "    </tr>\n",
       "  </thead>\n",
       "  <tbody>\n",
       "    <tr>\n",
       "      <th>17</th>\n",
       "      <td>17</td>\n",
       "      <td>carbon capture, usage and storage</td>\n",
       "      <td>CCUS</td>\n",
       "      <td>ASF</td>\n",
       "    </tr>\n",
       "    <tr>\n",
       "      <th>22</th>\n",
       "      <td>22</td>\n",
       "      <td>energy security and net zero onshore wind energy</td>\n",
       "      <td>Wind</td>\n",
       "      <td>ASF</td>\n",
       "    </tr>\n",
       "  </tbody>\n",
       "</table>\n",
       "</div>"
      ],
      "text/plain": [
       "    id                                              text topic_label  \\\n",
       "17  17                carbon capture, usage and storage         CCUS   \n",
       "22  22  energy security and net zero onshore wind energy        Wind   \n",
       "\n",
       "   mission_label  \n",
       "17           ASF  \n",
       "22           ASF  "
      ]
     },
     "execution_count": 86,
     "metadata": {},
     "output_type": "execute_result"
    }
   ],
   "source": [
    "debate_titles_df.merge(labels_df, on=\"id\", how=\"left\").dropna(subset=[\"mission_label\"])"
   ]
  },
  {
   "cell_type": "code",
   "execution_count": 87,
   "metadata": {},
   "outputs": [],
   "source": [
    "orgs_df = pd.DataFrame(people_df['organizations'])[['id', 'name']]"
   ]
  },
  {
   "cell_type": "code",
   "execution_count": 88,
   "metadata": {},
   "outputs": [
    {
     "data": {
      "text/html": [
       "<div>\n",
       "<style scoped>\n",
       "    .dataframe tbody tr th:only-of-type {\n",
       "        vertical-align: middle;\n",
       "    }\n",
       "\n",
       "    .dataframe tbody tr th {\n",
       "        vertical-align: top;\n",
       "    }\n",
       "\n",
       "    .dataframe thead th {\n",
       "        text-align: right;\n",
       "    }\n",
       "</style>\n",
       "<table border=\"1\" class=\"dataframe\">\n",
       "  <thead>\n",
       "    <tr style=\"text-align: right;\">\n",
       "      <th></th>\n",
       "      <th>person_id</th>\n",
       "      <th>post_id</th>\n",
       "      <th>start_date</th>\n",
       "      <th>start_reason</th>\n",
       "      <th>name_org</th>\n",
       "    </tr>\n",
       "  </thead>\n",
       "  <tbody>\n",
       "    <tr>\n",
       "      <th>125</th>\n",
       "      <td>uk.org.publicwhip/person/11545</td>\n",
       "      <td>uk.org.publicwhip/cons/2423</td>\n",
       "      <td>2024-07-05</td>\n",
       "      <td>general_election</td>\n",
       "      <td>Labour</td>\n",
       "    </tr>\n",
       "  </tbody>\n",
       "</table>\n",
       "</div>"
      ],
      "text/plain": [
       "                          person_id                      post_id  start_date  \\\n",
       "125  uk.org.publicwhip/person/11545  uk.org.publicwhip/cons/2423  2024-07-05   \n",
       "\n",
       "         start_reason name_org  \n",
       "125  general_election   Labour  "
      ]
     },
     "execution_count": 88,
     "metadata": {},
     "output_type": "execute_result"
    }
   ],
   "source": [
    "# keep the most recent membership\n",
    "parties_df = (\n",
    "    pd.DataFrame(people_df['memberships'])\n",
    "    .sort_values('start_date', ascending=False)\n",
    "    .drop_duplicates('person_id')\n",
    "    .merge(orgs_df, left_on='on_behalf_of_id', right_on='id', how='left', suffixes=(\"_\", \"_org\"))\n",
    ")[['person_id', 'post_id', 'start_date', 'start_reason', 'name_org']]\n",
    "parties_df.query('person_id == \"uk.org.publicwhip/person/11545\"')"
   ]
  },
  {
   "cell_type": "code",
   "execution_count": 89,
   "metadata": {},
   "outputs": [],
   "source": [
    "mission_debates = weekly_speeches_df.query(\"mission_labels == 'ASF'\")\n",
    "mission_debates = mission_debates.merge(parties_df[['person_id', 'name_org']], on = 'person_id', how='left', suffixes=('', '_person'))\n",
    "debates_dates = mission_debates[['date', 'major_heading']].drop_duplicates().sort_values('date')"
   ]
  },
  {
   "cell_type": "code",
   "execution_count": 93,
   "metadata": {},
   "outputs": [
    {
     "data": {
      "text/html": [
       "<div>\n",
       "<style scoped>\n",
       "    .dataframe tbody tr th:only-of-type {\n",
       "        vertical-align: middle;\n",
       "    }\n",
       "\n",
       "    .dataframe tbody tr th {\n",
       "        vertical-align: top;\n",
       "    }\n",
       "\n",
       "    .dataframe thead th {\n",
       "        text-align: right;\n",
       "    }\n",
       "</style>\n",
       "<table border=\"1\" class=\"dataframe\">\n",
       "  <thead>\n",
       "    <tr style=\"text-align: right;\">\n",
       "      <th></th>\n",
       "      <th>major_heading</th>\n",
       "      <th>counts</th>\n",
       "    </tr>\n",
       "  </thead>\n",
       "  <tbody>\n",
       "    <tr>\n",
       "      <th>0</th>\n",
       "      <td>Business of the House</td>\n",
       "      <td>2</td>\n",
       "    </tr>\n",
       "    <tr>\n",
       "      <th>1</th>\n",
       "      <td>Carbon Capture, Usage and Storage</td>\n",
       "      <td>15</td>\n",
       "    </tr>\n",
       "    <tr>\n",
       "      <th>2</th>\n",
       "      <td>Energy Security and Net Zero</td>\n",
       "      <td>25</td>\n",
       "    </tr>\n",
       "    <tr>\n",
       "      <th>3</th>\n",
       "      <td>Farming and Food Security</td>\n",
       "      <td>1</td>\n",
       "    </tr>\n",
       "    <tr>\n",
       "      <th>4</th>\n",
       "      <td>Prime Minister</td>\n",
       "      <td>2</td>\n",
       "    </tr>\n",
       "  </tbody>\n",
       "</table>\n",
       "</div>"
      ],
      "text/plain": [
       "                       major_heading  counts\n",
       "0              Business of the House       2\n",
       "1  Carbon Capture, Usage and Storage      15\n",
       "2       Energy Security and Net Zero      25\n",
       "3          Farming and Food Security       1\n",
       "4                     Prime Minister       2"
      ]
     },
     "execution_count": 93,
     "metadata": {},
     "output_type": "execute_result"
    }
   ],
   "source": [
    "debate_titles_df = mission_debates.groupby(\"major_heading\").agg(counts=(\"speech_id\", \"count\")).reset_index()\n",
    "debate_titles_df"
   ]
  },
  {
   "cell_type": "markdown",
   "metadata": {},
   "source": [
    "## Summarise the debates"
   ]
  },
  {
   "cell_type": "code",
   "execution_count": 99,
   "metadata": {},
   "outputs": [
    {
     "data": {
      "text/plain": [
       "date                               2024-10-08\n",
       "major_heading    Energy Security and Net Zero\n",
       "Name: 15, dtype: object"
      ]
     },
     "execution_count": 99,
     "metadata": {},
     "output_type": "execute_result"
    }
   ],
   "source": [
    "debates_dates.iloc[1]"
   ]
  },
  {
   "cell_type": "code",
   "execution_count": 107,
   "metadata": {},
   "outputs": [
    {
     "name": "stdout",
     "output_type": "stream",
     "text": [
      "======\n",
      "Carbon Capture, Usage and Storage\n",
      "2024-10-07\n",
      "======\n",
      "2024-10-07\n",
      "Bill Esterson (Labour)\n",
      "Topics: Hydrogen energy\n",
      "Unlike the shadow Secretary of State, I am very pleased that the Secretary of State has announced jobs in Teesside—jobs from which my constituents in the north-west of England will potentially benefit. I am also very pleased that we have a Government who are committed to an industrial strategy, and who believe in Government working in partnership with business. The Secretary of State mentioned just how important it is that we have this technology if we are to decarbonise; he quoted James Richardson in making the case. It will be crucial for the abatement of heavy industries such as chemicals, glass—the Secretary of State went to visit a glass factory in the north-west on Friday—and cement, but it will also be crucial for hydrogen production, for the new gas-fired power stations and, indeed, for converting waste into energy. How long does he think we will need this technology for the abatement of heavy industry, and how long does he think we will need it for hydrogen production and production from gas?\n",
      "-----\n",
      "2024-10-07\n",
      "Ed Miliband (Labour)\n",
      "Topics: CCUS,Hydrogen energy\n",
      "I thank my hon. Friend for his question; he makes a really important point. Some people are sceptical about the use of carbon capture and storage. The truth is that for hard-to-abate industries—cement, for example—unless we have CCS technology, either there will be no future for these industries or they will not be able to decarbonise. Yes, it is an investment, but it is absolutely crucial, and I am struck by what the  IEA said. We are talking about probably 20% of industry, and we are doing the right thing for Britain and setting an example to the world. I always say on these occasions that, when it comes to blue hydrogen and gas with CCUS, we need all the technologies at our disposal on this decarbonisation journey. It is going to be a primarily renewables-based system, but nuclear has an important role and we need dispatchable decarbonised or low-carbon generation as well. All these things have a role, and the pathway will become clearer over time, but this issue is so urgent that I want to have all the technologies at our disposal.\n",
      "-----\n",
      "2024-10-07\n",
      "Ed Miliband (Labour)\n",
      "Topics: CCUS\n",
      "May I begin by welcoming the hon. Lady to her place, and thanking her for the tone and substance of her remarks? She is right to underline the fact that we are marking a new era but also marking the passing of an era, and it is right to pay tribute to all  the people who worked in our coal-fired power stations and, indeed, who worked underground to dig coal for our country. It is a big moment of change and the passing of an era. On the hon. Lady’s broad points about CCS, my philosophy is that we want zero-carbon power where possible, but we also need carbon capture, particularly for hard-to-abate sectors and so that we can have not unabated gas, but gas with CCS or hydrogen power. She raises the question of cost. Imagine if we had had this conversation 15 years ago, when I was Secretary of State and much younger—15 years younger, to be precise. [Interruption.] Yes, I am good at maths. Some people were saying at the time, “Why are you subsidising offshore wind? It can never be competitive with fossil fuels.” Now, it is among the cheapest technologies to build and operate. That is what deployment does for us, and that is what the combination of public and private sectors working together does for us. Yes, there is an investment here, but a far-sighted, forward-looking Government have to make such investments, and I welcome the hon. Lady’s support.\n",
      "-----\n",
      "2024-10-07\n",
      "Barry Gardiner (Labour)\n",
      "Topics: CCUS,Hydrogen energy\n",
      "I had rather hoped that my right hon. Friend was going to start his statement by saying, “As I was saying before I was so rudely interrupted—”. I have waited so long to hear a Secretary of State make such announcements from the Dispatch Box, and I am delighted. However, my right hon. Friend knows that carbon capture technologies reduce the energy intensity of fossil fuels by up to 25%, which makes such electricity much more expensive than that produced from renewables. Can the Secretary of State confirm that CCUS will be used not simply to allow the continued extraction of fossil fuel for our power sector, but only for the hardest-to-abate heavy industries and for the production of green hydrogen, thereby keeping domestic fuel bills low and delivering on this Government’s commitment to decarbonise our power sector by 2030 through much cheaper renewables and nuclear, not more expensive gas with CCUS? Finally, may I caution him against swallowing too much of the hype around blue hydrogen?\n",
      "-----\n",
      "2024-10-07\n",
      "Ed Miliband (Labour)\n",
      "Topics: Hydrogen energy\n",
      "I thank my hon. Friend for his question; he speaks with great knowledge and expertise on these issues. He is absolutely right about the hard-to-abate sectors. I say to him what I said to the Chair of the Energy Security and Net Zero Committee, my hon. Friend the Member for Sefton Central (Bill Esterson): there is a role for both blue hydrogen and gas with CCUS, but that is within the context of a primarily renewables-based system that uses nuclear as well. It goes back to the point about needing all the technologies at our disposal if we are to surmount the challenges we face.\n",
      "-----\n",
      "2024-10-07\n",
      "Dave Doogan (Scottish National Party)\n",
      "Topics: CCUS\n",
      "The Secretary of State says he is absolutely committed to the Acorn project. Well, the way to show that would be to fund it, because yet again the UK Government have failed to announce funding for carbon capture utilisation and storage projects in Scotland. This is a disaster economically, industrially and environmentally. I am sure he will agree that without Acorn, the UK cannot meet its net zero targets and will miss them by some margin. The last Tory Government failed to back this project in Scotland for years, and despite offering change, Labour has done exactly the same thing, following the same path with broadly the same budget and prioritising less developed, less substantial and less deliverable projects in England while offering the Scottish cluster no funding at all to date. People in Scotland remember well how  eager the Treasury and the Westminster Government were to get their hands on revenues from North sea oil and gas. When will we see that returned with investment from Westminster into the north-east of Scotland to support the Acorn project?\n",
      "-----\n",
      "2024-10-07\n",
      "Anneliese Midgley (Labour)\n",
      "Topics: CCUS\n",
      "I welcome my right hon. Friend’s announcement of major investment in carbon capture in our industrial heartlands, including in Merseyside. Knowsley hosts significant industrial capacity and has huge potential to contribute to this. Can the Secretary of State provide details and meet me to discuss how Knowsley will benefit from investment in the thousands of good, secure jobs expected under this scheme?\n",
      "-----\n",
      "2024-10-07\n",
      "Wera Hobhouse (Liberal Democrat)\n",
      "Topics: CCUS\n",
      "Waste incinerators release, on average, a tonne of CO2 for every tonne of waste incinerated. They are usually called “energy from waste” but their environmental value is questionable unless carbon capture is attached. Yes, we need to recycle more, but energy from waste will be with us for years to come. Will the Secretary of State commit to significantly scaling up carbon capture for energy from waste plants?\n",
      "-----\n",
      "2024-10-07\n",
      "Ed Miliband (Labour)\n",
      "Topics: CCUS\n",
      "I respect the right hon. Gentleman’s question, although I do not agree. First, this is a long-term investment in the country’s future, and I think the Chancellor is far-sighted in recognising its importance. Secondly, there are hard-to-abate industries that, without carbon capture, will find it very hard to enter a decarbonised world. We have to protect those industries, but I agree that, where industries can decarbonise without CCS, of course we want them to do so.\n",
      "-----\n",
      "2024-10-07\n",
      "Adrian Ramsay (Green)\n",
      "Topics: CCUS,Hydrogen energy\n",
      "As the Secretary of State will be aware, the vast majority of carbon capture and storage pilot and demonstration projects that have been commissioned worldwide have been cancelled or put on hold. I am concerned that the Government are putting so much money—£22 billion—into an unproven technology. I understand that the track 1 projects are about new gas power stations and blue hydrogen, about which the hon. Member for Brent West (Barry Gardiner) has already expressed concern because they are fossil fuel technologies. Will the Secretary of State rule out investing any of this £22 billion in new fossil fuels, locking the UK into new fossil fuel production? Will he instead consider a major scaling up of natural carbon capture through major investment in the restoration of woodlands, peatlands and wetlands?\n",
      "-----\n",
      "2024-10-07\n",
      "Ed Miliband (Labour)\n",
      "Topics: CCUS\n",
      "My hon. Friend makes such an important point. I was with the Prime Minister in New York in the last couple of weeks, talking to international partners about where the new British Government stood, and there is a sense that British leadership is back. However, if I had said to them, “We can’t do carbon capture; that’s just not an answer,” they would have said, “Well, what are we going to do about our industries?” My hon. Friend is absolutely right: we need to have all the solutions at our disposal, both for British leadership and for global decarbonisation.\n",
      "-----\n",
      "2024-10-07\n",
      "Jayne Kirkham (Labour/Co-operative)\n",
      "Topics: CCUS,Geothermal energy\n",
      "I am so pleased to be part of a new era of clean energy investment, with carbon capture in the north-east and the very successful recent renewables auction. The Secretary of State has been to see our critical minerals, floating offshore wind potential and geothermal potential in Cornwall. Will he please confirm that the industrial strategy and renewables will be truly UK-wide and will span from Scotland and the north-east down to the west and Cornwall, with a clear pipeline of investment opportunities in order to give certainty to developers in, for example, floating offshore wind in the Celtic sea?\n",
      "-----\n",
      "2024-10-07\n",
      "Caroline Voaden (Liberal Democrat)\n",
      "Topics: Built environment,CCUS,Hydrogen energy\n",
      "I welcome the Secretary of State’s enthusiasm for decarbonisation and carbon capture, particularly in heavy industry, including cement. However, the track 1 projects include new gas power stations and new blue hydrogen, which will carry a huge greenhouse gas penalty caused by upstream methane emissions. Will the Secretary of State therefore commit to reviewing the full-lifecycle greenhouse gas emissions for any project before it goes to a full investment decision?\n",
      "-----\n",
      "2024-10-07\n",
      "Brian Mathew (Liberal Democrat)\n",
      "Topics: CCUS\n",
      "I welcome the Secretary of State’s statement, but carbon capture can be done in a number of ways. Anaerobic digestion plants, for example, produce as much CO2 as methane, which can be ducted into greenhouses to produce bigger tomatoes, cucumbers and lettuces. Will such natural carbon capture be included in the project, thereby helping to enhance our food security?\n",
      "-----\n",
      "2024-10-07\n",
      "Jim Shannon (DUP)\n",
      "Topics: CCUS\n",
      "Maybe not the final word, Madam Deputy Speaker, as that will be for the Secretary of State. I welcome the statement, in which he rightly underlined that anybody who ignores carbon capture, use and storage does so at their peril, and the  Government’s commitment to carbon capture. While the amount set aside is incredible, so too is the requirement that every penny brings an achievement. How will the Secretary of State ensure that each region of the United Kingdom is involved in this net gain? I say to him gently that Northern Ireland is not mentioned in his statement; I am sure he will address that issue. There must be accountability to ensure the realisation of environmental goals, rather than simply the aspiration of achieving them.\n",
      "-----\n"
     ]
    }
   ],
   "source": [
    "row = debates_dates.iloc[0]\n",
    "debate = row.major_heading\n",
    "print(\"======\")\n",
    "print(debate)\n",
    "print(row.date)\n",
    "print(\"======\")\n",
    "speech = mission_debates.query(\"major_heading == @debate\").to_dict(orient='records')\n",
    "mission_debates.query(\"major_heading == @debate\")\n",
    "for s in speech:\n",
    "    print(s['date'])\n",
    "    print(f\"{s['speakername']} ({s['name_org']})\")\n",
    "    print(f\"Topics: {s['topic_labels']}\")\n",
    "    print(s['speech'])\n",
    "    print(\"-----\")"
   ]
  },
  {
   "cell_type": "code",
   "execution_count": 74,
   "metadata": {},
   "outputs": [],
   "source": [
    "# for _, row in debates_dates.iterrows():\n",
    "#     debate = row.major_heading\n",
    "#     print(\"======\")\n",
    "#     print(debate)\n",
    "#     print(row.date)\n",
    "#     print(\"======\")\n",
    "#     speech = mission_debates.query(\"major_heading == @debate\").to_dict(orient='records')\n",
    "#     for s in speech:\n",
    "#         print(s['date'])\n",
    "#         print(f\"{s['speakername']} ({s['name_org']})\")\n",
    "#         print(s['speech'])\n",
    "#         print(\"-----\")"
   ]
  },
  {
   "cell_type": "markdown",
   "metadata": {},
   "source": [
    "## Testing utils"
   ]
  },
  {
   "cell_type": "code",
   "execution_count": 246,
   "metadata": {},
   "outputs": [],
   "source": [
    "from src import synthesis_utils\n",
    "import importlib\n",
    "importlib.reload(synthesis_utils);"
   ]
  },
  {
   "cell_type": "code",
   "execution_count": 309,
   "metadata": {},
   "outputs": [
    {
     "name": "stdout",
     "output_type": "stream",
     "text": [
      "Energy Security and Net Zero\n"
     ]
    }
   ],
   "source": [
    "row = debates_dates.iloc[1]\n",
    "debate = row.major_heading\n",
    "print(debate)"
   ]
  },
  {
   "cell_type": "code",
   "execution_count": 310,
   "metadata": {},
   "outputs": [],
   "source": [
    "_weekly_speeches_df = weekly_speeches_df.merge(parties_df[['person_id', 'name_org']], on = 'person_id', how='left', suffixes=('', '_person'))\n",
    "debs = _weekly_speeches_df.query(\"major_heading == @debate\").sort_values('speech_id').to_dict(orient='records')\n",
    "debate_text = \"\"\n",
    "for s in debs:\n",
    "    debate_text = debate_text + f\"{s['speakername']} ({s['name_org']})\" + \"\\n\"\n",
    "    debate_text = debate_text + s['speech'] + \"\\n\"\n",
    "    debate_text = debate_text + \"-----\" + \"\\n\""
   ]
  },
  {
   "cell_type": "code",
   "execution_count": 311,
   "metadata": {},
   "outputs": [],
   "source": [
    "debate_instance = synthesis_utils.Debate(heading=debate, content=debate_text)"
   ]
  },
  {
   "cell_type": "code",
   "execution_count": 312,
   "metadata": {},
   "outputs": [
    {
     "data": {
      "text/plain": [
       "{'is_relevant': True, 'heading': 'Energy Security and Net Zero'}"
      ]
     },
     "execution_count": 312,
     "metadata": {},
     "output_type": "execute_result"
    }
   ],
   "source": [
    "synthesis_utils.is_debate_relevant(debate_instance, synthesis_utils.config['mission_statements']['ASF'])"
   ]
  },
  {
   "cell_type": "code",
   "execution_count": 313,
   "metadata": {},
   "outputs": [],
   "source": [
    "result = synthesis_utils.summarise_debate_with_structure(debate_instance, synthesis_utils.config['mission_statements']['ASF'])"
   ]
  },
  {
   "cell_type": "code",
   "execution_count": 314,
   "metadata": {},
   "outputs": [
    {
     "data": {
      "text/plain": [
       "['Simon Opher (Lab) highlighted the excitement and support for sustainable goals in Stroud, particularly the community energy programme for solar panels on schools and public buildings.',\n",
       " 'Ed Miliband (Lab) discussed the Great British Energy plans to work with local schools and hospitals to implement solar panel programmes, which would help decarbonise and reduce bills.',\n",
       " \"Alex Barros-Curtis (Lab) celebrated Cantonian high school achieving operational net zero and the Fairwater community campus's energy-efficient buildings, aligning with Cardiff's One Planet strategy.\",\n",
       " 'Sarah Jones (Lab) noted that carbon capture and storage could create 4,000 jobs in the short term and up to 50,000 jobs over the next decade, contributing to economic growth in low-carbon sectors.']"
      ]
     },
     "execution_count": 314,
     "metadata": {},
     "output_type": "execute_result"
    }
   ],
   "source": [
    "result.positives"
   ]
  },
  {
   "cell_type": "code",
   "execution_count": 315,
   "metadata": {},
   "outputs": [],
   "source": [
    "result_ = synthesis_utils.generate_crisp_summary(result)"
   ]
  },
  {
   "cell_type": "code",
   "execution_count": 316,
   "metadata": {},
   "outputs": [
    {
     "name": "stdout",
     "output_type": "stream",
     "text": [
      "- The debate centers on the UK government's goal of achieving 100% sustainability by 2030, focusing on renewable energy and community involvement.\n",
      "- Positives include community energy programs in Stroud (Opher, Lab), Great British Energy plans for schools and hospitals (Miliband, Lab), and job creation through carbon capture (Jones, Lab).\n",
      "- Negatives involve concerns over airport expansions contradicting net zero targets (Wilson, Lib Dem), potential conflicts of interest in climate envoy appointment (Morrissey, Con), and rising energy bills (Coutinho, Con).\n",
      "- Next steps include assessing offshore wind cabling routes (Miliband, Lab), a warm homes initiative for renters (Fahnbulleh, Lab/Co-op), and improving grid connections for renewable projects (Shanks, Lab).\n"
     ]
    }
   ],
   "source": [
    "print(result_.summary)"
   ]
  },
  {
   "cell_type": "code",
   "execution_count": 331,
   "metadata": {},
   "outputs": [],
   "source": [
    "importlib.reload(synthesis_utils);"
   ]
  },
  {
   "cell_type": "code",
   "execution_count": 322,
   "metadata": {},
   "outputs": [],
   "source": [
    "result = synthesis_utils.generate_direct_summary(debate_instance, synthesis_utils.config['mission_statements']['ASF'])"
   ]
  },
  {
   "cell_type": "code",
   "execution_count": 323,
   "metadata": {},
   "outputs": [
    {
     "name": "stdout",
     "output_type": "stream",
     "text": [
      "- The debate focused on the UK government's commitment to achieving 100% sustainable energy by 2030, with speakers highlighting initiatives like community solar projects in Stroud and Cardiff, and the importance of decarbonising public buildings (Opher, Miliband, Barros-Curtis, Labour).  \n",
      "- Positives included the announcement of 131 renewable electricity projects capable of powering 11 million homes, and plans for carbon capture and storage expected to create up to 50,000 jobs over the next decade (Shanks, Jones, Labour).  \n",
      "- Negatives raised included concerns over airport expansions contradicting net zero targets, and the legacy of the previous government’s inaction on energy infrastructure, which has led to delays in renewable projects (Wilson, Coutinho, Conservative; Miliband, Labour).  \n",
      "- Next steps involve assessing alternative cabling routes for offshore wind farms, enhancing grid capacity, and implementing a warm homes plan to tackle fuel poverty, with a focus on community energy initiatives (Snowden, Shanks, Fahnbulleh, Labour; Bowie, Conservative).\n"
     ]
    }
   ],
   "source": [
    "print(result.summary)"
   ]
  },
  {
   "cell_type": "code",
   "execution_count": 334,
   "metadata": {},
   "outputs": [],
   "source": [
    "result__ = synthesis_utils.generate_nesta_summary(debate_instance)"
   ]
  },
  {
   "cell_type": "code",
   "execution_count": 335,
   "metadata": {},
   "outputs": [
    {
     "name": "stdout",
     "output_type": "stream",
     "text": [
      "1. Miatta Fahnbulleh (Labour/Co-operative) announced the Warm Homes Plan, which aims to upgrade homes across the UK with grants and low-interest loans for insulation and low-carbon heating, targeting fuel poverty and improving energy efficiency.\n",
      "2. Ed Miliband (Labour) highlighted the importance of Great British Energy's plans to work with local schools and hospitals to implement solar panel programmes, which will help decarbonise public buildings and reduce energy bills.\n",
      "3. Michael Shanks (Labour) discussed the government's commitment to halving the development time for new transmission infrastructure, essential for achieving clean power by 2030 and meeting future electricity demands.\n",
      "4. Sarah Jones (Labour) emphasized the government's proactive approach to carbon capture and storage, which is expected to create thousands of jobs and support the transition to a low-carbon economy.\n",
      "5. Miatta Fahnbulleh (Labour/Co-operative) stated that the commitment to improve energy efficiency standards will lift 1 million renters out of fuel poverty, aligning with Nesta's mission to decarbonise household activities.\n"
     ]
    }
   ],
   "source": [
    "print(result__.summary)"
   ]
  },
  {
   "cell_type": "markdown",
   "metadata": {},
   "source": [
    "## Simple pipeline"
   ]
  },
  {
   "cell_type": "code",
   "execution_count": 127,
   "metadata": {},
   "outputs": [],
   "source": [
    "import importlib\n",
    "from src import synthesis_utils\n",
    "importlib.reload(synthesis_utils);\n",
    "import numpy as np\n",
    "from typing import Literal, Tuple, List, Dict\n",
    "\n",
    "from src import logging\n",
    "from discovery_utils.utils import keywords"
   ]
  },
  {
   "cell_type": "code",
   "execution_count": 8,
   "metadata": {},
   "outputs": [],
   "source": [
    "from slack_sdk.webhook import WebhookClient\n",
    "import os\n",
    "slack_webhook = WebhookClient(os.environ[\"SLACK_WEBHOOK_URL_TESTING\"])"
   ]
  },
  {
   "cell_type": "code",
   "execution_count": 18,
   "metadata": {},
   "outputs": [],
   "source": [
    "from typing import List, Dict\n",
    "\n",
    "def mission_header(mission: str) -> Dict:\n",
    "    \"\"\"Construct mission header block\"\"\"\n",
    "    if mission == \"ASF\":\n",
    "        mission_header = \":potted_plant: *A Sustainable Future*\"\n",
    "    elif mission == \"AFS\":\n",
    "        mission_header = \":hatched_chick: *A Fairer Start*\"\n",
    "    elif mission == \"AHL\":\n",
    "        mission_header = \":mending_heart: *A Healthier Life*\"\n",
    "    else:\n",
    "        raise ValueError(f\"Invalid mission: {mission}\")\n",
    "\n",
    "    return {\"type\": \"section\", \"text\": {\"type\": \"mrkdwn\", \"text\": mission_header}}\n",
    "\n",
    "def message_header(message_date:str, data_start_date:str, data_end_date:str) -> List[Dict]:\n",
    "    \"\"\"Construct message header block\n",
    "    \n",
    "    Args:\n",
    "        message_date (str): Date when posting the message, in format DD-MM-YYYY\n",
    "        data_start_date (str): Start date of the data, in format DD-MM-YYYY\n",
    "        data_end_date (str): End date of the data, in format DD-MM-YYYY\n",
    "\n",
    "    Returns:\n",
    "        List[Dict]: List of blocks including a header and a context block, where \n",
    "            context block indicates data sources and date range\n",
    "    \"\"\"\n",
    "    header = {\n",
    "        \"type\": \"header\",\n",
    "        \"text\": {\n",
    "            \"type\": \"plain_text\",\n",
    "            \"text\": f\"Policy update {message_date}\",\n",
    "        }\n",
    "    }\n",
    "    context = {\n",
    "        \"type\": \"context\",\n",
    "        \"elements\": [\n",
    "            {\n",
    "                \"type\": \"mrkdwn\",\n",
    "                \"text\": f\"House of Commons debates ({data_start_date} - {data_end_date})\",\n",
    "            }\n",
    "        ]\n",
    "    }\n",
    "    return [header, context]\n",
    "    \n",
    "\n",
    "def divider() -> Dict:\n",
    "    \"\"\"Construct a divider block\"\"\"\n",
    "    return {\"type\": \"divider\"}\n",
    "\n",
    "def _bullet_point_string(points: List[str]) -> str:\n",
    "    \"\"\"Construct a string of bullet points from a list of strings\"\"\"\n",
    "    return \"\\n\".join([f\"• {point}\" for point in points])     \n",
    "\n",
    "def debate_summary(debate: Dict) -> Dict:\n",
    "    \"\"\"Construct a block for a single debate summary\n",
    "    \n",
    "    Args:\n",
    "        debate (Dict): Dictionary with keys \"title\", \"summary\", \"positives\", \"negatives\", and \"next_steps\".\n",
    "            For example: {\n",
    "                \"title\": \"Title of the debate\",\n",
    "                \"purpose\": \"Summary of the debate\",\n",
    "                \"positives\": [\"Positive point 1\", \"Positive point 2\"],\n",
    "                \"negatives\": [\"Negative point 1\", \"Negative point 2\"],\n",
    "                \"next_steps\": [\"Next step 1\", \"Next step 2\"],\n",
    "            }\n",
    "    \"\"\"\n",
    "    summary = {\n",
    "        \"type\": \"section\",\n",
    "        \"text\": {\n",
    "            \"type\": \"mrkdwn\",\n",
    "            \"text\": f\"*{debate['title']}*\\n{debate['purpose']}.\"\n",
    "        }\n",
    "    }\n",
    "    positives = {\n",
    "        \"type\": \"section\",\n",
    "        \"text\":{\n",
    "             \"type\": \"mrkdwn\",\n",
    "             \"text\": f\"*Positives*\\n{_bullet_point_string(debate['positives'])}\"\n",
    "        }\n",
    "    }\n",
    "    negatives = {\n",
    "        \"type\": \"section\",\n",
    "        \"text\":{\n",
    "             \"type\": \"mrkdwn\",\n",
    "             \"text\": f\"*Negatives*\\n{_bullet_point_string(debate['negatives'])}\"\n",
    "        }\n",
    "    }\n",
    "    next_steps = {\n",
    "        \"type\": \"section\",\n",
    "        \"text\":{\n",
    "             \"type\": \"mrkdwn\",\n",
    "             \"text\": f\"*Next Steps*\\n{_bullet_point_string(debate['next_steps'])}\"\n",
    "        }\n",
    "    }\n",
    "    return [summary, positives, negatives, next_steps, divider()]\n",
    "\n",
    "def quote_block(quote: Dict) -> Dict:\n",
    "    \"\"\"Construct a block with a quote\n",
    "    \n",
    "    Args:\n",
    "        quote (Dict): Dictionary with keys \"name\", \"party\", \"category\", \"debate\", and \"text\".\n",
    "    \"\"\"\n",
    "    return {\n",
    "        \"type\": \"section\",\n",
    "        \"text\": {\n",
    "            \"type\": \"mrkdwn\",\n",
    "            \"text\": f\"*{quote['name']}* ({quote['party']}) mentioned *{quote['category']}* in *{quote['debate']}*\\n\\n> {quote['text']}\"\n",
    "        }\n",
    "    }"
   ]
  },
  {
   "cell_type": "code",
   "execution_count": 10,
   "metadata": {},
   "outputs": [],
   "source": [
    "\n",
    "def people_party_memberships(people_dict: dict) -> pd.DataFrame:\n",
    "    \"\"\"Get the most recent party membership for each person\n",
    "    \n",
    "    Args:\n",
    "        people_dict: The dictionary of people metadata from the Hansard data\n",
    "    \n",
    "    Returns:\n",
    "        A DataFrame that includes 'person_id' and 'name_org' columns\n",
    "    \"\"\"\n",
    "    orgs_df = pd.DataFrame(people_dict['organizations'])[['id', 'name']]\n",
    "    return (\n",
    "        pd.DataFrame(people_dict['memberships'])\n",
    "        .sort_values('start_date', ascending=False)\n",
    "        .drop_duplicates('person_id')\n",
    "        .merge(orgs_df, left_on='on_behalf_of_id', right_on='id', how='left', suffixes=(\"_\", \"_org\"))\n",
    "    )[['person_id', 'post_id', 'start_date', 'start_reason', 'name_org']] \n",
    "\n",
    "def get_weekly_start_date(end_date: str, weeks:int=1) -> str:\n",
    "    \"\"\"Get the start date for a weekly period ending at the specified end_date\n",
    "    \n",
    "    Args:\n",
    "        end_date: The end date of the period, in the format \"YYYY-MM-DD\"\n",
    "        weeks: The number of weeks to go back\n",
    "\n",
    "    Returns:\n",
    "        The start date of the period, in the format \"YYYY-MM-DD\"\n",
    "    \"\"\"\n",
    "    data_end_date = datetime.strptime(end_date, \"%Y-%m-%d\")\n",
    "    weeks_ago = data_end_date - timedelta(weeks=weeks)\n",
    "    return weeks_ago.strftime(\"%Y-%m-%d\")\n",
    "\n",
    "\n",
    "def get_speeches_for_period(\n",
    "    debates_df: pd.DataFrame,\n",
    "    labelstore_df: pd.DataFrame,\n",
    "    start_date: str,\n",
    "    end_date: str\n",
    ") -> pd.DataFrame:\n",
    "    \"\"\"Get the speeches for a given period\n",
    "    \n",
    "    Args:\n",
    "        debates_df: The DataFrame with debates\n",
    "        labelstore_df: The DataFrame with labels\n",
    "        start_date: The start date of the period, in the format \"YYYY-MM-DD\"\n",
    "        end_date: The end date of the period, in the format \"YYYY-MM-DD\"\n",
    "    \"\"\"\n",
    "    return (\n",
    "            debates_df\n",
    "            .query(\"date >= @start_date and date <= @end_date\")\n",
    "            .merge(labelstore_df[[\"id\", \"mission_labels\", \"topic_labels\"]], left_on=\"speech_id\", right_on=\"id\")\n",
    "            .drop_duplicates(subset=[\"speakername\", \"speech\"])\n",
    "            .assign(\n",
    "                headings=lambda df: np.where(\n",
    "                    df.minor_heading.notna() & (df.minor_heading != \"\"),  # Check if minor_heading is not empty\n",
    "                    df.major_heading.fillna(\"\") + \": \" + df.minor_heading,  # Combine both\n",
    "                    df.major_heading.fillna(\"\")  # Use only major_heading\n",
    "                )\n",
    "            )\n",
    "            .merge(parties_df[['person_id', 'name_org']], on='person_id', how='left', suffixes=('', '_person'))\n",
    "        )\n",
    "\n",
    "def get_debates_headings(debates_df: pd.DataFrame) -> pd.DataFrame:\n",
    "    \"\"\"Get the counts of debate speeches by major and minor headings\"\"\"\n",
    "    return (\n",
    "        debates_df\n",
    "        .fillna({\"major_heading\": \"\", \"minor_heading\": \"\"})\n",
    "        .groupby(['date', 'major_heading', 'minor_heading', 'headings'])\n",
    "        .agg(counts=('speech_id', 'count'))\n",
    "        .sort_values('date')\n",
    "        .reset_index() \n",
    "    )\n",
    "\n",
    "def get_debates_major_headings(debates_df: pd.DataFrame) -> pd.DataFrame:\n",
    "    \"\"\"Get the counts of debate speeches by major headings\"\"\"\n",
    "    return (\n",
    "        debates_df\n",
    "        .groupby([\"date\", \"major_heading\"])\n",
    "        .agg(counts=(\"speech_id\", \"count\"))\n",
    "        .sort_values(\"date\")\n",
    "        .reset_index()\n",
    "    )\n",
    "\n",
    "\n",
    "def get_debate_text(debates_df: pd.DataFrame, debate_title: str) -> str:\n",
    "    \"\"\"Get the text of a debate given its title\n",
    "    \n",
    "    Args:\n",
    "        debates_df: The DataFrame with debates\n",
    "        debate_title: The title of the debate\n",
    "    \n",
    "    Returns:\n",
    "        The text of the debate\n",
    "    \"\"\"\n",
    "    _debate = (\n",
    "        debates_df\n",
    "        .query(\"major_heading == @debate_title\")\n",
    "        .sort_values('speech_id')\n",
    "        .to_dict(orient='records')\n",
    "    )\n",
    "    debate_text = debate_title + \"\\n-----\\n\"\n",
    "    for speech in _debate:\n",
    "        debate_text += f\"{speech['speakername']} ({speech['name_org']})\" + \"\\n\"\n",
    "        debate_text += speech['speech'] + \"\\n\"\n",
    "        debate_text += \"-----\" + \"\\n\"\n",
    "    return debate_text\n",
    "\n",
    "\n",
    "def relevance_check(df: pd.DataFrame, threshold: int = 10, filter: Literal[None, 'relevant', 'not relevant']=None) -> pd.DataFrame:\n",
    "    \"\"\"Filter speeches by relevance threshold\"\"\"\n",
    "    df = (\n",
    "        df\n",
    "        .assign(relevant = lambda df: df['counts'] >= threshold)\n",
    "    )\n",
    "    if filter == 'relevant':\n",
    "        return df.query(\"relevant\")\n",
    "    elif filter == 'not relevant':\n",
    "        return df.query(\"not relevant\")\n",
    "    else:\n",
    "        return df"
   ]
  },
  {
   "cell_type": "code",
   "execution_count": 169,
   "metadata": {},
   "outputs": [],
   "source": [
    "import re\n",
    "\n",
    "def get_keyword_hits(speech: str, keywords_dict: dict) -> Tuple[List, List, List]:\n",
    "    \"\"\"Get keywords and sentences where they appear in a speech\"\"\"\n",
    "    hits_keywords = []\n",
    "    hits_sentences = []\n",
    "    hits_categories = []\n",
    "    marked_sentences = []\n",
    "    sents = keywords.split_sentences([speech], ids=[0])[0]\n",
    "\n",
    "    for cat in keywords_dict:\n",
    "        for kw in keywords_dict[cat]:\n",
    "            hits = keywords.find_keyword_hits(kw, sents)\n",
    "            for i, hit in enumerate(hits):\n",
    "                if hit:\n",
    "                    hits_keywords.append(kw)\n",
    "                    hits_sentences.append(sents[i])\n",
    "                    hits_categories.append(cat)\n",
    "\n",
    "                    # Add asterisks around the full words containing the matched keyword\n",
    "                    marked_sentence = sents[i]\n",
    "                    for keyword in kw:\n",
    "                        # Regex to find substrings and expand to full words\n",
    "                        pattern = r'\\b(\\S*' + re.escape(keyword) + r'\\S*)\\b'\n",
    "                        marked_sentence = re.sub(pattern, r'*\\1*', marked_sentence)\n",
    "                    \n",
    "                    marked_sentences.append(marked_sentence)   \n",
    "                \n",
    "    # print(f\"Hit for {hits_keywords} in sentences {hits_sentences}\")\n",
    "    return hits_categories, hits_keywords, marked_sentences"
   ]
  },
  {
   "cell_type": "code",
   "execution_count": 97,
   "metadata": {},
   "outputs": [
    {
     "data": {
      "text/plain": [
       "['2024-10-04', '2024-10-11', '2024-10-18', '2024-10-25']"
      ]
     },
     "execution_count": 97,
     "metadata": {},
     "output_type": "execute_result"
    }
   ],
   "source": [
    "from datetime import datetime, timedelta\n",
    "\n",
    "def get_all_fridays_last_month(today):\n",
    "    # Convert today's date to a datetime object\n",
    "    today = datetime.strptime(today, \"%Y-%m-%d\")\n",
    "\n",
    "    # Get the first day of the current month\n",
    "    first_day_this_month = today.replace(day=1)\n",
    "\n",
    "    # Get the last day of the previous month\n",
    "    last_day_previous_month = first_day_this_month - timedelta(days=1)\n",
    "\n",
    "    # Get the first day of the previous month\n",
    "    first_day_previous_month = last_day_previous_month.replace(day=1)\n",
    "\n",
    "    # Find all Fridays in the previous month\n",
    "    fridays = []\n",
    "    current_date = first_day_previous_month\n",
    "    while current_date <= last_day_previous_month:\n",
    "        if current_date.weekday() == 4:  # 4 corresponds to Friday\n",
    "            fridays.append(current_date)\n",
    "        current_date += timedelta(days=1)\n",
    "    fridays = [date.strftime(\"%Y-%m-%d\") for date in fridays]\n",
    "\n",
    "    return fridays\n",
    "\n",
    "# Get all Fridays of the past month\n",
    "fridays_last_month = get_all_fridays_last_month(\"2024-11-03\")\n",
    "\n",
    "# Display the result\n",
    "fridays_last_month"
   ]
  },
  {
   "cell_type": "code",
   "execution_count": 11,
   "metadata": {},
   "outputs": [],
   "source": [
    "parties_df = people_party_memberships(people_dict)"
   ]
  },
  {
   "cell_type": "code",
   "execution_count": 109,
   "metadata": {},
   "outputs": [],
   "source": [
    "keywords_dict = {}\n",
    "for mission in ['ASF', 'AFS', 'AHL']:\n",
    "    keywords_dict[mission] = keywords.get_keywords(mission)"
   ]
  },
  {
   "cell_type": "code",
   "execution_count": 110,
   "metadata": {},
   "outputs": [],
   "source": [
    "# for message_date in fridays_last_month:\n",
    "#     mission = 'AHL'\n",
    "#     # message_date = datetime.now().strftime(\"%Y-%m-%d\")\n",
    "#     # message_date = \"2024-10-10\"\n",
    "#     # message_date = \"2024-11-10\"\n",
    "#     data_end_date = message_date\n",
    "#     data_start_date = get_weekly_start_date(data_end_date, weeks=1)\n",
    "\n",
    "#     # Get the speeches of the preceding week\n",
    "#     weekly_speeches_df = get_speeches_for_period(\n",
    "#         debates_df=debates_df,\n",
    "#         labelstore_df=labelstore_df,\n",
    "#         start_date=data_start_date,\n",
    "#         end_date=data_end_date\n",
    "#     )\n",
    "#     # Select only debates related to one of the missions\n",
    "#     mission_debates_df = weekly_speeches_df.query(\"mission_labels == @mission\")\n",
    "#     # Get the major headings\n",
    "#     mission_debates_major_headings_df = get_debates_major_headings(mission_debates_df)\n",
    "#     # Filter the debates by relevance (simple threshold)\n",
    "#     debates_to_summarise_df = relevance_check(mission_debates_major_headings_df, filter='relevant')\n",
    "#     # Get unique debate titles\n",
    "#     debate_titles = debates_to_summarise_df.major_heading.unique()\n",
    "\n",
    "#     print(message_date)\n",
    "#     print(debate_titles)"
   ]
  },
  {
   "cell_type": "code",
   "execution_count": 111,
   "metadata": {},
   "outputs": [
    {
     "data": {
      "text/html": [
       "<div>\n",
       "<style scoped>\n",
       "    .dataframe tbody tr th:only-of-type {\n",
       "        vertical-align: middle;\n",
       "    }\n",
       "\n",
       "    .dataframe tbody tr th {\n",
       "        vertical-align: top;\n",
       "    }\n",
       "\n",
       "    .dataframe thead th {\n",
       "        text-align: right;\n",
       "    }\n",
       "</style>\n",
       "<table border=\"1\" class=\"dataframe\">\n",
       "  <thead>\n",
       "    <tr style=\"text-align: right;\">\n",
       "      <th></th>\n",
       "      <th>date</th>\n",
       "      <th>major_heading</th>\n",
       "      <th>counts</th>\n",
       "      <th>relevant</th>\n",
       "    </tr>\n",
       "  </thead>\n",
       "  <tbody>\n",
       "    <tr>\n",
       "      <th>0</th>\n",
       "      <td>2024-10-07</td>\n",
       "      <td>Carbon Capture, Usage and Storage</td>\n",
       "      <td>15</td>\n",
       "      <td>True</td>\n",
       "    </tr>\n",
       "    <tr>\n",
       "      <th>1</th>\n",
       "      <td>2024-10-08</td>\n",
       "      <td>Energy Security and Net Zero</td>\n",
       "      <td>25</td>\n",
       "      <td>True</td>\n",
       "    </tr>\n",
       "  </tbody>\n",
       "</table>\n",
       "</div>"
      ],
      "text/plain": [
       "         date                      major_heading  counts  relevant\n",
       "0  2024-10-07  Carbon Capture, Usage and Storage      15      True\n",
       "1  2024-10-08       Energy Security and Net Zero      25      True"
      ]
     },
     "execution_count": 111,
     "metadata": {},
     "output_type": "execute_result"
    }
   ],
   "source": [
    "mission = 'ASF'\n",
    "# message_date = datetime.now().strftime(\"%Y-%m-%d\")\n",
    "message_date = \"2024-11-08\"\n",
    "message_date = \"2024-11-22\"\n",
    "message_date = \"2024-10-10\"\n",
    "data_end_date = message_date\n",
    "data_start_date = get_weekly_start_date(data_end_date, weeks=1)\n",
    "\n",
    "# Get the speeches of the preceding week\n",
    "weekly_speeches_df = get_speeches_for_period(\n",
    "    debates_df=debates_df,\n",
    "    labelstore_df=labelstore_df,\n",
    "    start_date=data_start_date,\n",
    "    end_date=data_end_date\n",
    ")\n",
    "# Select only debates related to one of the missions\n",
    "mission_debates_df = weekly_speeches_df.query(\"mission_labels == @mission\")\n",
    "# Get the major headings\n",
    "mission_debates_major_headings_df = get_debates_major_headings(mission_debates_df)\n",
    "# Filter the debates by relevance (simple threshold)\n",
    "debates_to_summarise_df = relevance_check(mission_debates_major_headings_df, filter='relevant')\n",
    "# Get unique debate titles\n",
    "debate_titles = debates_to_summarise_df.major_heading.unique()\n",
    "debates_to_summarise_df"
   ]
  },
  {
   "cell_type": "code",
   "execution_count": 89,
   "metadata": {},
   "outputs": [],
   "source": [
    "importlib.reload(synthesis_utils);"
   ]
  },
  {
   "cell_type": "code",
   "execution_count": 90,
   "metadata": {},
   "outputs": [
    {
     "name": "stderr",
     "output_type": "stream",
     "text": [
      "2024-12-03 18:12:33,770 - root - INFO - Summarising debate: Children’s Social Care\n"
     ]
    }
   ],
   "source": [
    "debate_dicts = []\n",
    "for debate_title in debate_titles:\n",
    "    logging.info(f\"Summarising debate: {debate_title}\")\n",
    "    # Prepare the debate text\n",
    "    debate_text = get_debate_text(weekly_speeches_df, debate_title)\n",
    "    debate_instance = synthesis_utils.Debate(heading=debate_title, content=debate_text)   \n",
    "    # Call LLM\n",
    "    result = synthesis_utils.summarise_debate_with_structure(debate_instance, None)\n",
    "    # Prepare the debate dictionary\n",
    "    debate_dict = result.model_dump()\n",
    "    debate_dict['title'] = debate_title\n",
    "    debate_dicts.append(debate_dict)\n"
   ]
  },
  {
   "cell_type": "code",
   "execution_count": 170,
   "metadata": {},
   "outputs": [],
   "source": [
    "# Debates with few mentions\n",
    "quotes = []\n",
    "debates_not_relevant_df = relevance_check(mission_debates_major_headings_df, filter='not relevant')\n",
    "\n",
    "for debate_title in debates_not_relevant_df.major_heading.to_list():\n",
    "    df = mission_debates_df.query(\"major_heading == @debate_title\")\n",
    "    for _, row in df.iterrows():\n",
    "        cat_hits, kw_hits, sentences = get_keyword_hits(row['speech'], keywords_dict[mission])\n",
    "        text = \" .. \".join(sentences)\n",
    "\n",
    "        quote = {\n",
    "            \"name\": row['speakername'],\n",
    "            \"party\": row['name_org'],\n",
    "            \"category\": row['topic_labels'],\n",
    "            \"debate\": debate_title,\n",
    "            \"text\": text,\n",
    "            \"keywords\": kw_hits\n",
    "        }\n",
    "        quotes.append(quote)\n",
    "\n"
   ]
  },
  {
   "cell_type": "code",
   "execution_count": 171,
   "metadata": {},
   "outputs": [
    {
     "data": {
      "text/plain": [
       "[{'name': 'Steve Barclay',\n",
       "  'party': 'Conservative',\n",
       "  'category': 'Solar',\n",
       "  'debate': 'Farming and Food Security',\n",
       "  'text': 'For the longer term, Labour Ministers have overruled officials to cover some of the country’s best farmland in *solar panel*s.',\n",
       "  'keywords': [['solar panel']]},\n",
       " {'name': 'Keir Starmer',\n",
       "  'party': 'Labour',\n",
       "  'category': 'CCUS',\n",
       "  'debate': 'Prime Minister',\n",
       "  'text': 'We have had in recent months £8 billion from Amazon for jobs across the country, £10 billion from Blackstone for jobs across the north-east, £22 billion on *carbon capture* for jobs in the north-east and north-west, and £500 million for UK buses in Northern Ireland.',\n",
       "  'keywords': [['carbon capture']]},\n",
       " {'name': 'Noah Law',\n",
       "  'party': 'Labour',\n",
       "  'category': 'Renewables - General',\n",
       "  'debate': 'Prime Minister',\n",
       "  'text': 'With shared prosperity funding drawing to a close, and Cornwall having some of the greatest potential in Europe in critical minerals and *renewable energy*, it is time for  our aspiring Celtic tiger to identify much more strategic sources of investment funding, which take us away from the short-termist begging-bowl politics of the previous decade.',\n",
       "  'keywords': [['renewable energy']]},\n",
       " {'name': 'Chris Murray',\n",
       "  'party': 'Labour',\n",
       "  'category': 'District heating',\n",
       "  'debate': 'Business of the House',\n",
       "  'text': 'Around half a million people rely on *heat network*s, which is good in achieving our climate goals, but *heat network*s are not included in the Ofgem price cap.',\n",
       "  'keywords': [['heat network']]},\n",
       " {'name': 'Lucy Powell',\n",
       "  'party': 'Labour/Co-operative',\n",
       "  'category': 'Renewables - General',\n",
       "  'debate': 'Business of the House',\n",
       "  'text': 'Next week’s Westminster Hall debate on the community benefits of *renewable energy* projects may provide him with an opportunity to raise it, but if not I will ensure that he gets a good response from the Minister.',\n",
       "  'keywords': [['renewable energy']]}]"
      ]
     },
     "execution_count": 171,
     "metadata": {},
     "output_type": "execute_result"
    }
   ],
   "source": [
    "quotes"
   ]
  },
  {
   "cell_type": "code",
   "execution_count": 154,
   "metadata": {},
   "outputs": [],
   "source": [
    "debate_blocks = [debate_summary(debate) for debate in debate_dicts]\n",
    "debate_blocks = [item for sublist in debate_blocks for item in sublist]\n",
    "\n",
    "quote_blocks = [quote_block(quote) for quote in quotes]\n",
    "\n",
    "blocks = message_header(message_date, data_start_date, data_end_date)\n",
    "blocks += [mission_header(mission)]\n",
    "blocks += debate_blocks\n",
    "blocks += quote_blocks"
   ]
  },
  {
   "cell_type": "code",
   "execution_count": 150,
   "metadata": {},
   "outputs": [
    {
     "name": "stdout",
     "output_type": "stream",
     "text": [
      "[\n",
      "  {\n",
      "    \"type\": \"header\",\n",
      "    \"text\": {\n",
      "      \"type\": \"plain_text\",\n",
      "      \"text\": \"Policy update 2024-10-10\"\n",
      "    }\n",
      "  },\n",
      "  {\n",
      "    \"type\": \"context\",\n",
      "    \"elements\": [\n",
      "      {\n",
      "        \"type\": \"mrkdwn\",\n",
      "        \"text\": \"House of Commons debates (2024-10-03 - 2024-10-10)\"\n",
      "      }\n",
      "    ]\n",
      "  },\n",
      "  {\n",
      "    \"type\": \"section\",\n",
      "    \"text\": {\n",
      "      \"type\": \"mrkdwn\",\n",
      "      \"text\": \":potted_plant: *A Sustainable Future*\"\n",
      "    }\n",
      "  },\n",
      "  {\n",
      "    \"type\": \"section\",\n",
      "    \"text\": {\n",
      "      \"type\": \"mrkdwn\",\n",
      "      \"text\": \"*Children\\u2019s Social Care*\\nTo discuss and propose reforms for children's social care in the UK, focusing on improving outcomes for vulnerable children and addressing systemic issues..\"\n",
      "    }\n",
      "  },\n",
      "  {\n",
      "    \"type\": \"section\",\n",
      "    \"text\": {\n",
      "      \"type\": \"mrkdwn\",\n",
      "      \"text\": \"*Positives*\\n\\u2022 Labour's ambitious reforms aim to improve children's social care (Phillipson, Lab)\\n\\u2022 Investment of \\u00a390 million to expand capacity for children in care (Phillipson, Lab)\\n\\u2022 Focus on early intervention and kinship care to prevent children entering care (Phillipson, Lab)\"\n",
      "    }\n",
      "  },\n",
      "  {\n",
      "    \"type\": \"section\",\n",
      "    \"text\": {\n",
      "      \"type\": \"mrkdwn\",\n",
      "      \"text\": \"*Negatives*\\n\\u2022 Conservative concerns about lack of high-quality placements for looked-after children (Trott, Con)\\n\\u2022 Criticism of potential profit caps risking increased costs and capacity shortfall (Trott, Con)\\n\\u2022 Concerns about the previous government's inaction leading to current crises (Trott, Con)\"\n",
      "    }\n",
      "  },\n",
      "  {\n",
      "    \"type\": \"section\",\n",
      "    \"text\": {\n",
      "      \"type\": \"mrkdwn\",\n",
      "      \"text\": \"*Next Steps*\\n\\u2022 Legislation to embed family group decision-making (Phillipson, Lab)\\n\\u2022 Plans for a unique child identifier to improve data sharing (Phillipson, Lab)\\n\\u2022 Commitment to support local authorities in running children's homes (Phillipson, Lab)\"\n",
      "    }\n",
      "  },\n",
      "  {\n",
      "    \"type\": \"divider\"\n",
      "  },\n",
      "  {\n",
      "    \"type\": \"section\",\n",
      "    \"text\": {\n",
      "      \"type\": \"mrkdwn\",\n",
      "      \"text\": \"*Steve Barclay* (Conservative) mentioned *Solar* in *Farming and Food Security*\\n\\n> For the longer term, Labour Ministers have overruled officials to cover some of the country\\u2019s best farmland in solar panels.\"\n",
      "    }\n",
      "  },\n",
      "  {\n",
      "    \"type\": \"section\",\n",
      "    \"text\": {\n",
      "      \"type\": \"mrkdwn\",\n",
      "      \"text\": \"*Keir Starmer* (Labour) mentioned *CCUS* in *Prime Minister*\\n\\n> We have had in recent months \\u00a38 billion from Amazon for jobs across the country, \\u00a310 billion from Blackstone for jobs across the north-east, \\u00a322 billion on carbon capture for jobs in the north-east and north-west, and \\u00a3500 million for UK buses in Northern Ireland.\"\n",
      "    }\n",
      "  },\n",
      "  {\n",
      "    \"type\": \"section\",\n",
      "    \"text\": {\n",
      "      \"type\": \"mrkdwn\",\n",
      "      \"text\": \"*Noah Law* (Labour) mentioned *Renewables - General* in *Prime Minister*\\n\\n> With shared prosperity funding drawing to a close, and Cornwall having some of the greatest potential in Europe in critical minerals and renewable energy, it is time for  our aspiring Celtic tiger to identify much more strategic sources of investment funding, which take us away from the short-termist begging-bowl politics of the previous decade.\"\n",
      "    }\n",
      "  },\n",
      "  {\n",
      "    \"type\": \"section\",\n",
      "    \"text\": {\n",
      "      \"type\": \"mrkdwn\",\n",
      "      \"text\": \"*Chris Murray* (Labour) mentioned *District heating* in *Business of the House*\\n\\n> Around half a million people rely on heat networks, which is good in achieving our climate goals, but heat networks are not included in the Ofgem price cap.\"\n",
      "    }\n",
      "  },\n",
      "  {\n",
      "    \"type\": \"section\",\n",
      "    \"text\": {\n",
      "      \"type\": \"mrkdwn\",\n",
      "      \"text\": \"*Lucy Powell* (Labour/Co-operative) mentioned *Renewables - General* in *Business of the House*\\n\\n> Next week\\u2019s Westminster Hall debate on the community benefits of renewable energy projects may provide him with an opportunity to raise it, but if not I will ensure that he gets a good response from the Minister.\"\n",
      "    }\n",
      "  }\n",
      "]\n"
     ]
    }
   ],
   "source": [
    "# pretty print the blocks\n",
    "import json\n",
    "\n",
    "print(json.dumps(blocks, indent=2))"
   ]
  },
  {
   "cell_type": "code",
   "execution_count": 92,
   "metadata": {},
   "outputs": [],
   "source": [
    "importlib.reload(synthesis_utils);"
   ]
  },
  {
   "cell_type": "code",
   "execution_count": 155,
   "metadata": {},
   "outputs": [],
   "source": [
    "# Send the message with blocks\n",
    "response = slack_webhook.send(blocks=blocks)"
   ]
  },
  {
   "cell_type": "code",
   "execution_count": 156,
   "metadata": {},
   "outputs": [
    {
     "data": {
      "text/plain": [
       "200"
      ]
     },
     "execution_count": 156,
     "metadata": {},
     "output_type": "execute_result"
    }
   ],
   "source": [
    "response.status_code"
   ]
  },
  {
   "cell_type": "code",
   "execution_count": 613,
   "metadata": {},
   "outputs": [],
   "source": [
    "# add title as another key\n"
   ]
  },
  {
   "cell_type": "code",
   "execution_count": null,
   "metadata": {},
   "outputs": [],
   "source": []
  },
  {
   "cell_type": "code",
   "execution_count": 514,
   "metadata": {},
   "outputs": [],
   "source": [
    "# pd.set_option('display.max_colwidth', 100)\n",
    "# get_speeches_for_period(\n",
    "#     debates_df=debates_df,\n",
    "#     labelstore_df=labelstore_df,\n",
    "#     start_date=get_weekly_start_date(end_date, weeks=1),\n",
    "#     end_date=end_date\n",
    "# )[['headings']]"
   ]
  },
  {
   "cell_type": "code",
   "execution_count": null,
   "metadata": {},
   "outputs": [],
   "source": []
  },
  {
   "cell_type": "code",
   "execution_count": 492,
   "metadata": {},
   "outputs": [
    {
     "data": {
      "text/html": [
       "<div>\n",
       "<style scoped>\n",
       "    .dataframe tbody tr th:only-of-type {\n",
       "        vertical-align: middle;\n",
       "    }\n",
       "\n",
       "    .dataframe tbody tr th {\n",
       "        vertical-align: top;\n",
       "    }\n",
       "\n",
       "    .dataframe thead th {\n",
       "        text-align: right;\n",
       "    }\n",
       "</style>\n",
       "<table border=\"1\" class=\"dataframe\">\n",
       "  <thead>\n",
       "    <tr style=\"text-align: right;\">\n",
       "      <th></th>\n",
       "      <th>date</th>\n",
       "      <th>major_heading</th>\n",
       "      <th>counts</th>\n",
       "    </tr>\n",
       "  </thead>\n",
       "  <tbody>\n",
       "    <tr>\n",
       "      <th>0</th>\n",
       "      <td>2024-10-07</td>\n",
       "      <td>Carbon Capture, Usage and Storage</td>\n",
       "      <td>15</td>\n",
       "    </tr>\n",
       "    <tr>\n",
       "      <th>1</th>\n",
       "      <td>2024-10-08</td>\n",
       "      <td>Energy Security and Net Zero</td>\n",
       "      <td>25</td>\n",
       "    </tr>\n",
       "    <tr>\n",
       "      <th>2</th>\n",
       "      <td>2024-10-08</td>\n",
       "      <td>Farming and Food Security</td>\n",
       "      <td>1</td>\n",
       "    </tr>\n",
       "    <tr>\n",
       "      <th>3</th>\n",
       "      <td>2024-10-09</td>\n",
       "      <td>Prime Minister</td>\n",
       "      <td>2</td>\n",
       "    </tr>\n",
       "    <tr>\n",
       "      <th>4</th>\n",
       "      <td>2024-10-10</td>\n",
       "      <td>Business of the House</td>\n",
       "      <td>2</td>\n",
       "    </tr>\n",
       "  </tbody>\n",
       "</table>\n",
       "</div>"
      ],
      "text/plain": [
       "         date                      major_heading  counts\n",
       "0  2024-10-07  Carbon Capture, Usage and Storage      15\n",
       "1  2024-10-08       Energy Security and Net Zero      25\n",
       "2  2024-10-08          Farming and Food Security       1\n",
       "3  2024-10-09                     Prime Minister       2\n",
       "4  2024-10-10              Business of the House       2"
      ]
     },
     "execution_count": 492,
     "metadata": {},
     "output_type": "execute_result"
    }
   ],
   "source": [
    "mission = 'ASF'\n",
    "# end_date = \"2024-11-08\"\n",
    "end_date = \"2024-10-10\"\n",
    "# end_date = \"2024-11-14\"\n",
    "\n",
    "# Convert the string to a datetime object\n",
    "end_date_dt = datetime.strptime(end_date, \"%Y-%m-%d\")\n",
    "# Subtract one week (7 days)\n",
    "one_week_ago = end_date_dt - timedelta(weeks=1)\n",
    "# Convert back to string format if needed\n",
    "start_date = one_week_ago.strftime(\"%Y-%m-%d\")\n",
    "\n",
    "\n",
    "\n",
    "mission_debates = weekly_speeches_df.query(\"mission_labels == @mission\")\n",
    "mission_debates = mission_debates.merge(parties_df[['person_id', 'name_org']], on = 'person_id', how='left', suffixes=('', '_person'))\n",
    "debates_dates = mission_debates[['date', 'major_heading']].drop_duplicates().sort_values('date')\n",
    "\n",
    "debate_titles_df = mission_debates.groupby([\"major_heading\"]).agg(counts=(\"speech_id\", \"count\")).reset_index()\n",
    "debates_dates = debates_dates.merge(debate_titles_df, on=\"major_heading\", how=\"left\").sort_values('date')\n",
    "debates_dates"
   ]
  },
  {
   "cell_type": "code",
   "execution_count": 421,
   "metadata": {},
   "outputs": [
    {
     "name": "stdout",
     "output_type": "stream",
     "text": [
      "Carbon Capture, Usage and Storage\n",
      "------\n",
      "Summary\n",
      "------\n",
      "Main purpose: Discussion on the UK Government's carbon capture programme and its implications for energy and jobs.\n",
      "\n",
      "Positives: £21.7 billion funding for carbon capture projects (Miliband, Lab). Creation of 4,000 jobs in industrial heartlands (Miliband, Lab). Commitment to decarbonising hard-to-abate sectors (Miliband, Lab). Support for existing industries and clean energy transition (Heylings, Lib Dem).\n",
      "\n",
      "Negatives: Criticism of previous government’s inaction on carbon capture (Coutinho, Con). Concerns over job losses in steel and energy sectors (Coutinho, Con). Doubts about the effectiveness of carbon capture technology (Adrian, Green). Potential increase in global emissions due to imports (Coutinho, Con).\n",
      "\n",
      "Next steps: Further announcements on carbon capture sites expected (Miliband, Lab). Engagement with stakeholders on job creation and training (Miliband, Lab). Commitment to support Acorn project in Scotland (Doogan, SNP).\n",
      "======\n",
      "======\n",
      "Energy Security and Net Zero\n",
      "------\n",
      "Summary\n",
      "------\n",
      "Main purpose: Discussion on renewable energy initiatives and climate commitments in the UK.\n",
      "\n",
      "Positives: Community solar projects in schools (Opher, Lab). Carbon capture expected to create 50,000 jobs (Jones, Lab). Commitment to insulating homes to reduce fuel poverty (Fahnbulleh, Lab). Record 131 renewable projects secured, powering 11 million homes (Shanks, Lab).\n",
      "\n",
      "Negatives: Concerns over airport expansions conflicting with net zero targets (Wilson, Lib Dem). Criticism of previous government's inaction on energy infrastructure (Shanks, Lab). Delays in grid connections hindering renewable projects (Chowns, Green).\n",
      "\n",
      "Next steps: Further announcements on carbon capture and energy infrastructure expected (Shanks, Lab). Meeting with stakeholders to discuss community energy projects (Shanks, Lab). Emergency home insulation plan needed before winter (Heylings, Lib Dem).\n",
      "======\n",
      "======\n",
      "Prime Minister\n",
      "------\n",
      "Summary\n",
      "------\n",
      "Main purpose: Discussion on government commitments, investments, and social issues.\n",
      "\n",
      "Positives: £8 billion investment from Amazon for jobs (Starmer, Lab). £10 billion from Blackstone for jobs in the north-east (Starmer, Lab). £22 billion for carbon capture jobs (Starmer, Lab). £6.4 million for AI cancer detection (Starmer, Lab). 6,500 teachers funded for state schools (Starmer, Lab). Floating offshore wind taskforce report supports jobs (Starmer, Lab). \n",
      "\n",
      "Negatives: Child poverty increased by 700,000 since 2010 (Starmer, Lab). Cuts to adult day centres in Derbyshire (Pearce, Lab). Concerns over flood risk management funding (Dinenage, Con). Lack of support for special educational needs (Starmer, Lab). \n",
      "\n",
      "Next steps: Strategy to reduce child poverty to be published (Starmer, Lab). Meeting for Cornish MPs on funding (Starmer, Lab). Prime Minister to address flood risk management (Dinenage, Con).\n",
      "======\n",
      "======\n",
      "Business of the House\n",
      "------\n",
      "Summary\n",
      "------\n",
      "Main purpose: Overview of parliamentary business and government actions in the first 100 days of the Labour Government.\n",
      "\n",
      "Positives: Commitment to 1.5 million new homes (Goldman, Lib Dem). Introduction of Employment Rights Bill for worker dignity (Powell, Lab). Establishment of GB Energy and carbon capture initiatives (Powell, Lab). Plans for free breakfast clubs to combat child poverty (Powell, Lab) (relevant to AFS).\n",
      "\n",
      "Negatives: Criticism of government handling of Chagos islands proposal (Philp, Con). Concerns over winter fuel payment cuts affecting 84% of poor pensioners (Philp, Con) (relevant to AFS). Delays in DVLA and DVSA affecting constituents' mobility (Minns, Lab).\n",
      "\n",
      "Next steps: Further discussions on infrastructure funding for housing (Goldman, Lib Dem). Anticipated debates on Employment Rights Bill and Holocaust Memorial Bill (Powell, Lab). Calls for action on diabetes treatment access (Bool, Con) (relevant to AHL).\n",
      "======\n",
      "======\n"
     ]
    }
   ],
   "source": [
    "for debate in debates_dates.major_heading.to_list():\n",
    "    _weekly_speeches_df = weekly_speeches_df.merge(parties_df[['person_id', 'name_org']], on = 'person_id', how='left', suffixes=('', '_person'))\n",
    "    debs = _weekly_speeches_df.query(\"major_heading == @debate\").sort_values('speech_id').to_dict(orient='records')\n",
    "    debate_text = \"\"\n",
    "    for s in debs:\n",
    "        debate_text = debate_text + f\"{s['speakername']} ({s['name_org']})\" + \"\\n\"\n",
    "        debate_text = debate_text + s['speech'] + \"\\n\"\n",
    "        debate_text = debate_text + \"-----\" + \"\\n\"    \n",
    "    debate_instance = synthesis_utils.Debate(heading=debate, content=debate_text)    \n",
    "    is_relevant = synthesis_utils.is_debate_relevant(debate_instance, synthesis_utils.config['mission_statements']['ASF'])['is_relevant']\n",
    "    if is_relevant:\n",
    "        result = synthesis_utils.generate_direct_summary(debate_instance, None)\n",
    "        # result_simple = synthesis_utils.generate_simple_summary(debate_instance, None)\n",
    "        # nesta_result = synthesis_utils.generate_nesta_summary(debate_instance)\n",
    "        print(debate)\n",
    "        print(\"------\")\n",
    "        print(\"Summary\")\n",
    "        print(\"------\")\n",
    "        print(result.summary)\n",
    "        # print(\"------\")\n",
    "        # print(\"Simple summary\")\n",
    "        # print(\"------\")\n",
    "        # print(result_simple.summary)\n",
    "        # print(\"------\")        \n",
    "        # print(\"What is relevant to Nesta?\")\n",
    "        # print(\"------\")\n",
    "        # print(nesta_result.summary)\n",
    "        print(\"======\")\n",
    "        print(\"======\")\n",
    "    "
   ]
  },
  {
   "cell_type": "markdown",
   "metadata": {},
   "source": [
    "## Keyword quotes"
   ]
  },
  {
   "cell_type": "code",
   "execution_count": 445,
   "metadata": {},
   "outputs": [],
   "source": [
    "debates_with_mentions_df = debates_dates[debates_dates.counts < 10]"
   ]
  },
  {
   "cell_type": "code",
   "execution_count": 446,
   "metadata": {},
   "outputs": [
    {
     "data": {
      "text/html": [
       "<div>\n",
       "<style scoped>\n",
       "    .dataframe tbody tr th:only-of-type {\n",
       "        vertical-align: middle;\n",
       "    }\n",
       "\n",
       "    .dataframe tbody tr th {\n",
       "        vertical-align: top;\n",
       "    }\n",
       "\n",
       "    .dataframe thead th {\n",
       "        text-align: right;\n",
       "    }\n",
       "</style>\n",
       "<table border=\"1\" class=\"dataframe\">\n",
       "  <thead>\n",
       "    <tr style=\"text-align: right;\">\n",
       "      <th></th>\n",
       "      <th>date</th>\n",
       "      <th>major_heading</th>\n",
       "      <th>counts</th>\n",
       "    </tr>\n",
       "  </thead>\n",
       "  <tbody>\n",
       "    <tr>\n",
       "      <th>2</th>\n",
       "      <td>2024-10-08</td>\n",
       "      <td>Farming and Food Security</td>\n",
       "      <td>1</td>\n",
       "    </tr>\n",
       "    <tr>\n",
       "      <th>3</th>\n",
       "      <td>2024-10-09</td>\n",
       "      <td>Prime Minister</td>\n",
       "      <td>2</td>\n",
       "    </tr>\n",
       "    <tr>\n",
       "      <th>4</th>\n",
       "      <td>2024-10-10</td>\n",
       "      <td>Business of the House</td>\n",
       "      <td>2</td>\n",
       "    </tr>\n",
       "  </tbody>\n",
       "</table>\n",
       "</div>"
      ],
      "text/plain": [
       "         date              major_heading  counts\n",
       "2  2024-10-08  Farming and Food Security       1\n",
       "3  2024-10-09             Prime Minister       2\n",
       "4  2024-10-10      Business of the House       2"
      ]
     },
     "execution_count": 446,
     "metadata": {},
     "output_type": "execute_result"
    }
   ],
   "source": [
    "debates_with_mentions_df"
   ]
  },
  {
   "cell_type": "code",
   "execution_count": 461,
   "metadata": {},
   "outputs": [],
   "source": [
    "_weekly_speeches_df = _weekly_speeches_df.assign(ordering = list(range(len(_weekly_speeches_df))))"
   ]
  },
  {
   "cell_type": "code",
   "execution_count": 467,
   "metadata": {},
   "outputs": [
    {
     "name": "stdout",
     "output_type": "stream",
     "text": [
      "------\n",
      "Lucy Powell\n",
      "The hon. Member would not expect me to comment on the individual cases that he outlines. We do have Home Office questions coming up on 21 October and I am sure that he can raise those matters there. One thing that we have found since the election is that morale and leadership in our police forces are not what they could be, which is why the Home Secretary is  embarking on a recruitment drive and reforms in our police force to ensure that we have all the police that we need.\n",
      "------\n",
      "Chris Murray\n",
      "Around half a million people rely on heat networks, which is good in achieving our climate goals, but heat networks are not included in the Ofgem price cap. My constituents in Craigmillar are therefore facing a 400% increase in their energy bills. That is terrifying for them and completely unacceptable. Heat networks should have the same protections as traditional heating systems. Will the Leader of the House allow a debate in Government time so that we can address this terrible anomaly?\n",
      "------\n",
      "Lucy Powell\n",
      "That very important matter has been raised with me before and I know that it is of real concern to my hon. Friend and to many other colleagues across this House. Next week’s Westminster Hall debate on the community benefits of renewable energy projects may provide him with an opportunity to raise it, but if not I will ensure that he gets a good response from the Minister.\n",
      "------\n",
      "------\n",
      "Chris Murray\n",
      "Around half a million people rely on heat networks, which is good in achieving our climate goals, but heat networks are not included in the Ofgem price cap. My constituents in Craigmillar are therefore facing a 400% increase in their energy bills. That is terrifying for them and completely unacceptable. Heat networks should have the same protections as traditional heating systems. Will the Leader of the House allow a debate in Government time so that we can address this terrible anomaly?\n",
      "------\n",
      "Lucy Powell\n",
      "That very important matter has been raised with me before and I know that it is of real concern to my hon. Friend and to many other colleagues across this House. Next week’s Westminster Hall debate on the community benefits of renewable energy projects may provide him with an opportunity to raise it, but if not I will ensure that he gets a good response from the Minister.\n",
      "------\n",
      "Ben Obese-Jecty\n",
      "Many happy returns to the Leader of the House, who shares her birthday with the true legend that is my father. Last week, we saw significant flooding in the east of England, and across Cambridgeshire in particular. In my constituency of Huntingdon, I visited local residents whose houses either flooded or were at risk of flooding on Hansell Road and Centenary Way in Brampton, and on Whitecross in St Ives. In all instances, local residents told me that they were frustrated by the lack of co-ordination in the multi-agency response. Afterwards, I wrote to the chief executive of Cambridgeshire county council to address that. He was very quick to abdicate responsibility, stating that “being a Lead Flood Authority does not mean we are the lead agency in addressing a response to flooding”. With the Government implementing a flood resilience taskforce, will the Leader of the House make time in the parliamentary schedule to debate the role and responsibilities of co-ordinating the multi-agency response to flooding?\n",
      "------\n"
     ]
    }
   ],
   "source": [
    "debate = debates_with_mentions_df.iloc[2].major_heading\n",
    "df = (\n",
    "    _weekly_speeches_df\n",
    "    .query(\"major_heading == @debate\")\n",
    "    .query(\"@mission in mission_labels\")\n",
    ")\n",
    "_weekly_speeches_df.index\n",
    "# for each debate get the speech and one speech before\n",
    "df = df.sort_values('speech_id')\n",
    "for i in range(len(df)):\n",
    "    speech_id = df.iloc[i].speech_id\n",
    "    speech = _weekly_speeches_df.query(\"speech_id == @speech_id\").iloc[0]\n",
    "    speech_index = speech.ordering\n",
    "    # get the previous speech\n",
    "    speech_previous = _weekly_speeches_df.query(\"ordering == @speech_index - 1\").iloc[0]\n",
    "    speech_next = _weekly_speeches_df.query(\"ordering == @speech_index + 1\").iloc[0]\n",
    "    print(\"------\") \n",
    "    print(speech_previous.speakername)   \n",
    "    print(speech_previous.speech)\n",
    "    print(\"------\")  \n",
    "    print(speech.speakername)  \n",
    "    print(speech.speech)\n",
    "    print(\"------\")    \n",
    "    print(speech_next.speakername)  \n",
    "    print(speech_next.speech)\n",
    "    print(\"------\")        "
   ]
  },
  {
   "cell_type": "code",
   "execution_count": 469,
   "metadata": {},
   "outputs": [],
   "source": [
    "keywords_df = keywords.get_keywords(mission)"
   ]
  },
  {
   "cell_type": "code",
   "execution_count": 471,
   "metadata": {},
   "outputs": [],
   "source": [
    "text = \"Around half a million people rely on heat networks, which is good in achieving our climate goals, but heat networks are not included in the Ofgem price cap. My constituents in Craigmillar are therefore facing a 400% increase in their energy bills. That is terrifying for them and completely unacceptable. Heat networks should have the same protections as traditional heating systems. Will the Leader of the House allow a debate in Government time so that we can address this terrible anomaly?\""
   ]
  },
  {
   "cell_type": "code",
   "execution_count": 480,
   "metadata": {},
   "outputs": [],
   "source": [
    "sents = keywords.split_sentences([text], ids=[0])\n",
    "sents = sents[0]"
   ]
  },
  {
   "cell_type": "code",
   "execution_count": 481,
   "metadata": {},
   "outputs": [
    {
     "name": "stdout",
     "output_type": "stream",
     "text": [
      "Hit for ['heat network'] in sentence Around half a million people rely on heat networks, which is good in achieving our climate goals, but heat networks are not included in the Ofgem price cap.\n"
     ]
    }
   ],
   "source": [
    "for cat in keywords_df:\n",
    "    for kw in keywords_df[cat]:\n",
    "        hits = keywords.find_keyword_hits(kw, sents)\n",
    "        for i, hit in enumerate(hits):\n",
    "            if hit:\n",
    "                print(f\"Hit for {kw} in sentence {sents[i]}\")"
   ]
  },
  {
   "cell_type": "code",
   "execution_count": 470,
   "metadata": {},
   "outputs": [
    {
     "data": {
      "text/plain": [
       "{'Bioenergy': [['bioenergy']],\n",
       " 'Biomass heating': [['biomass boiler'], ['biomass heat']],\n",
       " 'Built environment': [['decarbon', 'build'],\n",
       "  ['decarbon', 'built'],\n",
       "  ['decarbon', 'built environment'],\n",
       "  ['decarbon', 'home'],\n",
       "  ['decarbon', 'house'],\n",
       "  ['low carbon', 'build'],\n",
       "  ['low carbon', 'built'],\n",
       "  ['low carbon', 'built environment'],\n",
       "  ['low carbon', 'home'],\n",
       "  ['low carbon', 'house']],\n",
       " 'CCUS': [['carbon capture'], ['carbon capture', 'storage']],\n",
       " 'Decarbonisation - General': [['climate tech'],\n",
       "  ['green tech'],\n",
       "  ['net zero material'],\n",
       "  ['sustainability']],\n",
       " 'District heating': [['district', 'heat'], ['heat network']],\n",
       " 'Energy efficiency': [['energy efficiency', 'build'],\n",
       "  ['energy efficiency', 'built'],\n",
       "  ['energy efficiency', 'home'],\n",
       "  ['energy efficiency', 'house'],\n",
       "  ['energy management'],\n",
       "  ['insulation', 'build'],\n",
       "  ['insulation', 'home'],\n",
       "  ['insulation', 'house'],\n",
       "  ['retrofit'],\n",
       "  ['smart meter'],\n",
       "  ['smart thermostat']],\n",
       " 'Energy grid': [['demand response'], ['electricity grid'], ['energy grid']],\n",
       " 'Energy storage': [['batteries'], ['energy storage']],\n",
       " 'Geothermal energy': [['geothermal', 'energy'], ['geothermal', 'heat']],\n",
       " 'Green skills': [['green skills']],\n",
       " 'Heat pumps': [['heat pump'], ['heat pumps']],\n",
       " 'Heat storage': [['heat batteries'],\n",
       "  ['heat battery'],\n",
       "  ['heat storage'],\n",
       "  ['thermal energy storage'],\n",
       "  ['thermal storage']],\n",
       " 'Hydrogen energy': [['blue hydrogen'],\n",
       "  ['fuel cell', 'hydrogen'],\n",
       "  ['gray hydrogen'],\n",
       "  ['green hydrogen'],\n",
       "  ['grey hydrogen'],\n",
       "  ['hydrogen', 'energy']],\n",
       " 'Hydrogen heating': [['hydrogen', 'boiler'], ['hydrogen', 'heat']],\n",
       " 'Micro CHP': [['micro chp'],\n",
       "  ['micro combined heat and power'],\n",
       "  ['micro-chp'],\n",
       "  ['micro-combined heat and power']],\n",
       " 'Renewables - General': [['renewable energy']],\n",
       " 'Solar': [['photovoltaic'], ['solar energy'], ['solar panel']],\n",
       " 'Solar thermal': [['solar thermal']],\n",
       " 'Wind': [['wind energy'], ['wind farm'], ['wind turbine']]}"
      ]
     },
     "execution_count": 470,
     "metadata": {},
     "output_type": "execute_result"
    }
   ],
   "source": [
    "# Write a function that finds sentences that contain the keywords \n",
    "# and extracts them\n",
    "keywords_df"
   ]
  },
  {
   "cell_type": "markdown",
   "metadata": {},
   "source": [
    "# Sending stuff to Slack\n"
   ]
  },
  {
   "cell_type": "code",
   "execution_count": 486,
   "metadata": {},
   "outputs": [
    {
     "ename": "KeyError",
     "evalue": "'SLACK_WEBHOOK_URL_TESTING'",
     "output_type": "error",
     "traceback": [
      "\u001b[0;31m---------------------------------------------------------------------------\u001b[0m",
      "\u001b[0;31mKeyError\u001b[0m                                  Traceback (most recent call last)",
      "Cell \u001b[0;32mIn[486], line 3\u001b[0m\n\u001b[1;32m      1\u001b[0m \u001b[38;5;28;01mfrom\u001b[39;00m \u001b[38;5;21;01mslack_sdk\u001b[39;00m\u001b[38;5;21;01m.\u001b[39;00m\u001b[38;5;21;01mwebhook\u001b[39;00m \u001b[38;5;28;01mimport\u001b[39;00m WebhookClient\n\u001b[1;32m      2\u001b[0m \u001b[38;5;28;01mimport\u001b[39;00m \u001b[38;5;21;01mos\u001b[39;00m\n\u001b[0;32m----> 3\u001b[0m slack_webhook \u001b[38;5;241m=\u001b[39m WebhookClient(\u001b[43mos\u001b[49m\u001b[38;5;241;43m.\u001b[39;49m\u001b[43menviron\u001b[49m\u001b[43m[\u001b[49m\u001b[38;5;124;43m\"\u001b[39;49m\u001b[38;5;124;43mSLACK_WEBHOOK_URL_TESTING\u001b[39;49m\u001b[38;5;124;43m\"\u001b[39;49m\u001b[43m]\u001b[49m)\n",
      "File \u001b[0;32m<frozen os>:679\u001b[0m, in \u001b[0;36m__getitem__\u001b[0;34m(self, key)\u001b[0m\n",
      "\u001b[0;31mKeyError\u001b[0m: 'SLACK_WEBHOOK_URL_TESTING'"
     ]
    }
   ],
   "source": [
    "message_date = \"03-12-2024\"\n",
    "data_start_date = \"01-12-2024\"\n",
    "data_end_date = \"03-12-2024\"\n",
    "debate =  {\n",
    "    \"title\": \"Title of the debate\",\n",
    "    \"summary\": \"Summary of the debate\",\n",
    "    \"positives\": [\"Positive point 1\", \"Positive point 2\"],\n",
    "    \"negatives\": [\"Negative point 1\", \"Negative point 2\"],\n",
    "    \"next_steps\": [\"Next step 1\", \"Next step 2\"],\n",
    "}\n",
    "\n",
    "quote = {\n",
    "    \"name\": \"John Doe\",\n",
    "    \"party\": \"Labour\",\n",
    "    \"category\": \"Climate change\",\n",
    "    \"debate\": \"Title of the debate\",\n",
    "    \"text\": \"This is a quote from the debate.\"\n",
    "}"
   ]
  }
 ],
 "metadata": {
  "kernelspec": {
   "display_name": "discovery-mission-radar-prototyping-ejbE0IFh-py3.11",
   "language": "python",
   "name": "python3"
  },
  "language_info": {
   "codemirror_mode": {
    "name": "ipython",
    "version": 3
   },
   "file_extension": ".py",
   "mimetype": "text/x-python",
   "name": "python",
   "nbconvert_exporter": "python",
   "pygments_lexer": "ipython3",
   "version": "3.11.10"
  }
 },
 "nbformat": 4,
 "nbformat_minor": 2
}
