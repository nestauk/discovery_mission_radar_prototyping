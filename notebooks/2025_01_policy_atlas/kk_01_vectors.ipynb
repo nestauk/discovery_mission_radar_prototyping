{
 "cells": [
  {
   "cell_type": "markdown",
   "metadata": {},
   "source": [
    "# Policy Atlas prototyping\n",
    "\n",
    "- Generate and save vectors\n",
    "- Visualise with BERTopic\n",
    "- Allow for medium number of clusters + drop down menu"
   ]
  },
  {
   "cell_type": "code",
   "execution_count": 3,
   "metadata": {},
   "outputs": [
    {
     "name": "stderr",
     "output_type": "stream",
     "text": [
      "[nltk_data] Downloading package wordnet to\n",
      "[nltk_data]     /Users/karlis.kanders/nltk_data...\n",
      "[nltk_data]   Package wordnet is already up-to-date!\n"
     ]
    }
   ],
   "source": [
    "import pandas as pd\n",
    "import importlib\n",
    "\n",
    "from src import PROJECT_DIR\n",
    "from src import viz_landscape\n",
    "importlib.reload(viz_landscape);"
   ]
  },
  {
   "cell_type": "code",
   "execution_count": 4,
   "metadata": {},
   "outputs": [],
   "source": [
    "uk_df = pd.read_csv(PROJECT_DIR / \"data/2025_01_policy_atlas/uk_aid.csv\")"
   ]
  },
  {
   "cell_type": "code",
   "execution_count": 5,
   "metadata": {},
   "outputs": [
    {
     "name": "stderr",
     "output_type": "stream",
     "text": [
      "2025-01-17 19:18:57,084 - sentence_transformers.SentenceTransformer - INFO - Load pretrained SentenceTransformer: all-MiniLM-L6-v2\n",
      "2025-01-17 19:18:58,235 - sentence_transformers.SentenceTransformer - INFO - Use pytorch device_name: mps\n"
     ]
    }
   ],
   "source": [
    "# Generate embeddings \n",
    "from sentence_transformers import SentenceTransformer\n",
    "MODEL = \"all-MiniLM-L6-v2\"\n",
    "model = SentenceTransformer(MODEL)\n"
   ]
  },
  {
   "cell_type": "code",
   "execution_count": 6,
   "metadata": {},
   "outputs": [
    {
     "data": {
      "text/plain": [
       "Index(['iati_identifier', 'title_narrative', 'reporting_org_ref',\n",
       "       'reporting_org_narrative', 'participating_org_ref',\n",
       "       'participating_org_narrative', 'recipient_country_code',\n",
       "       'recipient_country_narrative', 'sector_narrative',\n",
       "       'description_narrative', 'activity_status_code',\n",
       "       'activity_date_iso_date', 'activity_date_type',\n",
       "       'activity_date_narrative', 'min_date', 'max_date', 'min_year',\n",
       "       'max_year', 'activity_status', 'text'],\n",
       "      dtype='object')"
      ]
     },
     "execution_count": 6,
     "metadata": {},
     "output_type": "execute_result"
    }
   ],
   "source": [
    "uk_df.columns"
   ]
  },
  {
   "cell_type": "code",
   "execution_count": 7,
   "metadata": {},
   "outputs": [
    {
     "data": {
      "application/vnd.jupyter.widget-view+json": {
       "model_id": "8795137f64d84add811dffd67e0658fd",
       "version_major": 2,
       "version_minor": 0
      },
      "text/plain": [
       "Batches:   0%|          | 0/1188 [00:00<?, ?it/s]"
      ]
     },
     "metadata": {},
     "output_type": "display_data"
    }
   ],
   "source": [
    "embeddings = model.encode(uk_df['text'].tolist())"
   ]
  },
  {
   "cell_type": "code",
   "execution_count": 8,
   "metadata": {},
   "outputs": [],
   "source": [
    "uk_df['vector'] = embeddings.tolist()"
   ]
  },
  {
   "cell_type": "code",
   "execution_count": 10,
   "metadata": {},
   "outputs": [
    {
     "name": "stderr",
     "output_type": "stream",
     "text": [
      "2025-01-17 19:23:06,994 - BERTopic - Dimensionality - Fitting the dimensionality reduction algorithm\n",
      "OMP: Info #276: omp_set_nested routine deprecated, please use omp_set_max_active_levels instead.\n",
      "2025-01-17 19:23:33,240 - BERTopic - Dimensionality - Completed ✓\n",
      "2025-01-17 19:23:33,243 - BERTopic - Cluster - Start clustering the reduced embeddings\n",
      "huggingface/tokenizers: The current process just got forked, after parallelism has already been used. Disabling parallelism to avoid deadlocks...\n",
      "To disable this warning, you can either:\n",
      "\t- Avoid using `tokenizers` before the fork if possible\n",
      "\t- Explicitly set the environment variable huggingface/tokenizers: The current process just got forked, after parallelism has already been used. Disabling parallelism to avoid deadlocks...\n",
      "To disable this warning, you can either:\n",
      "\t- Avoid using `tokenizers` before the fork if possible\n",
      "\t- Explicitly set the environment variable huggingface/tokenizers: The current process just got forked, after parallelism has already been used. Disabling parallelism to avoid deadlocks...\n",
      "huggingface/tokenizers: The current process just got forked, after parallelism has already been used. Disabling parallelism to avoid deadlocks...\n",
      "To disable this warning, you can either:\n",
      "huggingface/tokenizers: The current process just got forked, after parallelism has already been used. Disabling parallelism to avoid deadlocks...\n",
      "To disable this warning, you can either:\n",
      "To disable this warning, you can either:\n",
      "\t- Avoid using `tokenizers` before the fork if possible\n",
      "\t- Explicitly set the environment variable \t- Avoid using `tokenizers` before the fork if possible\n",
      "\t- Explicitly set the environment variable \t- Avoid using `tokenizers` before the fork if possible\n",
      "\t- Explicitly set the environment variable TOKENIZERS_PARALLELISM=(true | false)\n",
      "TOKENIZERS_PARALLELISMTOKENIZERS_PARALLELISM=(true | false)\n",
      "=(true | false)\n",
      "TOKENIZERS_PARALLELISM=(true | false)\n",
      "TOKENIZERS_PARALLELISM=(true | false)\n",
      "2025-01-17 19:23:36,704 - BERTopic - Cluster - Completed ✓\n",
      "2025-01-17 19:23:36,705 - BERTopic - Representation - Extracting topics from clusters using representation models.\n",
      "  0%|          | 0/155 [00:00<?, ?it/s]2025-01-17 19:23:40,320 - httpx - INFO - HTTP Request: POST https://api.openai.com/v1/chat/completions \"HTTP/1.1 200 OK\"\n",
      "  1%|          | 1/155 [00:02<05:09,  2.01s/it]2025-01-17 19:23:41,633 - httpx - INFO - HTTP Request: POST https://api.openai.com/v1/chat/completions \"HTTP/1.1 200 OK\"\n",
      "  1%|▏         | 2/155 [00:03<04:03,  1.59s/it]2025-01-17 19:23:42,873 - httpx - INFO - HTTP Request: POST https://api.openai.com/v1/chat/completions \"HTTP/1.1 200 OK\"\n",
      "  2%|▏         | 3/155 [00:04<03:37,  1.43s/it]2025-01-17 19:23:44,105 - httpx - INFO - HTTP Request: POST https://api.openai.com/v1/chat/completions \"HTTP/1.1 200 OK\"\n",
      "  3%|▎         | 4/155 [00:05<03:24,  1.35s/it]2025-01-17 19:23:45,433 - httpx - INFO - HTTP Request: POST https://api.openai.com/v1/chat/completions \"HTTP/1.1 200 OK\"\n",
      "  3%|▎         | 5/155 [00:07<03:21,  1.34s/it]2025-01-17 19:23:46,558 - httpx - INFO - HTTP Request: POST https://api.openai.com/v1/chat/completions \"HTTP/1.1 200 OK\"\n",
      "  4%|▍         | 6/155 [00:08<03:08,  1.27s/it]2025-01-17 19:23:47,786 - httpx - INFO - HTTP Request: POST https://api.openai.com/v1/chat/completions \"HTTP/1.1 200 OK\"\n",
      "  5%|▍         | 7/155 [00:09<03:05,  1.26s/it]2025-01-17 19:23:51,656 - httpx - INFO - HTTP Request: POST https://api.openai.com/v1/chat/completions \"HTTP/1.1 200 OK\"\n",
      "  5%|▌         | 8/155 [00:13<05:07,  2.09s/it]2025-01-17 19:23:52,733 - httpx - INFO - HTTP Request: POST https://api.openai.com/v1/chat/completions \"HTTP/1.1 200 OK\"\n",
      "  6%|▌         | 9/155 [00:14<04:18,  1.77s/it]2025-01-17 19:23:53,932 - httpx - INFO - HTTP Request: POST https://api.openai.com/v1/chat/completions \"HTTP/1.1 200 OK\"\n",
      "  6%|▋         | 10/155 [00:15<03:51,  1.59s/it]2025-01-17 19:23:55,159 - httpx - INFO - HTTP Request: POST https://api.openai.com/v1/chat/completions \"HTTP/1.1 200 OK\"\n",
      "  7%|▋         | 11/155 [00:16<03:33,  1.48s/it]2025-01-17 19:23:56,390 - httpx - INFO - HTTP Request: POST https://api.openai.com/v1/chat/completions \"HTTP/1.1 200 OK\"\n",
      "  8%|▊         | 12/155 [00:18<03:20,  1.41s/it]2025-01-17 19:23:57,701 - httpx - INFO - HTTP Request: POST https://api.openai.com/v1/chat/completions \"HTTP/1.1 200 OK\"\n",
      "  8%|▊         | 13/155 [00:19<03:15,  1.38s/it]2025-01-17 19:23:58,948 - httpx - INFO - HTTP Request: POST https://api.openai.com/v1/chat/completions \"HTTP/1.1 200 OK\"\n",
      "  9%|▉         | 14/155 [00:20<03:08,  1.34s/it]2025-01-17 19:24:00,178 - httpx - INFO - HTTP Request: POST https://api.openai.com/v1/chat/completions \"HTTP/1.1 200 OK\"\n",
      " 10%|▉         | 15/155 [00:21<03:02,  1.31s/it]2025-01-17 19:24:01,511 - httpx - INFO - HTTP Request: POST https://api.openai.com/v1/chat/completions \"HTTP/1.1 200 OK\"\n",
      " 10%|█         | 16/155 [00:23<03:02,  1.31s/it]2025-01-17 19:24:02,596 - httpx - INFO - HTTP Request: POST https://api.openai.com/v1/chat/completions \"HTTP/1.1 200 OK\"\n",
      " 11%|█         | 17/155 [00:24<02:51,  1.24s/it]2025-01-17 19:24:03,658 - httpx - INFO - HTTP Request: POST https://api.openai.com/v1/chat/completions \"HTTP/1.1 200 OK\"\n",
      " 12%|█▏        | 18/155 [00:25<02:43,  1.19s/it]2025-01-17 19:24:05,030 - httpx - INFO - HTTP Request: POST https://api.openai.com/v1/chat/completions \"HTTP/1.1 200 OK\"\n",
      " 12%|█▏        | 19/155 [00:26<02:49,  1.24s/it]2025-01-17 19:24:06,321 - httpx - INFO - HTTP Request: POST https://api.openai.com/v1/chat/completions \"HTTP/1.1 200 OK\"\n",
      " 13%|█▎        | 20/155 [00:27<02:49,  1.26s/it]2025-01-17 19:24:07,345 - httpx - INFO - HTTP Request: POST https://api.openai.com/v1/chat/completions \"HTTP/1.1 200 OK\"\n",
      " 14%|█▎        | 21/155 [00:29<02:39,  1.19s/it]2025-01-17 19:24:08,515 - httpx - INFO - HTTP Request: POST https://api.openai.com/v1/chat/completions \"HTTP/1.1 200 OK\"\n",
      " 14%|█▍        | 22/155 [00:30<02:37,  1.18s/it]2025-01-17 19:24:12,813 - httpx - INFO - HTTP Request: POST https://api.openai.com/v1/chat/completions \"HTTP/1.1 200 OK\"\n",
      " 15%|█▍        | 23/155 [00:34<04:39,  2.12s/it]2025-01-17 19:24:16,971 - httpx - INFO - HTTP Request: POST https://api.openai.com/v1/chat/completions \"HTTP/1.1 200 OK\"\n",
      " 15%|█▌        | 24/155 [00:38<05:57,  2.73s/it]2025-01-17 19:24:18,075 - httpx - INFO - HTTP Request: POST https://api.openai.com/v1/chat/completions \"HTTP/1.1 200 OK\"\n",
      " 16%|█▌        | 25/155 [00:39<04:51,  2.24s/it]2025-01-17 19:24:19,327 - httpx - INFO - HTTP Request: POST https://api.openai.com/v1/chat/completions \"HTTP/1.1 200 OK\"\n",
      " 17%|█▋        | 26/155 [00:40<04:10,  1.94s/it]2025-01-17 19:24:20,699 - httpx - INFO - HTTP Request: POST https://api.openai.com/v1/chat/completions \"HTTP/1.1 200 OK\"\n",
      " 17%|█▋        | 27/155 [00:42<03:46,  1.77s/it]2025-01-17 19:24:22,050 - httpx - INFO - HTTP Request: POST https://api.openai.com/v1/chat/completions \"HTTP/1.1 200 OK\"\n",
      " 18%|█▊        | 28/155 [00:43<03:29,  1.65s/it]2025-01-17 19:24:23,218 - httpx - INFO - HTTP Request: POST https://api.openai.com/v1/chat/completions \"HTTP/1.1 200 OK\"\n",
      " 19%|█▊        | 29/155 [00:44<03:09,  1.50s/it]2025-01-17 19:24:24,344 - httpx - INFO - HTTP Request: POST https://api.openai.com/v1/chat/completions \"HTTP/1.1 200 OK\"\n",
      " 19%|█▉        | 30/155 [00:46<02:53,  1.39s/it]2025-01-17 19:24:25,402 - httpx - INFO - HTTP Request: POST https://api.openai.com/v1/chat/completions \"HTTP/1.1 200 OK\"\n",
      " 20%|██        | 31/155 [00:47<02:40,  1.29s/it]2025-01-17 19:24:26,700 - httpx - INFO - HTTP Request: POST https://api.openai.com/v1/chat/completions \"HTTP/1.1 200 OK\"\n",
      " 21%|██        | 32/155 [00:48<02:38,  1.29s/it]2025-01-17 19:24:27,825 - httpx - INFO - HTTP Request: POST https://api.openai.com/v1/chat/completions \"HTTP/1.1 200 OK\"\n",
      " 21%|██▏       | 33/155 [00:49<02:31,  1.24s/it]2025-01-17 19:24:29,115 - httpx - INFO - HTTP Request: POST https://api.openai.com/v1/chat/completions \"HTTP/1.1 200 OK\"\n",
      " 22%|██▏       | 34/155 [00:50<02:32,  1.26s/it]2025-01-17 19:24:30,386 - httpx - INFO - HTTP Request: POST https://api.openai.com/v1/chat/completions \"HTTP/1.1 200 OK\"\n",
      " 23%|██▎       | 35/155 [00:52<02:31,  1.26s/it]2025-01-17 19:24:31,614 - httpx - INFO - HTTP Request: POST https://api.openai.com/v1/chat/completions \"HTTP/1.1 200 OK\"\n",
      " 23%|██▎       | 36/155 [00:53<02:28,  1.25s/it]2025-01-17 19:24:32,947 - httpx - INFO - HTTP Request: POST https://api.openai.com/v1/chat/completions \"HTTP/1.1 200 OK\"\n",
      " 24%|██▍       | 37/155 [00:54<02:30,  1.28s/it]2025-01-17 19:24:34,144 - httpx - INFO - HTTP Request: POST https://api.openai.com/v1/chat/completions \"HTTP/1.1 200 OK\"\n",
      " 25%|██▍       | 38/155 [00:55<02:26,  1.25s/it]2025-01-17 19:24:35,471 - httpx - INFO - HTTP Request: POST https://api.openai.com/v1/chat/completions \"HTTP/1.1 200 OK\"\n",
      " 25%|██▌       | 39/155 [00:57<02:27,  1.27s/it]2025-01-17 19:24:36,939 - httpx - INFO - HTTP Request: POST https://api.openai.com/v1/chat/completions \"HTTP/1.1 200 OK\"\n",
      " 26%|██▌       | 40/155 [00:58<02:33,  1.33s/it]2025-01-17 19:24:38,140 - httpx - INFO - HTTP Request: POST https://api.openai.com/v1/chat/completions \"HTTP/1.1 200 OK\"\n",
      " 26%|██▋       | 41/155 [00:59<02:27,  1.30s/it]2025-01-17 19:24:39,294 - httpx - INFO - HTTP Request: POST https://api.openai.com/v1/chat/completions \"HTTP/1.1 200 OK\"\n",
      " 27%|██▋       | 42/155 [01:00<02:21,  1.25s/it]2025-01-17 19:24:40,745 - httpx - INFO - HTTP Request: POST https://api.openai.com/v1/chat/completions \"HTTP/1.1 200 OK\"\n",
      " 28%|██▊       | 43/155 [01:02<02:26,  1.31s/it]2025-01-17 19:24:42,264 - httpx - INFO - HTTP Request: POST https://api.openai.com/v1/chat/completions \"HTTP/1.1 200 OK\"\n",
      " 28%|██▊       | 44/155 [01:03<02:32,  1.37s/it]2025-01-17 19:24:43,444 - httpx - INFO - HTTP Request: POST https://api.openai.com/v1/chat/completions \"HTTP/1.1 200 OK\"\n",
      " 29%|██▉       | 45/155 [01:05<02:24,  1.32s/it]2025-01-17 19:24:44,722 - httpx - INFO - HTTP Request: POST https://api.openai.com/v1/chat/completions \"HTTP/1.1 200 OK\"\n",
      " 30%|██▉       | 46/155 [01:06<02:22,  1.30s/it]2025-01-17 19:24:45,781 - httpx - INFO - HTTP Request: POST https://api.openai.com/v1/chat/completions \"HTTP/1.1 200 OK\"\n",
      " 30%|███       | 47/155 [01:07<02:12,  1.23s/it]2025-01-17 19:24:46,976 - httpx - INFO - HTTP Request: POST https://api.openai.com/v1/chat/completions \"HTTP/1.1 200 OK\"\n",
      " 31%|███       | 48/155 [01:08<02:10,  1.22s/it]2025-01-17 19:24:48,049 - httpx - INFO - HTTP Request: POST https://api.openai.com/v1/chat/completions \"HTTP/1.1 200 OK\"\n",
      " 32%|███▏      | 49/155 [01:09<02:04,  1.17s/it]2025-01-17 19:24:49,226 - httpx - INFO - HTTP Request: POST https://api.openai.com/v1/chat/completions \"HTTP/1.1 200 OK\"\n",
      " 32%|███▏      | 50/155 [01:10<02:03,  1.18s/it]2025-01-17 19:24:50,320 - httpx - INFO - HTTP Request: POST https://api.openai.com/v1/chat/completions \"HTTP/1.1 200 OK\"\n",
      " 33%|███▎      | 51/155 [01:11<01:59,  1.15s/it]2025-01-17 19:24:51,379 - httpx - INFO - HTTP Request: POST https://api.openai.com/v1/chat/completions \"HTTP/1.1 200 OK\"\n",
      " 34%|███▎      | 52/155 [01:13<01:55,  1.12s/it]2025-01-17 19:24:52,554 - httpx - INFO - HTTP Request: POST https://api.openai.com/v1/chat/completions \"HTTP/1.1 200 OK\"\n",
      " 34%|███▍      | 53/155 [01:14<01:56,  1.14s/it]2025-01-17 19:24:53,837 - httpx - INFO - HTTP Request: POST https://api.openai.com/v1/chat/completions \"HTTP/1.1 200 OK\"\n",
      " 35%|███▍      | 54/155 [01:15<01:59,  1.18s/it]2025-01-17 19:24:58,350 - httpx - INFO - HTTP Request: POST https://api.openai.com/v1/chat/completions \"HTTP/1.1 200 OK\"\n",
      " 35%|███▌      | 55/155 [01:20<03:38,  2.18s/it]2025-01-17 19:24:59,644 - httpx - INFO - HTTP Request: POST https://api.openai.com/v1/chat/completions \"HTTP/1.1 200 OK\"\n",
      " 36%|███▌      | 56/155 [01:21<03:09,  1.92s/it]2025-01-17 19:25:01,084 - httpx - INFO - HTTP Request: POST https://api.openai.com/v1/chat/completions \"HTTP/1.1 200 OK\"\n",
      " 37%|███▋      | 57/155 [01:22<02:53,  1.77s/it]2025-01-17 19:25:02,390 - httpx - INFO - HTTP Request: POST https://api.openai.com/v1/chat/completions \"HTTP/1.1 200 OK\"\n",
      " 37%|███▋      | 58/155 [01:24<02:38,  1.63s/it]2025-01-17 19:25:03,521 - httpx - INFO - HTTP Request: POST https://api.openai.com/v1/chat/completions \"HTTP/1.1 200 OK\"\n",
      " 38%|███▊      | 59/155 [01:25<02:22,  1.48s/it]2025-01-17 19:25:04,685 - httpx - INFO - HTTP Request: POST https://api.openai.com/v1/chat/completions \"HTTP/1.1 200 OK\"\n",
      " 39%|███▊      | 60/155 [01:26<02:11,  1.39s/it]2025-01-17 19:25:05,870 - httpx - INFO - HTTP Request: POST https://api.openai.com/v1/chat/completions \"HTTP/1.1 200 OK\"\n",
      " 39%|███▉      | 61/155 [01:27<02:04,  1.33s/it]2025-01-17 19:25:07,661 - httpx - INFO - HTTP Request: POST https://api.openai.com/v1/chat/completions \"HTTP/1.1 200 OK\"\n",
      " 40%|████      | 62/155 [01:29<02:16,  1.47s/it]2025-01-17 19:25:08,890 - httpx - INFO - HTTP Request: POST https://api.openai.com/v1/chat/completions \"HTTP/1.1 200 OK\"\n",
      " 41%|████      | 63/155 [01:30<02:08,  1.39s/it]2025-01-17 19:25:10,120 - httpx - INFO - HTTP Request: POST https://api.openai.com/v1/chat/completions \"HTTP/1.1 200 OK\"\n",
      " 41%|████▏     | 64/155 [01:31<02:02,  1.35s/it]2025-01-17 19:25:11,382 - httpx - INFO - HTTP Request: POST https://api.openai.com/v1/chat/completions \"HTTP/1.1 200 OK\"\n",
      " 42%|████▏     | 65/155 [01:33<01:58,  1.32s/it]2025-01-17 19:25:13,088 - httpx - INFO - HTTP Request: POST https://api.openai.com/v1/chat/completions \"HTTP/1.1 200 OK\"\n",
      " 43%|████▎     | 66/155 [01:34<02:07,  1.44s/it]2025-01-17 19:25:14,725 - httpx - INFO - HTTP Request: POST https://api.openai.com/v1/chat/completions \"HTTP/1.1 200 OK\"\n",
      " 43%|████▎     | 67/155 [01:36<02:11,  1.50s/it]2025-01-17 19:25:15,866 - httpx - INFO - HTTP Request: POST https://api.openai.com/v1/chat/completions \"HTTP/1.1 200 OK\"\n",
      " 44%|████▍     | 68/155 [01:37<02:00,  1.39s/it]2025-01-17 19:25:17,113 - httpx - INFO - HTTP Request: POST https://api.openai.com/v1/chat/completions \"HTTP/1.1 200 OK\"\n",
      " 45%|████▍     | 69/155 [01:38<01:55,  1.35s/it]2025-01-17 19:25:18,629 - httpx - INFO - HTTP Request: POST https://api.openai.com/v1/chat/completions \"HTTP/1.1 200 OK\"\n",
      " 45%|████▌     | 70/155 [01:40<01:58,  1.40s/it]2025-01-17 19:25:20,050 - httpx - INFO - HTTP Request: POST https://api.openai.com/v1/chat/completions \"HTTP/1.1 200 OK\"\n",
      " 46%|████▌     | 71/155 [01:41<01:58,  1.40s/it]2025-01-17 19:25:21,641 - httpx - INFO - HTTP Request: POST https://api.openai.com/v1/chat/completions \"HTTP/1.1 200 OK\"\n",
      " 46%|████▋     | 72/155 [01:43<02:02,  1.48s/it]2025-01-17 19:25:23,021 - httpx - INFO - HTTP Request: POST https://api.openai.com/v1/chat/completions \"HTTP/1.1 200 OK\"\n",
      " 47%|████▋     | 73/155 [01:44<01:57,  1.43s/it]2025-01-17 19:25:24,352 - httpx - INFO - HTTP Request: POST https://api.openai.com/v1/chat/completions \"HTTP/1.1 200 OK\"\n",
      " 48%|████▊     | 74/155 [01:46<01:53,  1.40s/it]2025-01-17 19:25:25,685 - httpx - INFO - HTTP Request: POST https://api.openai.com/v1/chat/completions \"HTTP/1.1 200 OK\"\n",
      " 48%|████▊     | 75/155 [01:47<01:51,  1.39s/it]2025-01-17 19:25:27,015 - httpx - INFO - HTTP Request: POST https://api.openai.com/v1/chat/completions \"HTTP/1.1 200 OK\"\n",
      " 49%|████▉     | 76/155 [01:48<01:47,  1.36s/it]2025-01-17 19:25:28,859 - httpx - INFO - HTTP Request: POST https://api.openai.com/v1/chat/completions \"HTTP/1.1 200 OK\"\n",
      " 50%|████▉     | 77/155 [01:50<01:57,  1.51s/it]2025-01-17 19:25:30,291 - httpx - INFO - HTTP Request: POST https://api.openai.com/v1/chat/completions \"HTTP/1.1 200 OK\"\n",
      " 50%|█████     | 78/155 [01:51<01:54,  1.48s/it]2025-01-17 19:25:31,631 - httpx - INFO - HTTP Request: POST https://api.openai.com/v1/chat/completions \"HTTP/1.1 200 OK\"\n",
      " 51%|█████     | 79/155 [01:53<01:49,  1.44s/it]2025-01-17 19:25:32,953 - httpx - INFO - HTTP Request: POST https://api.openai.com/v1/chat/completions \"HTTP/1.1 200 OK\"\n",
      " 52%|█████▏    | 80/155 [01:54<01:45,  1.41s/it]2025-01-17 19:25:34,248 - httpx - INFO - HTTP Request: POST https://api.openai.com/v1/chat/completions \"HTTP/1.1 200 OK\"\n",
      " 52%|█████▏    | 81/155 [01:55<01:41,  1.37s/it]2025-01-17 19:25:35,376 - httpx - INFO - HTTP Request: POST https://api.openai.com/v1/chat/completions \"HTTP/1.1 200 OK\"\n",
      " 53%|█████▎    | 82/155 [01:57<01:34,  1.30s/it]2025-01-17 19:25:37,664 - httpx - INFO - HTTP Request: POST https://api.openai.com/v1/chat/completions \"HTTP/1.1 200 OK\"\n",
      " 54%|█████▎    | 83/155 [01:59<01:54,  1.60s/it]2025-01-17 19:25:38,749 - httpx - INFO - HTTP Request: POST https://api.openai.com/v1/chat/completions \"HTTP/1.1 200 OK\"\n",
      " 54%|█████▍    | 84/155 [02:00<01:42,  1.44s/it]2025-01-17 19:25:39,815 - httpx - INFO - HTTP Request: POST https://api.openai.com/v1/chat/completions \"HTTP/1.1 200 OK\"\n",
      " 55%|█████▍    | 85/155 [02:01<01:33,  1.33s/it]2025-01-17 19:25:41,248 - httpx - INFO - HTTP Request: POST https://api.openai.com/v1/chat/completions \"HTTP/1.1 200 OK\"\n",
      " 55%|█████▌    | 86/155 [02:02<01:33,  1.36s/it]2025-01-17 19:25:42,593 - httpx - INFO - HTTP Request: POST https://api.openai.com/v1/chat/completions \"HTTP/1.1 200 OK\"\n",
      " 56%|█████▌    | 87/155 [02:04<01:32,  1.36s/it]2025-01-17 19:25:45,387 - httpx - INFO - HTTP Request: POST https://api.openai.com/v1/chat/completions \"HTTP/1.1 200 OK\"\n",
      " 57%|█████▋    | 88/155 [02:07<01:59,  1.79s/it]2025-01-17 19:25:46,608 - httpx - INFO - HTTP Request: POST https://api.openai.com/v1/chat/completions \"HTTP/1.1 200 OK\"\n",
      " 57%|█████▋    | 89/155 [02:08<01:46,  1.62s/it]2025-01-17 19:25:48,009 - httpx - INFO - HTTP Request: POST https://api.openai.com/v1/chat/completions \"HTTP/1.1 200 OK\"\n",
      " 58%|█████▊    | 90/155 [02:09<01:40,  1.55s/it]2025-01-17 19:25:49,235 - httpx - INFO - HTTP Request: POST https://api.openai.com/v1/chat/completions \"HTTP/1.1 200 OK\"\n",
      " 59%|█████▊    | 91/155 [02:10<01:33,  1.45s/it]2025-01-17 19:25:50,492 - httpx - INFO - HTTP Request: POST https://api.openai.com/v1/chat/completions \"HTTP/1.1 200 OK\"\n",
      " 59%|█████▉    | 92/155 [02:12<01:27,  1.40s/it]2025-01-17 19:25:51,796 - httpx - INFO - HTTP Request: POST https://api.openai.com/v1/chat/completions \"HTTP/1.1 200 OK\"\n",
      " 60%|██████    | 93/155 [02:13<01:24,  1.37s/it]2025-01-17 19:25:57,778 - httpx - INFO - HTTP Request: POST https://api.openai.com/v1/chat/completions \"HTTP/1.1 200 OK\"\n",
      " 61%|██████    | 94/155 [02:19<02:47,  2.75s/it]2025-01-17 19:25:58,924 - httpx - INFO - HTTP Request: POST https://api.openai.com/v1/chat/completions \"HTTP/1.1 200 OK\"\n",
      " 61%|██████▏   | 95/155 [02:20<02:16,  2.27s/it]2025-01-17 19:26:00,090 - httpx - INFO - HTTP Request: POST https://api.openai.com/v1/chat/completions \"HTTP/1.1 200 OK\"\n",
      " 62%|██████▏   | 96/155 [02:21<01:54,  1.94s/it]2025-01-17 19:26:01,267 - httpx - INFO - HTTP Request: POST https://api.openai.com/v1/chat/completions \"HTTP/1.1 200 OK\"\n",
      " 63%|██████▎   | 97/155 [02:22<01:39,  1.71s/it]2025-01-17 19:26:02,492 - httpx - INFO - HTTP Request: POST https://api.openai.com/v1/chat/completions \"HTTP/1.1 200 OK\"\n",
      " 63%|██████▎   | 98/155 [02:24<01:29,  1.57s/it]2025-01-17 19:26:03,707 - httpx - INFO - HTTP Request: POST https://api.openai.com/v1/chat/completions \"HTTP/1.1 200 OK\"\n",
      " 64%|██████▍   | 99/155 [02:25<01:21,  1.46s/it]2025-01-17 19:26:05,201 - httpx - INFO - HTTP Request: POST https://api.openai.com/v1/chat/completions \"HTTP/1.1 200 OK\"\n",
      " 65%|██████▍   | 100/155 [02:26<01:20,  1.47s/it]2025-01-17 19:26:06,376 - httpx - INFO - HTTP Request: POST https://api.openai.com/v1/chat/completions \"HTTP/1.1 200 OK\"\n",
      " 65%|██████▌   | 101/155 [02:28<01:14,  1.38s/it]2025-01-17 19:26:07,749 - httpx - INFO - HTTP Request: POST https://api.openai.com/v1/chat/completions \"HTTP/1.1 200 OK\"\n",
      " 66%|██████▌   | 102/155 [02:29<01:13,  1.38s/it]2025-01-17 19:26:09,153 - httpx - INFO - HTTP Request: POST https://api.openai.com/v1/chat/completions \"HTTP/1.1 200 OK\"\n",
      " 66%|██████▋   | 103/155 [02:30<01:12,  1.39s/it]2025-01-17 19:26:10,478 - httpx - INFO - HTTP Request: POST https://api.openai.com/v1/chat/completions \"HTTP/1.1 200 OK\"\n",
      " 67%|██████▋   | 104/155 [02:32<01:09,  1.37s/it]2025-01-17 19:26:14,633 - httpx - INFO - HTTP Request: POST https://api.openai.com/v1/chat/completions \"HTTP/1.1 200 OK\"\n",
      " 68%|██████▊   | 105/155 [02:36<01:50,  2.20s/it]2025-01-17 19:26:15,965 - httpx - INFO - HTTP Request: POST https://api.openai.com/v1/chat/completions \"HTTP/1.1 200 OK\"\n",
      " 68%|██████▊   | 106/155 [02:37<01:35,  1.94s/it]2025-01-17 19:26:17,295 - httpx - INFO - HTTP Request: POST https://api.openai.com/v1/chat/completions \"HTTP/1.1 200 OK\"\n",
      " 69%|██████▉   | 107/155 [02:38<01:24,  1.76s/it]2025-01-17 19:26:18,414 - httpx - INFO - HTTP Request: POST https://api.openai.com/v1/chat/completions \"HTTP/1.1 200 OK\"\n",
      " 70%|██████▉   | 108/155 [02:40<01:13,  1.57s/it]2025-01-17 19:26:19,648 - httpx - INFO - HTTP Request: POST https://api.openai.com/v1/chat/completions \"HTTP/1.1 200 OK\"\n",
      " 70%|███████   | 109/155 [02:41<01:07,  1.47s/it]2025-01-17 19:26:20,880 - httpx - INFO - HTTP Request: POST https://api.openai.com/v1/chat/completions \"HTTP/1.1 200 OK\"\n",
      " 71%|███████   | 110/155 [02:42<01:02,  1.40s/it]2025-01-17 19:26:22,108 - httpx - INFO - HTTP Request: POST https://api.openai.com/v1/chat/completions \"HTTP/1.1 200 OK\"\n",
      " 72%|███████▏  | 111/155 [02:43<00:59,  1.35s/it]2025-01-17 19:26:23,233 - httpx - INFO - HTTP Request: POST https://api.openai.com/v1/chat/completions \"HTTP/1.1 200 OK\"\n",
      " 72%|███████▏  | 112/155 [02:44<00:55,  1.28s/it]2025-01-17 19:26:24,515 - httpx - INFO - HTTP Request: POST https://api.openai.com/v1/chat/completions \"HTTP/1.1 200 OK\"\n",
      " 73%|███████▎  | 113/155 [02:46<00:53,  1.28s/it]2025-01-17 19:26:25,795 - httpx - INFO - HTTP Request: POST https://api.openai.com/v1/chat/completions \"HTTP/1.1 200 OK\"\n",
      " 74%|███████▎  | 114/155 [02:47<00:52,  1.28s/it]2025-01-17 19:26:27,004 - httpx - INFO - HTTP Request: POST https://api.openai.com/v1/chat/completions \"HTTP/1.1 200 OK\"\n",
      " 74%|███████▍  | 115/155 [02:48<00:50,  1.26s/it]2025-01-17 19:26:28,761 - httpx - INFO - HTTP Request: POST https://api.openai.com/v1/chat/completions \"HTTP/1.1 200 OK\"\n",
      " 75%|███████▍  | 116/155 [02:50<00:54,  1.41s/it]2025-01-17 19:26:30,017 - httpx - INFO - HTTP Request: POST https://api.openai.com/v1/chat/completions \"HTTP/1.1 200 OK\"\n",
      " 75%|███████▌  | 117/155 [02:51<00:51,  1.36s/it]2025-01-17 19:26:31,426 - httpx - INFO - HTTP Request: POST https://api.openai.com/v1/chat/completions \"HTTP/1.1 200 OK\"\n",
      " 76%|███████▌  | 118/155 [02:53<00:50,  1.38s/it]2025-01-17 19:26:33,070 - httpx - INFO - HTTP Request: POST https://api.openai.com/v1/chat/completions \"HTTP/1.1 200 OK\"\n",
      " 77%|███████▋  | 119/155 [02:54<00:52,  1.46s/it]2025-01-17 19:26:34,807 - httpx - INFO - HTTP Request: POST https://api.openai.com/v1/chat/completions \"HTTP/1.1 200 OK\"\n",
      " 77%|███████▋  | 120/155 [02:56<00:53,  1.54s/it]2025-01-17 19:26:36,161 - httpx - INFO - HTTP Request: POST https://api.openai.com/v1/chat/completions \"HTTP/1.1 200 OK\"\n",
      " 78%|███████▊  | 121/155 [02:57<00:50,  1.48s/it]2025-01-17 19:26:37,262 - httpx - INFO - HTTP Request: POST https://api.openai.com/v1/chat/completions \"HTTP/1.1 200 OK\"\n",
      " 79%|███████▊  | 122/155 [02:58<00:45,  1.37s/it]2025-01-17 19:26:38,664 - httpx - INFO - HTTP Request: POST https://api.openai.com/v1/chat/completions \"HTTP/1.1 200 OK\"\n",
      " 79%|███████▉  | 123/155 [03:00<00:44,  1.38s/it]2025-01-17 19:26:40,028 - httpx - INFO - HTTP Request: POST https://api.openai.com/v1/chat/completions \"HTTP/1.1 200 OK\"\n",
      " 80%|████████  | 124/155 [03:01<00:42,  1.37s/it]2025-01-17 19:26:41,151 - httpx - INFO - HTTP Request: POST https://api.openai.com/v1/chat/completions \"HTTP/1.1 200 OK\"\n",
      " 81%|████████  | 125/155 [03:02<00:38,  1.30s/it]2025-01-17 19:26:42,383 - httpx - INFO - HTTP Request: POST https://api.openai.com/v1/chat/completions \"HTTP/1.1 200 OK\"\n",
      " 81%|████████▏ | 126/155 [03:04<00:37,  1.28s/it]2025-01-17 19:26:43,538 - httpx - INFO - HTTP Request: POST https://api.openai.com/v1/chat/completions \"HTTP/1.1 200 OK\"\n",
      " 82%|████████▏ | 127/155 [03:05<00:34,  1.24s/it]2025-01-17 19:26:45,250 - httpx - INFO - HTTP Request: POST https://api.openai.com/v1/chat/completions \"HTTP/1.1 200 OK\"\n",
      " 83%|████████▎ | 128/155 [03:06<00:37,  1.38s/it]2025-01-17 19:26:46,580 - httpx - INFO - HTTP Request: POST https://api.openai.com/v1/chat/completions \"HTTP/1.1 200 OK\"\n",
      " 83%|████████▎ | 129/155 [03:08<00:35,  1.37s/it]2025-01-17 19:26:47,914 - httpx - INFO - HTTP Request: POST https://api.openai.com/v1/chat/completions \"HTTP/1.1 200 OK\"\n",
      " 84%|████████▍ | 130/155 [03:09<00:33,  1.36s/it]2025-01-17 19:26:49,141 - httpx - INFO - HTTP Request: POST https://api.openai.com/v1/chat/completions \"HTTP/1.1 200 OK\"\n",
      " 85%|████████▍ | 131/155 [03:10<00:31,  1.32s/it]2025-01-17 19:26:50,780 - httpx - INFO - HTTP Request: POST https://api.openai.com/v1/chat/completions \"HTTP/1.1 200 OK\"\n",
      " 85%|████████▌ | 132/155 [03:12<00:32,  1.41s/it]2025-01-17 19:26:52,315 - httpx - INFO - HTTP Request: POST https://api.openai.com/v1/chat/completions \"HTTP/1.1 200 OK\"\n",
      " 86%|████████▌ | 133/155 [03:13<00:31,  1.45s/it]2025-01-17 19:26:53,749 - httpx - INFO - HTTP Request: POST https://api.openai.com/v1/chat/completions \"HTTP/1.1 200 OK\"\n",
      " 86%|████████▋ | 134/155 [03:15<00:30,  1.45s/it]2025-01-17 19:26:54,978 - httpx - INFO - HTTP Request: POST https://api.openai.com/v1/chat/completions \"HTTP/1.1 200 OK\"\n",
      " 87%|████████▋ | 135/155 [03:16<00:27,  1.38s/it]2025-01-17 19:26:56,362 - httpx - INFO - HTTP Request: POST https://api.openai.com/v1/chat/completions \"HTTP/1.1 200 OK\"\n",
      " 88%|████████▊ | 136/155 [03:18<00:26,  1.38s/it]2025-01-17 19:26:57,844 - httpx - INFO - HTTP Request: POST https://api.openai.com/v1/chat/completions \"HTTP/1.1 200 OK\"\n",
      " 88%|████████▊ | 137/155 [03:19<00:25,  1.41s/it]2025-01-17 19:26:59,074 - httpx - INFO - HTTP Request: POST https://api.openai.com/v1/chat/completions \"HTTP/1.1 200 OK\"\n",
      " 89%|████████▉ | 138/155 [03:20<00:23,  1.36s/it]2025-01-17 19:27:00,302 - httpx - INFO - HTTP Request: POST https://api.openai.com/v1/chat/completions \"HTTP/1.1 200 OK\"\n",
      " 90%|████████▉ | 139/155 [03:21<00:21,  1.32s/it]2025-01-17 19:27:01,531 - httpx - INFO - HTTP Request: POST https://api.openai.com/v1/chat/completions \"HTTP/1.1 200 OK\"\n",
      " 90%|█████████ | 140/155 [03:23<00:19,  1.29s/it]2025-01-17 19:27:02,652 - httpx - INFO - HTTP Request: POST https://api.openai.com/v1/chat/completions \"HTTP/1.1 200 OK\"\n",
      " 91%|█████████ | 141/155 [03:24<00:17,  1.24s/it]2025-01-17 19:27:04,078 - httpx - INFO - HTTP Request: POST https://api.openai.com/v1/chat/completions \"HTTP/1.1 200 OK\"\n",
      " 92%|█████████▏| 142/155 [03:25<00:16,  1.30s/it]2025-01-17 19:27:05,219 - httpx - INFO - HTTP Request: POST https://api.openai.com/v1/chat/completions \"HTTP/1.1 200 OK\"\n",
      " 92%|█████████▏| 143/155 [03:26<00:14,  1.25s/it]2025-01-17 19:27:06,547 - httpx - INFO - HTTP Request: POST https://api.openai.com/v1/chat/completions \"HTTP/1.1 200 OK\"\n",
      " 93%|█████████▎| 144/155 [03:28<00:13,  1.27s/it]2025-01-17 19:27:07,881 - httpx - INFO - HTTP Request: POST https://api.openai.com/v1/chat/completions \"HTTP/1.1 200 OK\"\n",
      " 94%|█████████▎| 145/155 [03:29<00:12,  1.29s/it]2025-01-17 19:27:08,905 - httpx - INFO - HTTP Request: POST https://api.openai.com/v1/chat/completions \"HTTP/1.1 200 OK\"\n",
      " 94%|█████████▍| 146/155 [03:30<00:10,  1.21s/it]2025-01-17 19:27:10,337 - httpx - INFO - HTTP Request: POST https://api.openai.com/v1/chat/completions \"HTTP/1.1 200 OK\"\n",
      " 95%|█████████▍| 147/155 [03:32<00:10,  1.28s/it]2025-01-17 19:27:11,565 - httpx - INFO - HTTP Request: POST https://api.openai.com/v1/chat/completions \"HTTP/1.1 200 OK\"\n",
      " 95%|█████████▌| 148/155 [03:33<00:08,  1.26s/it]2025-01-17 19:27:12,799 - httpx - INFO - HTTP Request: POST https://api.openai.com/v1/chat/completions \"HTTP/1.1 200 OK\"\n",
      " 96%|█████████▌| 149/155 [03:34<00:07,  1.25s/it]2025-01-17 19:27:14,072 - httpx - INFO - HTTP Request: POST https://api.openai.com/v1/chat/completions \"HTTP/1.1 200 OK\"\n",
      " 97%|█████████▋| 150/155 [03:35<00:06,  1.26s/it]2025-01-17 19:27:15,173 - httpx - INFO - HTTP Request: POST https://api.openai.com/v1/chat/completions \"HTTP/1.1 200 OK\"\n",
      " 97%|█████████▋| 151/155 [03:36<00:04,  1.21s/it]2025-01-17 19:27:16,326 - httpx - INFO - HTTP Request: POST https://api.openai.com/v1/chat/completions \"HTTP/1.1 200 OK\"\n",
      " 98%|█████████▊| 152/155 [03:38<00:03,  1.19s/it]2025-01-17 19:27:17,394 - httpx - INFO - HTTP Request: POST https://api.openai.com/v1/chat/completions \"HTTP/1.1 200 OK\"\n",
      " 99%|█████████▊| 153/155 [03:39<00:02,  1.16s/it]2025-01-17 19:27:18,697 - httpx - INFO - HTTP Request: POST https://api.openai.com/v1/chat/completions \"HTTP/1.1 200 OK\"\n",
      " 99%|█████████▉| 154/155 [03:40<00:01,  1.20s/it]2025-01-17 19:27:19,862 - httpx - INFO - HTTP Request: POST https://api.openai.com/v1/chat/completions \"HTTP/1.1 200 OK\"\n",
      "100%|██████████| 155/155 [03:41<00:00,  1.43s/it]\n",
      "2025-01-17 19:27:19,998 - BERTopic - Representation - Completed ✓\n",
      "2025-01-17 19:27:20,013 - BERTopic - Topic reduction - Reducing number of topics\n",
      "  0%|          | 0/20 [00:00<?, ?it/s]2025-01-17 19:27:22,934 - httpx - INFO - HTTP Request: POST https://api.openai.com/v1/chat/completions \"HTTP/1.1 200 OK\"\n",
      "  5%|▌         | 1/20 [00:01<00:31,  1.67s/it]2025-01-17 19:27:24,471 - httpx - INFO - HTTP Request: POST https://api.openai.com/v1/chat/completions \"HTTP/1.1 200 OK\"\n",
      " 10%|█         | 2/20 [00:03<00:28,  1.59s/it]2025-01-17 19:27:25,656 - httpx - INFO - HTTP Request: POST https://api.openai.com/v1/chat/completions \"HTTP/1.1 200 OK\"\n",
      " 15%|█▌        | 3/20 [00:04<00:23,  1.41s/it]2025-01-17 19:27:26,929 - httpx - INFO - HTTP Request: POST https://api.openai.com/v1/chat/completions \"HTTP/1.1 200 OK\"\n",
      " 20%|██        | 4/20 [00:05<00:21,  1.35s/it]2025-01-17 19:27:29,014 - httpx - INFO - HTTP Request: POST https://api.openai.com/v1/chat/completions \"HTTP/1.1 200 OK\"\n",
      " 25%|██▌       | 5/20 [00:07<00:24,  1.62s/it]2025-01-17 19:27:30,442 - httpx - INFO - HTTP Request: POST https://api.openai.com/v1/chat/completions \"HTTP/1.1 200 OK\"\n",
      " 30%|███       | 6/20 [00:09<00:21,  1.55s/it]2025-01-17 19:27:31,607 - httpx - INFO - HTTP Request: POST https://api.openai.com/v1/chat/completions \"HTTP/1.1 200 OK\"\n",
      " 35%|███▌      | 7/20 [00:10<00:18,  1.43s/it]2025-01-17 19:27:37,390 - httpx - INFO - HTTP Request: POST https://api.openai.com/v1/chat/completions \"HTTP/1.1 200 OK\"\n",
      " 40%|████      | 8/20 [00:16<00:33,  2.81s/it]2025-01-17 19:27:38,699 - httpx - INFO - HTTP Request: POST https://api.openai.com/v1/chat/completions \"HTTP/1.1 200 OK\"\n",
      " 45%|████▌     | 9/20 [00:17<00:25,  2.34s/it]2025-01-17 19:27:40,035 - httpx - INFO - HTTP Request: POST https://api.openai.com/v1/chat/completions \"HTTP/1.1 200 OK\"\n",
      " 50%|█████     | 10/20 [00:18<00:20,  2.03s/it]2025-01-17 19:27:41,185 - httpx - INFO - HTTP Request: POST https://api.openai.com/v1/chat/completions \"HTTP/1.1 200 OK\"\n",
      " 55%|█████▌    | 11/20 [00:19<00:15,  1.76s/it]2025-01-17 19:27:42,229 - httpx - INFO - HTTP Request: POST https://api.openai.com/v1/chat/completions \"HTTP/1.1 200 OK\"\n",
      " 60%|██████    | 12/20 [00:20<00:12,  1.54s/it]2025-01-17 19:27:43,467 - httpx - INFO - HTTP Request: POST https://api.openai.com/v1/chat/completions \"HTTP/1.1 200 OK\"\n",
      " 65%|██████▌   | 13/20 [00:22<00:10,  1.45s/it]2025-01-17 19:27:44,817 - httpx - INFO - HTTP Request: POST https://api.openai.com/v1/chat/completions \"HTTP/1.1 200 OK\"\n",
      " 70%|███████   | 14/20 [00:23<00:08,  1.42s/it]2025-01-17 19:27:46,072 - httpx - INFO - HTTP Request: POST https://api.openai.com/v1/chat/completions \"HTTP/1.1 200 OK\"\n",
      " 75%|███████▌  | 15/20 [00:24<00:06,  1.37s/it]2025-01-17 19:27:47,646 - httpx - INFO - HTTP Request: POST https://api.openai.com/v1/chat/completions \"HTTP/1.1 200 OK\"\n",
      " 80%|████████  | 16/20 [00:26<00:05,  1.43s/it]2025-01-17 19:27:48,808 - httpx - INFO - HTTP Request: POST https://api.openai.com/v1/chat/completions \"HTTP/1.1 200 OK\"\n",
      " 85%|████████▌ | 17/20 [00:27<00:04,  1.35s/it]2025-01-17 19:27:50,074 - httpx - INFO - HTTP Request: POST https://api.openai.com/v1/chat/completions \"HTTP/1.1 200 OK\"\n",
      " 90%|█████████ | 18/20 [00:28<00:02,  1.32s/it]2025-01-17 19:27:51,186 - httpx - INFO - HTTP Request: POST https://api.openai.com/v1/chat/completions \"HTTP/1.1 200 OK\"\n",
      " 95%|█████████▌| 19/20 [00:29<00:01,  1.26s/it]2025-01-17 19:27:52,732 - httpx - INFO - HTTP Request: POST https://api.openai.com/v1/chat/completions \"HTTP/1.1 200 OK\"\n",
      "100%|██████████| 20/20 [00:31<00:00,  1.57s/it]\n",
      "2025-01-17 19:27:52,845 - BERTopic - Topic reduction - Reduced number of topics from 155 to 20\n",
      "2025-01-17 19:27:53,601 - src - INFO - Outliers were successfully reduced\n",
      "huggingface/tokenizers: The current process just got forked, after parallelism has already been used. Disabling parallelism to avoid deadlocks...\n",
      "To disable this warning, you can either:\n",
      "\t- Avoid using `tokenizers` before the fork if possible\n",
      "\t- Explicitly set the environment variable TOKENIZERS_PARALLELISM=(true | false)\n"
     ]
    }
   ],
   "source": [
    "viz_df, centroids_df = (\n",
    "    viz_landscape.generate_landscape_viz(\n",
    "        uk_df,\n",
    "        min_cluster_size=50,\n",
    "        nr_topics = 20,\n",
    "        verbose=True,\n",
    "    )\n",
    ")"
   ]
  },
  {
   "cell_type": "code",
   "execution_count": 26,
   "metadata": {},
   "outputs": [],
   "source": [
    "uk_viz_df = (\n",
    "    viz_df\n",
    "    .rename(columns={\"title_narrative\": \"title\", \"text\": \"description\", \"Name\": \"category\"})\n",
    "    .assign(url = lambda df: df.iati_identifier.apply(lambda x: f\"https://datastore.iatistandard.org/activity/{x}\"))\n",
    ")"
   ]
  },
  {
   "cell_type": "code",
   "execution_count": 30,
   "metadata": {},
   "outputs": [],
   "source": [
    "import altair as alt\n",
    "\n",
    "def chart_landscape(\n",
    "    viz_df: pd.DataFrame,\n",
    "    width: int = 900,\n",
    "    height: int = 750,\n",
    "    _opacity: float = 0.5,\n",
    ") -> alt.Chart:\n",
    "    \"\"\"Generate the Crunchbase landscape visualisation\"\"\"\n",
    "    \n",
    "    # Dropdown menus\n",
    "    name_dropdown = alt.binding_select(\n",
    "        options=[None] + list(sorted(list(viz_df['category'].unique()))),\n",
    "        name=\"Category:\"\n",
    "    )\n",
    "    name_selection = alt.selection_point(\n",
    "        fields=['category'],\n",
    "        bind=name_dropdown,\n",
    "        name=\"SelectName\"\n",
    "    )\n",
    "\n",
    "    status_dropdown = alt.binding_select(\n",
    "        options=[None] + list(sorted(list(viz_df['activity_status'].unique()))),\n",
    "        name=\"Activity status:\"\n",
    "    )\n",
    "    status_selection = alt.selection_point(\n",
    "        fields=['activity_status'],\n",
    "        bind=status_dropdown,\n",
    "        name=\"ActivityStatus\"\n",
    "    )\n",
    "\n",
    "\n",
    "    return (\n",
    "        alt.Chart(viz_df, width=width, height=height)\n",
    "        .mark_point(size=30, opacity=_opacity)\n",
    "        .encode(\n",
    "            x=alt.X(\"umap_x:Q\", axis=None),\n",
    "            y=alt.Y(\"umap_y:Q\", axis=None),\n",
    "            tooltip=[\"title\", \"description_narrative\", \"recipient_country_code\", \"category\", \"min_year\", \"max_year\", \"activity_status\"],\n",
    "            color=alt.Color(\"category\", legend=alt.Legend(title=\"Category\",  labelLimit=300)),\n",
    "            #shape=alt.Shape(\"recent_project\", legend=alt.Legend(title=\"Recent project (started since 2020)\")),\n",
    "            opacity=alt.condition(\n",
    "                status_selection & name_selection, alt.value(_opacity), alt.value(0.0)\n",
    "            ),\n",
    "            href=\"url\"\n",
    "        )\n",
    "        .add_params(\n",
    "            status_selection,\n",
    "            name_selection,\n",
    "        )\n",
    "        .interactive()\n",
    "    )"
   ]
  },
  {
   "cell_type": "code",
   "execution_count": 31,
   "metadata": {},
   "outputs": [],
   "source": [
    "fig_keywords = viz_landscape.chart_keywords(centroids_df)\n",
    "fig = chart_landscape(uk_viz_df)\n",
    "\n",
    "fig_final = viz_landscape.scatter_keyword_chart(fig, fig_keywords)"
   ]
  },
  {
   "cell_type": "code",
   "execution_count": 32,
   "metadata": {},
   "outputs": [],
   "source": [
    "save_name = 'fcdo_2025_01_17'\n",
    "output_path = PROJECT_DIR / f'data/2025_01_policy_atlas/landscape_{save_name}.html'\n",
    "uk_viz_df.to_csv(PROJECT_DIR / f\"data/2025_01_policy_atlas/table_{save_name}.csv\", index=False)\n",
    "fig_final.save(str(output_path))"
   ]
  },
  {
   "cell_type": "code",
   "execution_count": 42,
   "metadata": {},
   "outputs": [],
   "source": [
    "# Generate dummy data with id and text fields, and 100 rows\n",
    "\n",
    "import random\n",
    "import string\n",
    "\n",
    "def random_string(length):\n",
    "    letters = string.ascii_lowercase\n",
    "    return ''.join(random.choice(letters) for i in range(length))\n",
    "\n",
    "dummy_data = pd.DataFrame({\n",
    "    'id': range(100),\n",
    "    'text': [random_string(100) for _ in range(100)]\n",
    "})\n",
    "dummy_data.to_csv(\"text.csv\", index=False)"
   ]
  }
 ],
 "metadata": {
  "kernelspec": {
   "display_name": "discovery-mission-radar-prototyping-ejbE0IFh-py3.11",
   "language": "python",
   "name": "python3"
  },
  "language_info": {
   "codemirror_mode": {
    "name": "ipython",
    "version": 3
   },
   "file_extension": ".py",
   "mimetype": "text/x-python",
   "name": "python",
   "nbconvert_exporter": "python",
   "pygments_lexer": "ipython3",
   "version": "3.11.10"
  }
 },
 "nbformat": 4,
 "nbformat_minor": 2
}
